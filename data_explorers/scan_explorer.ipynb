{
 "cells": [
  {
   "cell_type": "code",
   "execution_count": 1,
   "metadata": {},
   "outputs": [],
   "source": [
    "from IPython.display import display, clear_output\n",
    "from sixrixs.plotter_components import *\n",
    "\n",
    "# warning coming from ipympl\n",
    "import warnings\n",
    "warnings.filterwarnings(\"ignore\")\n",
    "\n",
    "%matplotlib widget"
   ]
  },
  {
   "cell_type": "code",
   "execution_count": 2,
   "metadata": {},
   "outputs": [
    {
     "data": {
      "application/vnd.jupyter.widget-view+json": {
       "model_id": "fa9f02013c3c49f9979c9127201bdd46",
       "version_major": 2,
       "version_minor": 0
      },
      "text/plain": [
       "VBox(children=(HBox(children=(VBox(children=(Text(value=\"since='2018-07-04'\", description='DB search'), Select…"
      ]
     },
     "metadata": {},
     "output_type": "display_data"
    }
   ],
   "source": [
    "%matplotlib widget\n",
    "\n",
    "plot_output = widgets.Output()\n",
    "\n",
    "def update_plot(change):\n",
    "    with plot_output:\n",
    "        fig, ax = plt.subplots(num=999)\n",
    "    return fig, ax\n",
    "\n",
    "fig, ax = update_plot(None)\n",
    "\n",
    "buttons  = widgets.HBox([plot_button, clear_button])\n",
    "controls_widgets = widgets.VBox([db_search_widget, select_scan_id_widget, select_x_widget, select_y_widget, use_mon_widget, select_mon_widget, buttons])\n",
    "display(widgets.VBox([widgets.HBox([controls_widgets, plot_output], layout=widgets.Layout(align_items=\"center\")), baseline_button, baseline_display]))"
   ]
  }
 ],
 "metadata": {
  "kernelspec": {
   "display_name": "Python (mark_six)",
   "language": "python",
   "name": "mark_six"
  },
  "language_info": {
   "codemirror_mode": {
    "name": "ipython",
    "version": 3
   },
   "file_extension": ".py",
   "mimetype": "text/x-python",
   "name": "python",
   "nbconvert_exporter": "python",
   "pygments_lexer": "ipython3",
   "version": "3.6.5"
  },
  "widgets": {
   "state": {
    "05c5be985e9e48cf9379149f8c41cf45": {
     "views": [
      {
       "cell_index": 4
      }
     ]
    },
    "0ee3aff37b774c359ca4953b111d0227": {
     "views": [
      {
       "cell_index": 2
      }
     ]
    },
    "658dbcafaecf472d8476d6e0798163c6": {
     "views": [
      {
       "cell_index": 3
      }
     ]
    },
    "7e5f6913fc7947f1bad90f3ddec3707a": {
     "views": [
      {
       "cell_index": 3
      }
     ]
    },
    "88be16a3d5974520875abebb798ab003": {
     "views": [
      {
       "cell_index": 3
      }
     ]
    },
    "a638f3f6741b4ed2ab8b8ea08c29b760": {
     "views": [
      {
       "cell_index": 2
      }
     ]
    },
    "d40ec661f145466a97cd55e737c3f13c": {
     "views": [
      {
       "cell_index": 2
      }
     ]
    }
   },
   "version": "1.2.0"
  }
 },
 "nbformat": 4,
 "nbformat_minor": 2
}
