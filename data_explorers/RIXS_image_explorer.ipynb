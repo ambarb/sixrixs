{
 "cells": [
  {
   "cell_type": "code",
   "execution_count": 1,
   "metadata": {},
   "outputs": [],
   "source": [
    "from IPython.display import display, clear_output\n",
    "from sixrixs.plotter_components import *\n",
    "from sixrixs.loaddata import get_array, array_to_images\n",
    "\n",
    "from matplotlib import gridspec\n",
    "\n",
    "# warning coming from ipympl\n",
    "import warnings\n",
    "warnings.filterwarnings(\"ignore\")\n",
    "\n",
    "%matplotlib widget"
   ]
  },
  {
   "cell_type": "code",
   "execution_count": 2,
   "metadata": {},
   "outputs": [],
   "source": [
    "%matplotlib widget\n",
    "# functions\n",
    "\n",
    "# widgets\n",
    "plot_image_button = widgets.Button(description='Plot')\n",
    "clear_image_button = widgets.Button(description='Clear')\n",
    "select_image_id_widget = widgets.Select(description='Select uid')\n",
    "vmin_widget = widgets.FloatText(description='vmin', value=0)\n",
    "vmax_widget = widgets.FloatText(description='vmax', value=200)\n",
    "\n",
    "\n",
    "# bindings\n",
    "def wrap_plot_rixs_image(change):\n",
    "    ax.cla()\n",
    "    cax.cla()\n",
    "    event=0\n",
    "    frame=0\n",
    "    header = select_scan_id_widget.value\n",
    "    array = get_array(header)\n",
    "    arrL, arrR = array_to_images(array)\n",
    "    image = np.hstack((arrL[event, frame], arrR[event, frame]))\n",
    "    art = ax.imshow(image, vmin=vmin_widget.value, vmax=vmax_widget.value)\n",
    "    plt.colorbar(art, cax=cax)\n",
    "\n",
    "plot_image_button.on_click(wrap_plot_rixs_image)"
   ]
  },
  {
   "cell_type": "code",
   "execution_count": 3,
   "metadata": {},
   "outputs": [
    {
     "data": {
      "application/vnd.jupyter.widget-view+json": {
       "model_id": "84e89b75206042288cc556b0213a3641",
       "version_major": 2,
       "version_minor": 0
      },
      "text/plain": [
       "VBox(children=(HBox(children=(VBox(children=(Text(value='scan_id=14870', description='DB search'), Select(desc…"
      ]
     },
     "metadata": {},
     "output_type": "display_data"
    }
   ],
   "source": [
    "plot_output = widgets.Output()\n",
    "\n",
    "def update_plot(change):\n",
    "    with plot_output:\n",
    "        fig, (ax, cax) = plt.subplots(1, 2, num=999, gridspec_kw=dict(width_ratios=[0.95, 0.05]))\n",
    "    return fig, (ax, cax)\n",
    "\n",
    "fig, (ax, cax) = update_plot(None)\n",
    "\n",
    "db_search_widget.value = 'scan_id=14870'\n",
    "\n",
    "buttons  = widgets.HBox([plot_image_button, clear_image_button])\n",
    "\n",
    "controls_widgets = widgets.VBox([db_search_widget, select_scan_id_widget, vmin_widget, vmax_widget, buttons])\n",
    "display(widgets.VBox([widgets.HBox([controls_widgets, plot_output], layout=widgets.Layout(align_items=\"center\")), baseline_button, baseline_display]))"
   ]
  },
  {
   "cell_type": "code",
   "execution_count": null,
   "metadata": {},
   "outputs": [],
   "source": []
  }
 ],
 "metadata": {
  "kernelspec": {
   "display_name": "Python (mark_six)",
   "language": "python",
   "name": "mark_six"
  },
  "language_info": {
   "codemirror_mode": {
    "name": "ipython",
    "version": 3
   },
   "file_extension": ".py",
   "mimetype": "text/x-python",
   "name": "python",
   "nbconvert_exporter": "python",
   "pygments_lexer": "ipython3",
   "version": "3.6.5"
  }
 },
 "nbformat": 4,
 "nbformat_minor": 2
}
