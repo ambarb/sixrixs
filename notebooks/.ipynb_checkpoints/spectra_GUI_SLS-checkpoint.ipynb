{
 "cells": [
  {
   "cell_type": "code",
   "execution_count": 1,
   "metadata": {
    "collapsed": true,
    "deletable": true,
    "editable": true,
    "extensions": {
     "jupyter_dashboards": {
      "version": 1,
      "views": {
       "grid_default": {
        "hidden": true
       },
       "report_default": {}
      }
     }
    },
    "scrolled": true
   },
   "outputs": [],
   "source": [
    "import numpy as np\n",
    "import pandas as pd\n",
    "\n",
    "import os, glob\n",
    "\n",
    "from collections import OrderedDict\n",
    "\n",
    "import matplotlib\n",
    "import matplotlib.pyplot as plt\n",
    "\n",
    "import ipywidgets as widgets\n",
    "from traitlets import dlink\n",
    "from IPython.display import display, clear_output\n",
    "\n",
    "import lmfit\n",
    "\n",
    "from pyrixs import process1d\n",
    "\n",
    "\n",
    "import h5py\n",
    "\n",
    "%matplotlib notebook"
   ]
  },
  {
   "cell_type": "code",
   "execution_count": 2,
   "metadata": {
    "collapsed": true,
    "deletable": true,
    "editable": true,
    "extensions": {
     "jupyter_dashboards": {
      "version": 1,
      "views": {
       "grid_default": {
        "hidden": true
       },
       "report_default": {}
      }
     }
    },
    "scrolled": false
   },
   "outputs": [],
   "source": [
    "#global Data\n",
    "Data = OrderedDict({\n",
    "'raw_spectra' : pd.Series(np.array([])),\n",
    "'shifts' : pd.Series(np.array([])),\n",
    "'reference' : '',\n",
    "'aligned_spectra' : pd.Series(np.array([])),\n",
    "'raw_spectrum' : pd.Series(np.array([])),\n",
    "'calibrated_spectrum' : pd.Series(np.array([])),\n",
    "'meta': '',\n",
    "'save_filename': '',\n",
    "'fit_result' : None\n",
    "})\n",
    "\n",
    "AXES = OrderedDict(ax1=None, ax2=None, ax3=None, ax4=None)"
   ]
  },
  {
   "cell_type": "code",
   "execution_count": 3,
   "metadata": {
    "collapsed": true,
    "deletable": true,
    "editable": true,
    "extensions": {
     "jupyter_dashboards": {
      "version": 1,
      "views": {
       "grid_default": {
        "hidden": true
       },
       "report_default": {
        "hidden": true
       }
      }
     }
    },
    "scrolled": false
   },
   "outputs": [],
   "source": [
    "## SEPARATE FUNCTIONS DEFINED HERE ##\n",
    "def get_E_pol(search_path, filename):\n",
    "    \"\"\"Get Photon energy and polarization from SLS h5 file\"\"\"\n",
    "    with h5py.File(os.path.join(search_path, filename), mode='r') as h5file:\n",
    "        ein = np.mean(h5file['entry']['instrument']['NDAttributes']['PhotonEnergy'].value)\n",
    "        temp = np.mean(h5file['entry']['instrument']['NDAttributes']['SampleTemp'].value)\n",
    "        pol10 = np.mean(h5file['entry']['instrument']['NDAttributes']['PolarMode'].value)\n",
    "    if pol10 == 0:\n",
    "        pol = 'LH'\n",
    "    elif pol10 == 1:\n",
    "        pol = 'LV'\n",
    "    return ein, pol, temp\n",
    "\n",
    "\n",
    "def check_processed(search_path,filename):\n",
    "    \"\"\"Check if spectrum has been aligned before. If so load previously used parameters.\"\"\"\n",
    "    try:\n",
    "        processed_file = open(os.path.join(search_path, filename),'r').readlines()\n",
    "        message = 'It looks like these scans have been processed!\\n'\n",
    "        message += 'The parameters that were used will be loaded.\\n\\n'\n",
    "        message_widget.value += message\n",
    "        for line in processed_file:\n",
    "            if 'Align min' in line:\n",
    "                align_min_widget.value = float(line.split('=')[-1])\n",
    "            elif 'Align max' in line:\n",
    "                align_max_widget.value = float(line.split('=')[-1])\n",
    "            elif 'Zero energy pixel ' in line:\n",
    "                zero_energy_widget.value = float(line.split('=')[-1])\n",
    "                \n",
    "    except FileNotFoundError:\n",
    "        return\n",
    "    \n",
    "# unused, but keep for now. Delete later\n",
    "def test_files_exist(folder, filenames):\n",
    "    for filename in filenames:\n",
    "        filepath = os.path.join(folder, filename)\n",
    "        assert os.path.isfile(filepath), \"{} Does not exist\".format(filepath)"
   ]
  },
  {
   "cell_type": "code",
   "execution_count": 4,
   "metadata": {
    "collapsed": true,
    "deletable": true,
    "editable": true
   },
   "outputs": [],
   "source": [
    "float??"
   ]
  },
  {
   "cell_type": "code",
   "execution_count": 5,
   "metadata": {
    "collapsed": false,
    "deletable": true,
    "editable": true,
    "extensions": {
     "jupyter_dashboards": {
      "version": 1,
      "views": {
       "grid_default": {
        "hidden": true
       },
       "report_default": {}
      }
     }
    },
    "scrolled": false
   },
   "outputs": [],
   "source": [
    "## WIDGETS DEFINED HERE ##\n",
    "\n",
    "# Folder to search images for\n",
    "input_folder_widget = widgets.Text(\n",
    "    value='test_data/',  \n",
    "    description='Input folder',\n",
    "    width='500px',\n",
    ")\n",
    "\n",
    "# Folder to search background for\n",
    "output_folder_widget = widgets.Text(\n",
    "    value='TEST/',  \n",
    "    description='Output folder',\n",
    "    width='500px',\n",
    ")\n",
    "\n",
    "ee_pix_widget = widgets.FloatText(\n",
    "    value=0.00915,  \n",
    "    description='Energy per pixel',\n",
    "    width='500px',\n",
    ")\n",
    "\n",
    "\n",
    "display_shifts_widget =widgets.HTML(\n",
    "    value=\"\",\n",
    ")\n",
    "\n",
    "output_filename_widget = widgets.Text(\n",
    "    value='file_out_name',  \n",
    "    description='Output filename',\n",
    "    width='500px',\n",
    ")\n",
    "\n",
    "scan_number_widget = widgets.Text(\n",
    "    value='0609',  \n",
    "    description='Scan number',\n",
    "    width='500px',\n",
    ")\n",
    "\n",
    "output_header_widget = widgets.Text(\n",
    "    value='description of sample and conditions',\n",
    "    description='Output header',\n",
    "    width='500px',\n",
    ")\n",
    "\n",
    "load_plot_button = widgets.Button(\n",
    "    description='Load and plot data',\n",
    ")\n",
    "\n",
    "fit_button = widgets.Button(\n",
    "    description='Fit',\n",
    ")\n",
    "\n",
    "align_min_widget = widgets.FloatText(description='Align min', value=100)\n",
    "align_max_widget = widgets.FloatText(description='Align max', value=3000)\n",
    "zero_energy_widget = widgets.FloatText(description='Zero energy pixel',value=900)\n",
    "\n",
    "reset_shifts_button = widgets.Button(description = 'Reset shifts')\n",
    "\n",
    "plot_range_widget = widgets.IntRangeSlider(\n",
    "    value=[1, 3200],\n",
    "    min=0,\n",
    "    max=3500,\n",
    "    step=10,\n",
    "    description='Plot pixel limit',\n",
    "    disabled=False,\n",
    "    continuous_update=False,\n",
    "    orientation='horizontal',\n",
    "    readout=True,\n",
    "    #readout_format='i',\n",
    "    slider_color='white',\n",
    "    color='black',\n",
    "    layout=widgets.Layout(width='50%')\n",
    ")\n",
    "\n",
    "message_widget = widgets.Textarea(description=\"Messages\", value = '', width='2000px', height='2000px')"
   ]
  },
  {
   "cell_type": "code",
   "execution_count": 6,
   "metadata": {
    "collapsed": true,
    "deletable": true,
    "editable": true,
    "extensions": {
     "jupyter_dashboards": {
      "version": 1,
      "views": {
       "grid_default": {
        "hidden": true
       },
       "report_default": {}
      }
     }
    },
    "scrolled": false
   },
   "outputs": [],
   "source": [
    "## FUNCTIONS BOUND TO WIDGETS ##\n",
    "def wrap_load_plot(change):\n",
    "\n",
    "    Data['meta'] = '# ' + output_header_widget.value + '\\n'\n",
    "    scans = scan_number_widget.value.split()\n",
    "    filenames = ['Co_' + '{:04d}_d{}.h5'.format(int(scan), det) for det in [1,2,3] for scan in scans]\n",
    "    ein, pol, temp = get_E_pol(input_folder_widget.value, filenames[0])\n",
    "    Data['save_filename'] = output_filename_widget.value + '_{:0.2f}eV_{}.dat'.format(ein,pol)\n",
    "    \n",
    "    check_processed(output_folder_widget.value,Data['save_filename'])\n",
    "    \n",
    "    Data['raw_spectra'] = process1d.load_spectra(input_folder_widget.value, filenames)\n",
    "    \n",
    "    if len(Data['raw_spectra'].columns) != len(Data['shifts']):\n",
    "        Data['shifts'] = pd.Series(data=np.zeros(len(Data['raw_spectra'].columns)), index=Data['raw_spectra'].columns)\n",
    "    else: \n",
    "        Data['shifts'].index = pd.Index(filenames)\n",
    "    \n",
    "    Data['reference'] = Data['raw_spectra'].columns[0]\n",
    "    display_shifts_widget.value = pd.DataFrame(Data['shifts'], columns=['shifts']).to_html()\n",
    "    process_plot(Data)\n",
    "    \n",
    "    message = 'Loaded \\n' + '\\n'.join(filenames) + '\\n\\n'\n",
    "    message_widget.value += message\n",
    "\n",
    "load_plot_button.on_click(wrap_load_plot)\n",
    "\n",
    "def process_plot(Data):\n",
    "    \n",
    "    #clear_output()\n",
    "\n",
    "    Data['aligned_spectra'] = process1d.apply_shifts(Data['raw_spectra'].copy(), Data['shifts'])\n",
    "\n",
    "    raw_spectrum, _ = process1d.sum_spectra(Data['aligned_spectra'], Data['shifts'])\n",
    "    Data['calibrated_spectrum'] = process1d.calibrate_spectrum(raw_spectrum.copy(), zero_energy_widget.value, \n",
    "                                                               -1*ee_pix_widget.value)\n",
    "    \n",
    "    fig = plt.figure(1, figsize=(9,9))\n",
    "    fig.clf()\n",
    "    \n",
    "    ax1 = fig.add_subplot(221)\n",
    "    art1 = process1d.plot_spectra(ax1, Data['raw_spectra'], align_min=align_min_widget.value, align_max=align_max_widget.value)\n",
    "    ax1.axvline(x=zero_energy_widget.value, linestyle=':', color='k')\n",
    "    ax1.set_xlim(plot_range_widget.value[0],plot_range_widget.value[1])\n",
    "    \n",
    "    ax2 = fig.add_subplot(222)\n",
    "    art2 = process1d.plot_shifts(ax2, Data['shifts'])\n",
    "    labels = [item.get_text() for item in ax2.get_xticklabels()]\n",
    "    ax2.set_xticklabels(labels, rotation=20)\n",
    "    \n",
    "    ax3 = fig.add_subplot(223)\n",
    "    art3 = process1d.plot_spectra(ax3, Data['aligned_spectra'])\n",
    "    ax3.set_xlim(plot_range_widget.value[0],plot_range_widget.value[1])\n",
    "    \n",
    "    ax4 = fig.add_subplot(224)\n",
    "    art4 = process1d.plot_sum(ax4, Data['calibrated_spectrum'])\n",
    "    ax4.axvline(0, linestyle=':', color='k')\n",
    "    ax4.set_xlim((plot_range_widget.value[1]-zero_energy_widget.value)*(-1)*ee_pix_widget.value,\n",
    "             (plot_range_widget.value[0]-zero_energy_widget.value)*(-1)*ee_pix_widget.value)\n",
    "    \n",
    "    ax1.legend_.remove()\n",
    "    ax3.legend_.remove()\n",
    "    \n",
    "    AXES.update(OrderedDict(ax1=ax1, ax2=ax2, ax3=ax3, ax4=ax4))\n",
    "\n",
    "def wrap_reset_shifts(change):\n",
    "    Data['shifts'] = pd.Series(data=np.zeros(len(Data['raw_spectra'].columns)), index=Data['raw_spectra'].columns)\n",
    "    display_shifts_widget.value = pd.DataFrame(Data['shifts'], columns=['shifts']).to_html()\n",
    "    process_plot(Data)\n",
    "    \n",
    "    message = \"Shifts are \\n\" + Data['shifts'].to_string() + \"\\n\\n\"\n",
    "    message_widget.value += message\n",
    "\n",
    "reset_shifts_button.on_click(wrap_reset_shifts)\n",
    "\n",
    "align_button = widgets.Button(description = 'Align')\n",
    "\n",
    "def wrap_align(change):\n",
    "\n",
    "    # Align spectra\n",
    "    Data['shifts'] = process1d.get_shifts(Data['raw_spectra'], Data['raw_spectra'][Data['reference']], \n",
    "                                  align_min=align_min_widget.value, align_max=align_max_widget.value, background=0.)\n",
    "    display_shifts_widget.value = pd.DataFrame(Data['shifts'], columns=['shifts']).to_html()\n",
    "    process_plot(Data)\n",
    "    \n",
    "    message = \"Shifts are \\n\" + Data['shifts'].to_string() + \"\\n\"\n",
    "    message_widget.value += message\n",
    "    \n",
    "\n",
    "align_button.on_click(wrap_align)\n",
    "\n",
    "save_data_button = widgets.Button(description = 'Save data')\n",
    "\n",
    "def wrap_fit(change):\n",
    "    \n",
    "    xmin, xmax, ymin, ymax = AXES['ax1'].axis()\n",
    "    spec = Data['raw_spectra'][Data['reference']]\n",
    "    cut_spec = spec[(spec.index >= xmin) & (spec.index <= xmax)]\n",
    "    \n",
    "    Data['fit_result'] = process1d.fit_elastic(cut_spec.index, cut_spec.values, xmin, xmax, ymin, ymax)\n",
    "    \n",
    "    zero_energy_widget.value = Data['fit_result'].best_values['center']\n",
    "    \n",
    "    process_plot(Data)\n",
    "    AXES['ax1'].plot(cut_spec.index, Data['fit_result'].best_fit, 'rx-')\n",
    "    \n",
    "    message = \"Fit result: \\n\"\n",
    "    message += \"\\n\".join([\"{} = {:.4f}\".format(var, val) for var, val in Data['fit_result'].best_values.items()])\n",
    "    message += \"\\n\"\n",
    "    message_widget.value += message\n",
    "\n",
    "fit_button.on_click(wrap_fit)\n",
    "\n",
    "def wrap_save_data(change):\n",
    "    \n",
    "    Data['meta'] += '# Energy per pixel = {:0.1f} meV\\n'.format(ee_pix_widget.value*1000.)\n",
    "    Data['meta'] += '# Zero energy pixel = {:0.2f}\\n'.format(zero_energy_widget.value)\n",
    "    Data['meta'] += '# Align min = {:0.2f}\\n'.format(align_min_widget.value)\n",
    "    Data['meta'] += '# Align max = {:0.2f}\\n'.format(align_max_widget.value)\n",
    "    \n",
    "    process_meta = ''.join('# {}\\t {} \\n'.format(name, shift) \n",
    "                           for name, shift in Data['shifts'].iteritems())\n",
    "\n",
    "        \n",
    "    Data['meta'] += process_meta + '# Energy (eV) Intensity\\n'\n",
    "    \n",
    "    save_filepath = os.path.join(output_folder_widget.value, Data['save_filename'])\n",
    "    process1d.save_spectrum(save_filepath, Data['calibrated_spectrum'], Data['meta'])\n",
    "    message = \"Wrote to {}\".format(save_filepath) + '\\n'\n",
    "    message_widget.value += message\n",
    "\n",
    "save_data_button.on_click(wrap_save_data)"
   ]
  },
  {
   "cell_type": "code",
   "execution_count": 7,
   "metadata": {
    "collapsed": false,
    "deletable": true,
    "editable": true,
    "extensions": {
     "jupyter_dashboards": {
      "version": 1,
      "views": {
       "grid_default": {
        "col": 0,
        "height": 40,
        "hidden": false,
        "row": 0,
        "width": 10
       },
       "report_default": {}
      }
     }
    },
    "scrolled": false
   },
   "outputs": [
    {
     "data": {
      "application/vnd.jupyter.widget-view+json": {
       "model_id": "dae1984fc940498d984a674b23400f10",
       "version_major": 2,
       "version_minor": 0
      },
      "text/plain": [
       "HBox(children=(Text(value='test_data/', description='Input folder'), Text(value='TEST/', description='Output f…"
      ]
     },
     "metadata": {},
     "output_type": "display_data"
    },
    {
     "data": {
      "application/vnd.jupyter.widget-view+json": {
       "model_id": "dc65255cb63046afb95e7b2ebdda9a89",
       "version_major": 2,
       "version_minor": 0
      },
      "text/plain": [
       "HBox(children=(Text(value='file_out_name', description='Output filename'), Text(value='0609', description='Sca…"
      ]
     },
     "metadata": {},
     "output_type": "display_data"
    },
    {
     "data": {
      "application/vnd.jupyter.widget-view+json": {
       "model_id": "287c1ebf02ec490c99922967ed569663",
       "version_major": 2,
       "version_minor": 0
      },
      "text/plain": [
       "HBox(children=(FloatText(value=900.0, description='Zero energy pixel'), FloatText(value=100.0, description='Al…"
      ]
     },
     "metadata": {},
     "output_type": "display_data"
    },
    {
     "data": {
      "application/vnd.jupyter.widget-view+json": {
       "model_id": "3835d5ab2ff24f77a802f3e1fe7f4c05",
       "version_major": 2,
       "version_minor": 0
      },
      "text/plain": [
       "HBox(children=(FloatText(value=0.00915, description='Energy per pixel'), IntRangeSlider(value=(1, 3200), conti…"
      ]
     },
     "metadata": {},
     "output_type": "display_data"
    },
    {
     "data": {
      "application/vnd.jupyter.widget-view+json": {
       "model_id": "b76a4348200a4bc68acdeb7e0b45b6bd",
       "version_major": 2,
       "version_minor": 0
      },
      "text/plain": [
       "HBox(children=(Button(description='Load and plot data', style=ButtonStyle()), Button(description='Reset shifts…"
      ]
     },
     "metadata": {},
     "output_type": "display_data"
    },
    {
     "data": {
      "application/javascript": [
       "/* Put everything inside the global mpl namespace */\n",
       "window.mpl = {};\n",
       "\n",
       "\n",
       "mpl.get_websocket_type = function() {\n",
       "    if (typeof(WebSocket) !== 'undefined') {\n",
       "        return WebSocket;\n",
       "    } else if (typeof(MozWebSocket) !== 'undefined') {\n",
       "        return MozWebSocket;\n",
       "    } else {\n",
       "        alert('Your browser does not have WebSocket support.' +\n",
       "              'Please try Chrome, Safari or Firefox ≥ 6. ' +\n",
       "              'Firefox 4 and 5 are also supported but you ' +\n",
       "              'have to enable WebSockets in about:config.');\n",
       "    };\n",
       "}\n",
       "\n",
       "mpl.figure = function(figure_id, websocket, ondownload, parent_element) {\n",
       "    this.id = figure_id;\n",
       "\n",
       "    this.ws = websocket;\n",
       "\n",
       "    this.supports_binary = (this.ws.binaryType != undefined);\n",
       "\n",
       "    if (!this.supports_binary) {\n",
       "        var warnings = document.getElementById(\"mpl-warnings\");\n",
       "        if (warnings) {\n",
       "            warnings.style.display = 'block';\n",
       "            warnings.textContent = (\n",
       "                \"This browser does not support binary websocket messages. \" +\n",
       "                    \"Performance may be slow.\");\n",
       "        }\n",
       "    }\n",
       "\n",
       "    this.imageObj = new Image();\n",
       "\n",
       "    this.context = undefined;\n",
       "    this.message = undefined;\n",
       "    this.canvas = undefined;\n",
       "    this.rubberband_canvas = undefined;\n",
       "    this.rubberband_context = undefined;\n",
       "    this.format_dropdown = undefined;\n",
       "\n",
       "    this.image_mode = 'full';\n",
       "\n",
       "    this.root = $('<div/>');\n",
       "    this._root_extra_style(this.root)\n",
       "    this.root.attr('style', 'display: inline-block');\n",
       "\n",
       "    $(parent_element).append(this.root);\n",
       "\n",
       "    this._init_header(this);\n",
       "    this._init_canvas(this);\n",
       "    this._init_toolbar(this);\n",
       "\n",
       "    var fig = this;\n",
       "\n",
       "    this.waiting = false;\n",
       "\n",
       "    this.ws.onopen =  function () {\n",
       "            fig.send_message(\"supports_binary\", {value: fig.supports_binary});\n",
       "            fig.send_message(\"send_image_mode\", {});\n",
       "            if (mpl.ratio != 1) {\n",
       "                fig.send_message(\"set_dpi_ratio\", {'dpi_ratio': mpl.ratio});\n",
       "            }\n",
       "            fig.send_message(\"refresh\", {});\n",
       "        }\n",
       "\n",
       "    this.imageObj.onload = function() {\n",
       "            if (fig.image_mode == 'full') {\n",
       "                // Full images could contain transparency (where diff images\n",
       "                // almost always do), so we need to clear the canvas so that\n",
       "                // there is no ghosting.\n",
       "                fig.context.clearRect(0, 0, fig.canvas.width, fig.canvas.height);\n",
       "            }\n",
       "            fig.context.drawImage(fig.imageObj, 0, 0);\n",
       "        };\n",
       "\n",
       "    this.imageObj.onunload = function() {\n",
       "        this.ws.close();\n",
       "    }\n",
       "\n",
       "    this.ws.onmessage = this._make_on_message_function(this);\n",
       "\n",
       "    this.ondownload = ondownload;\n",
       "}\n",
       "\n",
       "mpl.figure.prototype._init_header = function() {\n",
       "    var titlebar = $(\n",
       "        '<div class=\"ui-dialog-titlebar ui-widget-header ui-corner-all ' +\n",
       "        'ui-helper-clearfix\"/>');\n",
       "    var titletext = $(\n",
       "        '<div class=\"ui-dialog-title\" style=\"width: 100%; ' +\n",
       "        'text-align: center; padding: 3px;\"/>');\n",
       "    titlebar.append(titletext)\n",
       "    this.root.append(titlebar);\n",
       "    this.header = titletext[0];\n",
       "}\n",
       "\n",
       "\n",
       "\n",
       "mpl.figure.prototype._canvas_extra_style = function(canvas_div) {\n",
       "\n",
       "}\n",
       "\n",
       "\n",
       "mpl.figure.prototype._root_extra_style = function(canvas_div) {\n",
       "\n",
       "}\n",
       "\n",
       "mpl.figure.prototype._init_canvas = function() {\n",
       "    var fig = this;\n",
       "\n",
       "    var canvas_div = $('<div/>');\n",
       "\n",
       "    canvas_div.attr('style', 'position: relative; clear: both; outline: 0');\n",
       "\n",
       "    function canvas_keyboard_event(event) {\n",
       "        return fig.key_event(event, event['data']);\n",
       "    }\n",
       "\n",
       "    canvas_div.keydown('key_press', canvas_keyboard_event);\n",
       "    canvas_div.keyup('key_release', canvas_keyboard_event);\n",
       "    this.canvas_div = canvas_div\n",
       "    this._canvas_extra_style(canvas_div)\n",
       "    this.root.append(canvas_div);\n",
       "\n",
       "    var canvas = $('<canvas/>');\n",
       "    canvas.addClass('mpl-canvas');\n",
       "    canvas.attr('style', \"left: 0; top: 0; z-index: 0; outline: 0\")\n",
       "\n",
       "    this.canvas = canvas[0];\n",
       "    this.context = canvas[0].getContext(\"2d\");\n",
       "\n",
       "    var backingStore = this.context.backingStorePixelRatio ||\n",
       "\tthis.context.webkitBackingStorePixelRatio ||\n",
       "\tthis.context.mozBackingStorePixelRatio ||\n",
       "\tthis.context.msBackingStorePixelRatio ||\n",
       "\tthis.context.oBackingStorePixelRatio ||\n",
       "\tthis.context.backingStorePixelRatio || 1;\n",
       "\n",
       "    mpl.ratio = (window.devicePixelRatio || 1) / backingStore;\n",
       "\n",
       "    var rubberband = $('<canvas/>');\n",
       "    rubberband.attr('style', \"position: absolute; left: 0; top: 0; z-index: 1;\")\n",
       "\n",
       "    var pass_mouse_events = true;\n",
       "\n",
       "    canvas_div.resizable({\n",
       "        start: function(event, ui) {\n",
       "            pass_mouse_events = false;\n",
       "        },\n",
       "        resize: function(event, ui) {\n",
       "            fig.request_resize(ui.size.width, ui.size.height);\n",
       "        },\n",
       "        stop: function(event, ui) {\n",
       "            pass_mouse_events = true;\n",
       "            fig.request_resize(ui.size.width, ui.size.height);\n",
       "        },\n",
       "    });\n",
       "\n",
       "    function mouse_event_fn(event) {\n",
       "        if (pass_mouse_events)\n",
       "            return fig.mouse_event(event, event['data']);\n",
       "    }\n",
       "\n",
       "    rubberband.mousedown('button_press', mouse_event_fn);\n",
       "    rubberband.mouseup('button_release', mouse_event_fn);\n",
       "    // Throttle sequential mouse events to 1 every 20ms.\n",
       "    rubberband.mousemove('motion_notify', mouse_event_fn);\n",
       "\n",
       "    rubberband.mouseenter('figure_enter', mouse_event_fn);\n",
       "    rubberband.mouseleave('figure_leave', mouse_event_fn);\n",
       "\n",
       "    canvas_div.on(\"wheel\", function (event) {\n",
       "        event = event.originalEvent;\n",
       "        event['data'] = 'scroll'\n",
       "        if (event.deltaY < 0) {\n",
       "            event.step = 1;\n",
       "        } else {\n",
       "            event.step = -1;\n",
       "        }\n",
       "        mouse_event_fn(event);\n",
       "    });\n",
       "\n",
       "    canvas_div.append(canvas);\n",
       "    canvas_div.append(rubberband);\n",
       "\n",
       "    this.rubberband = rubberband;\n",
       "    this.rubberband_canvas = rubberband[0];\n",
       "    this.rubberband_context = rubberband[0].getContext(\"2d\");\n",
       "    this.rubberband_context.strokeStyle = \"#000000\";\n",
       "\n",
       "    this._resize_canvas = function(width, height) {\n",
       "        // Keep the size of the canvas, canvas container, and rubber band\n",
       "        // canvas in synch.\n",
       "        canvas_div.css('width', width)\n",
       "        canvas_div.css('height', height)\n",
       "\n",
       "        canvas.attr('width', width * mpl.ratio);\n",
       "        canvas.attr('height', height * mpl.ratio);\n",
       "        canvas.attr('style', 'width: ' + width + 'px; height: ' + height + 'px;');\n",
       "\n",
       "        rubberband.attr('width', width);\n",
       "        rubberband.attr('height', height);\n",
       "    }\n",
       "\n",
       "    // Set the figure to an initial 600x600px, this will subsequently be updated\n",
       "    // upon first draw.\n",
       "    this._resize_canvas(600, 600);\n",
       "\n",
       "    // Disable right mouse context menu.\n",
       "    $(this.rubberband_canvas).bind(\"contextmenu\",function(e){\n",
       "        return false;\n",
       "    });\n",
       "\n",
       "    function set_focus () {\n",
       "        canvas.focus();\n",
       "        canvas_div.focus();\n",
       "    }\n",
       "\n",
       "    window.setTimeout(set_focus, 100);\n",
       "}\n",
       "\n",
       "mpl.figure.prototype._init_toolbar = function() {\n",
       "    var fig = this;\n",
       "\n",
       "    var nav_element = $('<div/>')\n",
       "    nav_element.attr('style', 'width: 100%');\n",
       "    this.root.append(nav_element);\n",
       "\n",
       "    // Define a callback function for later on.\n",
       "    function toolbar_event(event) {\n",
       "        return fig.toolbar_button_onclick(event['data']);\n",
       "    }\n",
       "    function toolbar_mouse_event(event) {\n",
       "        return fig.toolbar_button_onmouseover(event['data']);\n",
       "    }\n",
       "\n",
       "    for(var toolbar_ind in mpl.toolbar_items) {\n",
       "        var name = mpl.toolbar_items[toolbar_ind][0];\n",
       "        var tooltip = mpl.toolbar_items[toolbar_ind][1];\n",
       "        var image = mpl.toolbar_items[toolbar_ind][2];\n",
       "        var method_name = mpl.toolbar_items[toolbar_ind][3];\n",
       "\n",
       "        if (!name) {\n",
       "            // put a spacer in here.\n",
       "            continue;\n",
       "        }\n",
       "        var button = $('<button/>');\n",
       "        button.addClass('ui-button ui-widget ui-state-default ui-corner-all ' +\n",
       "                        'ui-button-icon-only');\n",
       "        button.attr('role', 'button');\n",
       "        button.attr('aria-disabled', 'false');\n",
       "        button.click(method_name, toolbar_event);\n",
       "        button.mouseover(tooltip, toolbar_mouse_event);\n",
       "\n",
       "        var icon_img = $('<span/>');\n",
       "        icon_img.addClass('ui-button-icon-primary ui-icon');\n",
       "        icon_img.addClass(image);\n",
       "        icon_img.addClass('ui-corner-all');\n",
       "\n",
       "        var tooltip_span = $('<span/>');\n",
       "        tooltip_span.addClass('ui-button-text');\n",
       "        tooltip_span.html(tooltip);\n",
       "\n",
       "        button.append(icon_img);\n",
       "        button.append(tooltip_span);\n",
       "\n",
       "        nav_element.append(button);\n",
       "    }\n",
       "\n",
       "    var fmt_picker_span = $('<span/>');\n",
       "\n",
       "    var fmt_picker = $('<select/>');\n",
       "    fmt_picker.addClass('mpl-toolbar-option ui-widget ui-widget-content');\n",
       "    fmt_picker_span.append(fmt_picker);\n",
       "    nav_element.append(fmt_picker_span);\n",
       "    this.format_dropdown = fmt_picker[0];\n",
       "\n",
       "    for (var ind in mpl.extensions) {\n",
       "        var fmt = mpl.extensions[ind];\n",
       "        var option = $(\n",
       "            '<option/>', {selected: fmt === mpl.default_extension}).html(fmt);\n",
       "        fmt_picker.append(option)\n",
       "    }\n",
       "\n",
       "    // Add hover states to the ui-buttons\n",
       "    $( \".ui-button\" ).hover(\n",
       "        function() { $(this).addClass(\"ui-state-hover\");},\n",
       "        function() { $(this).removeClass(\"ui-state-hover\");}\n",
       "    );\n",
       "\n",
       "    var status_bar = $('<span class=\"mpl-message\"/>');\n",
       "    nav_element.append(status_bar);\n",
       "    this.message = status_bar[0];\n",
       "}\n",
       "\n",
       "mpl.figure.prototype.request_resize = function(x_pixels, y_pixels) {\n",
       "    // Request matplotlib to resize the figure. Matplotlib will then trigger a resize in the client,\n",
       "    // which will in turn request a refresh of the image.\n",
       "    this.send_message('resize', {'width': x_pixels, 'height': y_pixels});\n",
       "}\n",
       "\n",
       "mpl.figure.prototype.send_message = function(type, properties) {\n",
       "    properties['type'] = type;\n",
       "    properties['figure_id'] = this.id;\n",
       "    this.ws.send(JSON.stringify(properties));\n",
       "}\n",
       "\n",
       "mpl.figure.prototype.send_draw_message = function() {\n",
       "    if (!this.waiting) {\n",
       "        this.waiting = true;\n",
       "        this.ws.send(JSON.stringify({type: \"draw\", figure_id: this.id}));\n",
       "    }\n",
       "}\n",
       "\n",
       "\n",
       "mpl.figure.prototype.handle_save = function(fig, msg) {\n",
       "    var format_dropdown = fig.format_dropdown;\n",
       "    var format = format_dropdown.options[format_dropdown.selectedIndex].value;\n",
       "    fig.ondownload(fig, format);\n",
       "}\n",
       "\n",
       "\n",
       "mpl.figure.prototype.handle_resize = function(fig, msg) {\n",
       "    var size = msg['size'];\n",
       "    if (size[0] != fig.canvas.width || size[1] != fig.canvas.height) {\n",
       "        fig._resize_canvas(size[0], size[1]);\n",
       "        fig.send_message(\"refresh\", {});\n",
       "    };\n",
       "}\n",
       "\n",
       "mpl.figure.prototype.handle_rubberband = function(fig, msg) {\n",
       "    var x0 = msg['x0'] / mpl.ratio;\n",
       "    var y0 = (fig.canvas.height - msg['y0']) / mpl.ratio;\n",
       "    var x1 = msg['x1'] / mpl.ratio;\n",
       "    var y1 = (fig.canvas.height - msg['y1']) / mpl.ratio;\n",
       "    x0 = Math.floor(x0) + 0.5;\n",
       "    y0 = Math.floor(y0) + 0.5;\n",
       "    x1 = Math.floor(x1) + 0.5;\n",
       "    y1 = Math.floor(y1) + 0.5;\n",
       "    var min_x = Math.min(x0, x1);\n",
       "    var min_y = Math.min(y0, y1);\n",
       "    var width = Math.abs(x1 - x0);\n",
       "    var height = Math.abs(y1 - y0);\n",
       "\n",
       "    fig.rubberband_context.clearRect(\n",
       "        0, 0, fig.canvas.width, fig.canvas.height);\n",
       "\n",
       "    fig.rubberband_context.strokeRect(min_x, min_y, width, height);\n",
       "}\n",
       "\n",
       "mpl.figure.prototype.handle_figure_label = function(fig, msg) {\n",
       "    // Updates the figure title.\n",
       "    fig.header.textContent = msg['label'];\n",
       "}\n",
       "\n",
       "mpl.figure.prototype.handle_cursor = function(fig, msg) {\n",
       "    var cursor = msg['cursor'];\n",
       "    switch(cursor)\n",
       "    {\n",
       "    case 0:\n",
       "        cursor = 'pointer';\n",
       "        break;\n",
       "    case 1:\n",
       "        cursor = 'default';\n",
       "        break;\n",
       "    case 2:\n",
       "        cursor = 'crosshair';\n",
       "        break;\n",
       "    case 3:\n",
       "        cursor = 'move';\n",
       "        break;\n",
       "    }\n",
       "    fig.rubberband_canvas.style.cursor = cursor;\n",
       "}\n",
       "\n",
       "mpl.figure.prototype.handle_message = function(fig, msg) {\n",
       "    fig.message.textContent = msg['message'];\n",
       "}\n",
       "\n",
       "mpl.figure.prototype.handle_draw = function(fig, msg) {\n",
       "    // Request the server to send over a new figure.\n",
       "    fig.send_draw_message();\n",
       "}\n",
       "\n",
       "mpl.figure.prototype.handle_image_mode = function(fig, msg) {\n",
       "    fig.image_mode = msg['mode'];\n",
       "}\n",
       "\n",
       "mpl.figure.prototype.updated_canvas_event = function() {\n",
       "    // Called whenever the canvas gets updated.\n",
       "    this.send_message(\"ack\", {});\n",
       "}\n",
       "\n",
       "// A function to construct a web socket function for onmessage handling.\n",
       "// Called in the figure constructor.\n",
       "mpl.figure.prototype._make_on_message_function = function(fig) {\n",
       "    return function socket_on_message(evt) {\n",
       "        if (evt.data instanceof Blob) {\n",
       "            /* FIXME: We get \"Resource interpreted as Image but\n",
       "             * transferred with MIME type text/plain:\" errors on\n",
       "             * Chrome.  But how to set the MIME type?  It doesn't seem\n",
       "             * to be part of the websocket stream */\n",
       "            evt.data.type = \"image/png\";\n",
       "\n",
       "            /* Free the memory for the previous frames */\n",
       "            if (fig.imageObj.src) {\n",
       "                (window.URL || window.webkitURL).revokeObjectURL(\n",
       "                    fig.imageObj.src);\n",
       "            }\n",
       "\n",
       "            fig.imageObj.src = (window.URL || window.webkitURL).createObjectURL(\n",
       "                evt.data);\n",
       "            fig.updated_canvas_event();\n",
       "            fig.waiting = false;\n",
       "            return;\n",
       "        }\n",
       "        else if (typeof evt.data === 'string' && evt.data.slice(0, 21) == \"data:image/png;base64\") {\n",
       "            fig.imageObj.src = evt.data;\n",
       "            fig.updated_canvas_event();\n",
       "            fig.waiting = false;\n",
       "            return;\n",
       "        }\n",
       "\n",
       "        var msg = JSON.parse(evt.data);\n",
       "        var msg_type = msg['type'];\n",
       "\n",
       "        // Call the  \"handle_{type}\" callback, which takes\n",
       "        // the figure and JSON message as its only arguments.\n",
       "        try {\n",
       "            var callback = fig[\"handle_\" + msg_type];\n",
       "        } catch (e) {\n",
       "            console.log(\"No handler for the '\" + msg_type + \"' message type: \", msg);\n",
       "            return;\n",
       "        }\n",
       "\n",
       "        if (callback) {\n",
       "            try {\n",
       "                // console.log(\"Handling '\" + msg_type + \"' message: \", msg);\n",
       "                callback(fig, msg);\n",
       "            } catch (e) {\n",
       "                console.log(\"Exception inside the 'handler_\" + msg_type + \"' callback:\", e, e.stack, msg);\n",
       "            }\n",
       "        }\n",
       "    };\n",
       "}\n",
       "\n",
       "// from http://stackoverflow.com/questions/1114465/getting-mouse-location-in-canvas\n",
       "mpl.findpos = function(e) {\n",
       "    //this section is from http://www.quirksmode.org/js/events_properties.html\n",
       "    var targ;\n",
       "    if (!e)\n",
       "        e = window.event;\n",
       "    if (e.target)\n",
       "        targ = e.target;\n",
       "    else if (e.srcElement)\n",
       "        targ = e.srcElement;\n",
       "    if (targ.nodeType == 3) // defeat Safari bug\n",
       "        targ = targ.parentNode;\n",
       "\n",
       "    // jQuery normalizes the pageX and pageY\n",
       "    // pageX,Y are the mouse positions relative to the document\n",
       "    // offset() returns the position of the element relative to the document\n",
       "    var x = e.pageX - $(targ).offset().left;\n",
       "    var y = e.pageY - $(targ).offset().top;\n",
       "\n",
       "    return {\"x\": x, \"y\": y};\n",
       "};\n",
       "\n",
       "/*\n",
       " * return a copy of an object with only non-object keys\n",
       " * we need this to avoid circular references\n",
       " * http://stackoverflow.com/a/24161582/3208463\n",
       " */\n",
       "function simpleKeys (original) {\n",
       "  return Object.keys(original).reduce(function (obj, key) {\n",
       "    if (typeof original[key] !== 'object')\n",
       "        obj[key] = original[key]\n",
       "    return obj;\n",
       "  }, {});\n",
       "}\n",
       "\n",
       "mpl.figure.prototype.mouse_event = function(event, name) {\n",
       "    var canvas_pos = mpl.findpos(event)\n",
       "\n",
       "    if (name === 'button_press')\n",
       "    {\n",
       "        this.canvas.focus();\n",
       "        this.canvas_div.focus();\n",
       "    }\n",
       "\n",
       "    var x = canvas_pos.x * mpl.ratio;\n",
       "    var y = canvas_pos.y * mpl.ratio;\n",
       "\n",
       "    this.send_message(name, {x: x, y: y, button: event.button,\n",
       "                             step: event.step,\n",
       "                             guiEvent: simpleKeys(event)});\n",
       "\n",
       "    /* This prevents the web browser from automatically changing to\n",
       "     * the text insertion cursor when the button is pressed.  We want\n",
       "     * to control all of the cursor setting manually through the\n",
       "     * 'cursor' event from matplotlib */\n",
       "    event.preventDefault();\n",
       "    return false;\n",
       "}\n",
       "\n",
       "mpl.figure.prototype._key_event_extra = function(event, name) {\n",
       "    // Handle any extra behaviour associated with a key event\n",
       "}\n",
       "\n",
       "mpl.figure.prototype.key_event = function(event, name) {\n",
       "\n",
       "    // Prevent repeat events\n",
       "    if (name == 'key_press')\n",
       "    {\n",
       "        if (event.which === this._key)\n",
       "            return;\n",
       "        else\n",
       "            this._key = event.which;\n",
       "    }\n",
       "    if (name == 'key_release')\n",
       "        this._key = null;\n",
       "\n",
       "    var value = '';\n",
       "    if (event.ctrlKey && event.which != 17)\n",
       "        value += \"ctrl+\";\n",
       "    if (event.altKey && event.which != 18)\n",
       "        value += \"alt+\";\n",
       "    if (event.shiftKey && event.which != 16)\n",
       "        value += \"shift+\";\n",
       "\n",
       "    value += 'k';\n",
       "    value += event.which.toString();\n",
       "\n",
       "    this._key_event_extra(event, name);\n",
       "\n",
       "    this.send_message(name, {key: value,\n",
       "                             guiEvent: simpleKeys(event)});\n",
       "    return false;\n",
       "}\n",
       "\n",
       "mpl.figure.prototype.toolbar_button_onclick = function(name) {\n",
       "    if (name == 'download') {\n",
       "        this.handle_save(this, null);\n",
       "    } else {\n",
       "        this.send_message(\"toolbar_button\", {name: name});\n",
       "    }\n",
       "};\n",
       "\n",
       "mpl.figure.prototype.toolbar_button_onmouseover = function(tooltip) {\n",
       "    this.message.textContent = tooltip;\n",
       "};\n",
       "mpl.toolbar_items = [[\"Home\", \"Reset original view\", \"fa fa-home icon-home\", \"home\"], [\"Back\", \"Back to  previous view\", \"fa fa-arrow-left icon-arrow-left\", \"back\"], [\"Forward\", \"Forward to next view\", \"fa fa-arrow-right icon-arrow-right\", \"forward\"], [\"\", \"\", \"\", \"\"], [\"Pan\", \"Pan axes with left mouse, zoom with right\", \"fa fa-arrows icon-move\", \"pan\"], [\"Zoom\", \"Zoom to rectangle\", \"fa fa-square-o icon-check-empty\", \"zoom\"], [\"\", \"\", \"\", \"\"], [\"Download\", \"Download plot\", \"fa fa-floppy-o icon-save\", \"download\"]];\n",
       "\n",
       "mpl.extensions = [\"eps\", \"jpeg\", \"pdf\", \"png\", \"ps\", \"raw\", \"svg\", \"tif\"];\n",
       "\n",
       "mpl.default_extension = \"png\";var comm_websocket_adapter = function(comm) {\n",
       "    // Create a \"websocket\"-like object which calls the given IPython comm\n",
       "    // object with the appropriate methods. Currently this is a non binary\n",
       "    // socket, so there is still some room for performance tuning.\n",
       "    var ws = {};\n",
       "\n",
       "    ws.close = function() {\n",
       "        comm.close()\n",
       "    };\n",
       "    ws.send = function(m) {\n",
       "        //console.log('sending', m);\n",
       "        comm.send(m);\n",
       "    };\n",
       "    // Register the callback with on_msg.\n",
       "    comm.on_msg(function(msg) {\n",
       "        //console.log('receiving', msg['content']['data'], msg);\n",
       "        // Pass the mpl event to the overriden (by mpl) onmessage function.\n",
       "        ws.onmessage(msg['content']['data'])\n",
       "    });\n",
       "    return ws;\n",
       "}\n",
       "\n",
       "mpl.mpl_figure_comm = function(comm, msg) {\n",
       "    // This is the function which gets called when the mpl process\n",
       "    // starts-up an IPython Comm through the \"matplotlib\" channel.\n",
       "\n",
       "    var id = msg.content.data.id;\n",
       "    // Get hold of the div created by the display call when the Comm\n",
       "    // socket was opened in Python.\n",
       "    var element = $(\"#\" + id);\n",
       "    var ws_proxy = comm_websocket_adapter(comm)\n",
       "\n",
       "    function ondownload(figure, format) {\n",
       "        window.open(figure.imageObj.src);\n",
       "    }\n",
       "\n",
       "    var fig = new mpl.figure(id, ws_proxy,\n",
       "                           ondownload,\n",
       "                           element.get(0));\n",
       "\n",
       "    // Call onopen now - mpl needs it, as it is assuming we've passed it a real\n",
       "    // web socket which is closed, not our websocket->open comm proxy.\n",
       "    ws_proxy.onopen();\n",
       "\n",
       "    fig.parent_element = element.get(0);\n",
       "    fig.cell_info = mpl.find_output_cell(\"<div id='\" + id + \"'></div>\");\n",
       "    if (!fig.cell_info) {\n",
       "        console.error(\"Failed to find cell for figure\", id, fig);\n",
       "        return;\n",
       "    }\n",
       "\n",
       "    var output_index = fig.cell_info[2]\n",
       "    var cell = fig.cell_info[0];\n",
       "\n",
       "};\n",
       "\n",
       "mpl.figure.prototype.handle_close = function(fig, msg) {\n",
       "    var width = fig.canvas.width/mpl.ratio\n",
       "    fig.root.unbind('remove')\n",
       "\n",
       "    // Update the output cell to use the data from the current canvas.\n",
       "    fig.push_to_output();\n",
       "    var dataURL = fig.canvas.toDataURL();\n",
       "    // Re-enable the keyboard manager in IPython - without this line, in FF,\n",
       "    // the notebook keyboard shortcuts fail.\n",
       "    IPython.keyboard_manager.enable()\n",
       "    $(fig.parent_element).html('<img src=\"' + dataURL + '\" width=\"' + width + '\">');\n",
       "    fig.close_ws(fig, msg);\n",
       "}\n",
       "\n",
       "mpl.figure.prototype.close_ws = function(fig, msg){\n",
       "    fig.send_message('closing', msg);\n",
       "    // fig.ws.close()\n",
       "}\n",
       "\n",
       "mpl.figure.prototype.push_to_output = function(remove_interactive) {\n",
       "    // Turn the data on the canvas into data in the output cell.\n",
       "    var width = this.canvas.width/mpl.ratio\n",
       "    var dataURL = this.canvas.toDataURL();\n",
       "    this.cell_info[1]['text/html'] = '<img src=\"' + dataURL + '\" width=\"' + width + '\">';\n",
       "}\n",
       "\n",
       "mpl.figure.prototype.updated_canvas_event = function() {\n",
       "    // Tell IPython that the notebook contents must change.\n",
       "    IPython.notebook.set_dirty(true);\n",
       "    this.send_message(\"ack\", {});\n",
       "    var fig = this;\n",
       "    // Wait a second, then push the new image to the DOM so\n",
       "    // that it is saved nicely (might be nice to debounce this).\n",
       "    setTimeout(function () { fig.push_to_output() }, 1000);\n",
       "}\n",
       "\n",
       "mpl.figure.prototype._init_toolbar = function() {\n",
       "    var fig = this;\n",
       "\n",
       "    var nav_element = $('<div/>')\n",
       "    nav_element.attr('style', 'width: 100%');\n",
       "    this.root.append(nav_element);\n",
       "\n",
       "    // Define a callback function for later on.\n",
       "    function toolbar_event(event) {\n",
       "        return fig.toolbar_button_onclick(event['data']);\n",
       "    }\n",
       "    function toolbar_mouse_event(event) {\n",
       "        return fig.toolbar_button_onmouseover(event['data']);\n",
       "    }\n",
       "\n",
       "    for(var toolbar_ind in mpl.toolbar_items){\n",
       "        var name = mpl.toolbar_items[toolbar_ind][0];\n",
       "        var tooltip = mpl.toolbar_items[toolbar_ind][1];\n",
       "        var image = mpl.toolbar_items[toolbar_ind][2];\n",
       "        var method_name = mpl.toolbar_items[toolbar_ind][3];\n",
       "\n",
       "        if (!name) { continue; };\n",
       "\n",
       "        var button = $('<button class=\"btn btn-default\" href=\"#\" title=\"' + name + '\"><i class=\"fa ' + image + ' fa-lg\"></i></button>');\n",
       "        button.click(method_name, toolbar_event);\n",
       "        button.mouseover(tooltip, toolbar_mouse_event);\n",
       "        nav_element.append(button);\n",
       "    }\n",
       "\n",
       "    // Add the status bar.\n",
       "    var status_bar = $('<span class=\"mpl-message\" style=\"text-align:right; float: right;\"/>');\n",
       "    nav_element.append(status_bar);\n",
       "    this.message = status_bar[0];\n",
       "\n",
       "    // Add the close button to the window.\n",
       "    var buttongrp = $('<div class=\"btn-group inline pull-right\"></div>');\n",
       "    var button = $('<button class=\"btn btn-mini btn-primary\" href=\"#\" title=\"Stop Interaction\"><i class=\"fa fa-power-off icon-remove icon-large\"></i></button>');\n",
       "    button.click(function (evt) { fig.handle_close(fig, {}); } );\n",
       "    button.mouseover('Stop Interaction', toolbar_mouse_event);\n",
       "    buttongrp.append(button);\n",
       "    var titlebar = this.root.find($('.ui-dialog-titlebar'));\n",
       "    titlebar.prepend(buttongrp);\n",
       "}\n",
       "\n",
       "mpl.figure.prototype._root_extra_style = function(el){\n",
       "    var fig = this\n",
       "    el.on(\"remove\", function(){\n",
       "\tfig.close_ws(fig, {});\n",
       "    });\n",
       "}\n",
       "\n",
       "mpl.figure.prototype._canvas_extra_style = function(el){\n",
       "    // this is important to make the div 'focusable\n",
       "    el.attr('tabindex', 0)\n",
       "    // reach out to IPython and tell the keyboard manager to turn it's self\n",
       "    // off when our div gets focus\n",
       "\n",
       "    // location in version 3\n",
       "    if (IPython.notebook.keyboard_manager) {\n",
       "        IPython.notebook.keyboard_manager.register_events(el);\n",
       "    }\n",
       "    else {\n",
       "        // location in version 2\n",
       "        IPython.keyboard_manager.register_events(el);\n",
       "    }\n",
       "\n",
       "}\n",
       "\n",
       "mpl.figure.prototype._key_event_extra = function(event, name) {\n",
       "    var manager = IPython.notebook.keyboard_manager;\n",
       "    if (!manager)\n",
       "        manager = IPython.keyboard_manager;\n",
       "\n",
       "    // Check for shift+enter\n",
       "    if (event.shiftKey && event.which == 13) {\n",
       "        this.canvas_div.blur();\n",
       "        // select the cell after this one\n",
       "        var index = IPython.notebook.find_cell_index(this.cell_info[0]);\n",
       "        IPython.notebook.select(index + 1);\n",
       "    }\n",
       "}\n",
       "\n",
       "mpl.figure.prototype.handle_save = function(fig, msg) {\n",
       "    fig.ondownload(fig, null);\n",
       "}\n",
       "\n",
       "\n",
       "mpl.find_output_cell = function(html_output) {\n",
       "    // Return the cell and output element which can be found *uniquely* in the notebook.\n",
       "    // Note - this is a bit hacky, but it is done because the \"notebook_saving.Notebook\"\n",
       "    // IPython event is triggered only after the cells have been serialised, which for\n",
       "    // our purposes (turning an active figure into a static one), is too late.\n",
       "    var cells = IPython.notebook.get_cells();\n",
       "    var ncells = cells.length;\n",
       "    for (var i=0; i<ncells; i++) {\n",
       "        var cell = cells[i];\n",
       "        if (cell.cell_type === 'code'){\n",
       "            for (var j=0; j<cell.output_area.outputs.length; j++) {\n",
       "                var data = cell.output_area.outputs[j];\n",
       "                if (data.data) {\n",
       "                    // IPython >= 3 moved mimebundle to data attribute of output\n",
       "                    data = data.data;\n",
       "                }\n",
       "                if (data['text/html'] == html_output) {\n",
       "                    return [cell, data, j];\n",
       "                }\n",
       "            }\n",
       "        }\n",
       "    }\n",
       "}\n",
       "\n",
       "// Register the function which deals with the matplotlib target/channel.\n",
       "// The kernel may be null if the page has been refreshed.\n",
       "if (IPython.notebook.kernel != null) {\n",
       "    IPython.notebook.kernel.comm_manager.register_target('matplotlib', mpl.mpl_figure_comm);\n",
       "}\n"
      ],
      "text/plain": [
       "<IPython.core.display.Javascript object>"
      ]
     },
     "metadata": {},
     "output_type": "display_data"
    },
    {
     "data": {
      "text/html": [
       "<img src=\"data:image/png;base64,iVBORw0KGgoAAAANSUhEUgAAA4QAAAOECAYAAAD5Tv87AAAAAXNSR0IArs4c6QAAQABJREFUeAHs3Qe8HVW5+P11eksjlBRCQghcJEZESkgEJJQoV0CCCip4BV6MXkAl/L3oDS10kKsUAVEQDIgIKAKiIBAwUiSUUEMvSSAJqaSdXt/nmbNnZ+05u8xus8v8lp8ne83MmrK+szme56wpxlAQQAABBBBAAAEEEEAAAQQQQAABBBBAAAEEEEAAAQQQQAABBBBAAAEEEEAAAQQQQAABBBBAAAEEEEAAAQQQQAABBBBAAAEEEEAAAQQQQAABBBBAAAEEEEAAAQQQQAABBBBAAAEEEEAAAQQQQAABBBBAAAEEEEAAAQQQQAABBBBAAAEEEEAAAQQQQAABBBBAAAEEEEAAAQQQQAABBBBAAAEEEEAAAQQQQAABBBBAAAEEEEAAAQQQQAABBBBAAAEEEEAAAQQQQAABBBBAAAEEEEAAAQQQQAABBBBAAAEEEEAAAQQQQAABBBBAAAEEEEAAAQQQQAABBBBAAAEEEEAAAQQQQAABBBBAAAEEEEAAAQQQQAABBBBAAAEEEEAAAQQQQAABBBBAAAEEEEAAAQQQQAABBBBAAAEEEEAAAQQQQAABBBBAAAEEEEAAAQQQQAABBBBAAAEEEEAAAQQQQAABBBBAAAEEEEAAAQQQQAABBBBAAAEEEEAAAQQQQAABBBBAAAEEEEAAAQQQQAABBBBAAAEEEEAAAQQQQAABBBBAAAEEEEAAAQQQQAABBBBAAAEEEEAAAQQQQAABBBBAAAEEEEAAAQQQQAABBBBAAAEEEEAAAQQQQAABBBBAAAEEEEAAAQQQQAABBBBAAAEEEEAAAQQQQAABBBBAAAEEEEAAAQQQQAABBBBAAAEEEEAAAQQQQAABBBBAAAEEEEAAAQQQQAABBBBAAAEEEEAAAQQQQAABBBBAAAEEEEAAAQQQQAABBBBAAAEEEEAAAQQQQAABBBBAAAEEEEAAAQQQQAABBBBAAAEEEEAAAQQQQAABBBBAAAEEEEAAAQQQQAABBBBAAAEEEEAAAQQQQAABBBBAAAEEEEAAAQQQQAABBBBAAAEEEEAAAQQQQAABBBBAAAEEEEAAAQQQQAABBBBAAAEEEEAAAQQQQAABBBBAAAEEEEAAAQQQQAABBBBAAAEEEEAAAQQQQAABBBBAAAEEEEAAAQQQQAABBBBAAAEEEEAAAQQQQAABBBBAAAEEEEAAAQQQQAABBBBAAAEEEEAAAQQQQAABBBBAAAEEEEAAAQQQQAABBBBAAAEEEEAAAQQQQAABBBBAAAEEEEAAAQQQQAABBBBAAAEEEEAAAQQQQAABBBBAAAEEEEAAAQQQQAABBBBAAAEEEEAAAQQQQAABBBBAAAEEEEAAAQQQQAABBBBAAAEEEEAAAQQQQAABBBBAAAEEEEAAAQQQQAABBBBAAAEEEEAAAQQQQAABBBBAAAEEEEAAAQQQQAABBBBAAAEEEEAAAQQQQAABBBBAAAEEEEAAAQQQQAABBBBAAAEEEEAAAQQQQAABBBBAAAEEEEAAAQQQQAABBBBAAAEEEEAAAQQQQAABBBBAAAEEEEAAAQQQQAABBBBAAAEEEEAAAQQQQAABBBBAAAEEEEAAAQQQQAABBBBAAAEEEEAAAQQQQAABBBBAAAEEEEAAAQQQQAABBBBAAAEEEEAAAQQQQAABBBBAAAEEEEAAAQQQQAABBBBAAAEEEEAAAQQQQAABBBBAAAEEEEAAAQQQQAABBBBAAAEEEEAAAQQQQAABBBBAAAEEEEAAAQQQQAABBBBAAAEEEEAAAQQQQAABBBBAAAEEEEAAAQQQQAABBBBAAAEEEEAAAQQQQAABBBBAAAEEEEAAAQQQQAABBBBAAAEEEEAAAQQQQAABBBBAAAEEEEAAAQQQQAABBBBAAAEEEEAAAQQQQAABBBBAAAEEEEAAAQQQQAABBBBAAAEEEEAAAQQQQAABBBBAAAEEEEAAAQQQQAABBBBAAAEEEEAAAQQQQAABBBBAAAEEEEAAAQQQQAABBBBAAAEEEEAAAQQQQAABBBBAAAEEEEAAAQQQQAABBBBAAAEEEEAAAQQQQAABBBBAAAEEEEAAAQQQQAABBBBAAAEEEEAAAQQQQAABBBBAAAEEEEAAAQQQQAABBBBAAAEEEEAAAQQQQAABBBBAAAEEEEAAAQQQQAABBBBAAAEEEEAAAQQQQAABBBBAAAEEEEAAAQQQQAABBBBAAAEEEEAAAQQQQAABBBBAAAEEEEAAAQQQQAABBBBAAAEEEEAAAQQQQAABBBBAAAEEEEAAAQQQQAABBBBAAAEEEEAAAQQQQAABBBBAAAEEEEAAAQQQQAABBBBAAAEEEEAAAQQQQAABBBBAAAEEEEAAAQQQQAABBBBAAAEEEEAAAQQQQAABBBBAAAEEEEAAAQQQQAABBBBAAAEEEEAAAQQQQAABBBBAAAEEEEAAAQQQQAABBBBAAAEEEEAAAQQQQAABBBBAAAEEEEAAAQQQQAABBBBAAAEEEEAAAQQQQAABBBBAAAEEEEAAAQQQQAABBBBAAAEEEEAAAQQQQAABBBBAAAEEEEAAAQQQQAABBBBAAAEEEEAAAQQQQAABBBBAAAEEEEAAAQQQQAABBBBAAAEEEEAAAQQQQAABBBBAAAEEEEAAAQQQQAABBAIWqAh4f+wu9wJ6DkdLbM79ptkiAgggUJQCg+WoVkj0FeXR5e+g+HmfP1u2jAACxSkQ1p/3gZ6N6kD3xs7yIaDJ4LJ8bJhtIoAAAkUsMEaObXkRH18+Do2f9/lQZZsIIFDsAmH8eR/oOSEhDJQ7LztzRgY/+ugjM2TIEN87aGmRYUX91ULKCvk7e1NTf51/EUAAgVwJ5OPnzKZNm8wOO+yghxjGqyIy+nmfq/PJdhBAAIEgBUL+8z5IakNCGCh3/namyWA6CWFV1ZZj0TyShHCLBzUEEMiNAD9ncuPo3Uq6P++96zONAAIIIICALUBCaGtQD71AT0+PefLJJx2HAw44wFTZv9GGXgcABBBAAAEEEEAAgXITICEstzNKf7ISaG9vNwcddJCzjebmZhk55VrarEBZGQEEEEAAAQQQQKCoBUgIi/r0cHBBC1RUVJiJEyc6u9U6BQEEEEAAAQQQQACBchYgISzns0vf0hZobGw0r7/+etrrsQICCCCAAAIIIIAAAqUoUFmKB80xI4AAAggggAACCCCAAAIIZC9AQpi9IVtAAAEEEEAAAQQQQAABBEpSgISwJE8bB50vgba2NjN9+nQntE5BAAEEEEAAAQQQCFagp7fPPPfBJ8HuNMR74x7CEJ98uj5QoLe318ybN89ZoHUKAggggAACCCCAQHAC/1j0sbnggTfM8tUkhEGpM0KYmfRsWe15ic0SqyXuk9hVwi5zZaLPE/+wG0i9XuJ6iXUSzRL3SIyQoBRIoK6uztx+++1OaJ2CAAIIIIAAAgggEIyAJoOn3P6i+XhjezA7ZC+OACOEmX0RDpTVNJHTpFANL5V4RELfV9Ai4RZNAE9yJ+Szw6pr9SqJwyWOkdgocZ3EXyT2k6AUQKC6utocf/zxBdgzu0QAAQQQQAABBMIroJeJ6sigjqZQghUgIczM+zDPaifKtI4U7iXxhIRbNAFc6U54PofK9MkSx0k8HlmmyeObElMkFkTm8YFASQl0dnaaFStWmO22287oazwoCCCAAAIIIIBAKoHnFn/CyGAqpDwt55LR3MBqcqfFe7HzNJmnieLbEjdIbC3hFk0eayT6b1jrn/uWfHwoMbV/Mu6/eh3jECsGx23FzIwEenp6zPPPP++E1inpC3zwwQdm3bp15s039W8bFAQQQAABBBBAILXA6s1cJppaKT8tGCHM3lWT6qslnpZYZG1OLxfVyz8XS0yQ0MtKH5LQZE8zjZESnRIbJOyySiZ0WaIyWxbMSbSQ+dkJtLe3m8mTJzsbaW5uNk1NTdltMIRr83TWEJ50uowAAggggECWAtsN1kdrUAohQEKYvbreSzhJYn/Ppu60pl+T+qsS70tMk3hMItNymax4pbWyjhAus6apZiFQUVFhxo0b52xB6xQEEEAAAQQQQACB/AtMHj/cjBpab1bKA2W4jzD/3vYeuGTU1ki/rg+BOULiIIlUSdkH0matxM4SWvTewlqJYTphlRFS12WJSocs2GTF5kQNmZ++gN7ztmTJEie4/y19v1yssbF7o+nt45UfubBkGwgggAACCJSKQFVlhZlzpD6f0Rj+JB/sWSMhzMxbv6eaDB4tcbCEXhaaqoyRBnoP4ceRhgvls0vikMi0fuwqMVbiGZ2gIBA2gbda3jLD/jXMHPbyYWHrOv1FAAEEEEAg9AKHTRplbvj2nmakjBRSghPgktHMrPUyUX066FESOkLn3vOnr45okxgkoff56XsFdbRP7yG8QuI9iYcltGjbmyX08s9PJHTU71oJTQYXSFAQCJ3ATStucvr86CePhq7vdBgBBBBAAAEEjNGkcPrEkeafry410/UpHZS8CzBCmBnxKbKaPll0voSO+LnxDalr0YfG7C7xV4l3JDTx0xHBAyT0kk+3nCGVv0lo4viEhCaPX5WgFEhAHyozY8YMJ7ROQQABBBBAAAEEEAhWQC8fnbzT8GB3GuK9MUKY2clPdWmzjhJ+ycemNeM4LRI+mtMk3wL6qon777/f2Q2vnci3NttHAAEEEEAAAQQQKLQACWGhzwD7LyqB2tpac+ONNzrHpHVKsAIV3EYeLDh7QwABBBBAAIHQC5AQhv4rAIAtUFNTY2bOnGnPoo4AAggggAACCCCAQNkKcA9h2Z5aOoZA6QkwQlh654wjRgABBBBAAIHSFmCEsLTPH0efY4He3l7z5ptvOlvdbbfdTGUlfzPJMTGbQwABBBBAAAEEECgiARLCIjoZHErhBdra2sykSZOcA2lubjZNTU2FP6gSOwJNqikIIIAAAggggAACpSFAQlga54mjDFBgm222CXBv7AoBBBBAAAEEEEAAgcIJkBAWzp49F6GAjgiuWbOmCI8sHIfEPYThOM/0EgEEEEAAAQSKR4AbpIrnXHAkCCCAAAIIIIAAAggggECgAiSEgXKzMwQQSCZQUVGRbDHLEEAAAQQQQAABBHIsQEKYY1A2V9oC7e3t5vjjj3dC65RgBfr6+oLdIXtDwJ/AbGn2vMRmidUS90nsKmGXuTKhX2A7/mE3kHq9xPUS6ySaJe6RGCFBQQABBBBAoGACJIQFo2fHxSjQ09Nj7rjjDie0TkEAAQRE4EAJTeSmSEyXqJF4RML7GGJNAEdZ8S2p2+UqmThS4hgJ3eZoib9IUBBAAAEEECiYAA+VKRg9Oy5GgdraWnPVVfo7mzFapwQrwCWjwXqzN98Ch3lanijTOlK4l8QTEm7pkMpKd8LzOVSmT5Y4TuLxyLKT5FNffKqJ5oLIPD4QQAABBBAIVICEMFBudlbsAjU1NWbWrFnFfpgcHwIIFFZAkzstn/R/RP+dJjVNFNdLaNJ3joReHqpFk0cdWZynE5Hylnx+KDFVgoQwgsIHAggggECwAiSEwXqzNwQQSCLAayeS4LCoWAT0VourJZ6WWGQdlF4uqpd/LpaYIHGpxEMSmuzp9ecjJTolNkjYZZVM6LJ4pU5marhlsFvhEwEEEEAAgVwJkBDmSpLtlIVAb2+v+fBD/YO9MWPHjjWVlfq7HwUBBBCICui9hJMk9o/O6a/caU2/JvVXJd6XmCbxmEQmZbasNCeTFVkHAQQQQAABvwL8tutXinahEGhrazPjx493QusUBBBAwBK4TupHSBwkscyaH6/6gcxcK7FzZKHeW6g3Jg+LTLsf+pRRXRavXCYz9fJUN8bEa8Q8BBBAAAEEshEgIcxGj3XLUqCxsdFoUBBAAIGIgL4gU5PBoyUOltDLQlMVTd62lvg40nChfHZJHBKZ1o9dJcZKPKMTcYo+pGaTFZvjtGEWAggggAACWQlwyWhWfKxcbgJNTU2mpaWl3LpVMv3hHsKSOVVhO1C9TFSfDnqUhCZl7j1/G6WulxIMktBLO++R0NE+vYfwCon3JB6W0KJtb5a4UkIfRqOJ3rUSmgwukKAggAACCCBQEAESwoKws1MEEEAAgRISOCVyrPM9x6yvjZgroQ+N2V3iBAm9JHSFxCMS50roKJ9bzpBKr4QmjnUSmiyeKkFBAAEEEECgYAIkhAWjZ8cIIOAVYITQK8J0kQjoJaPJio4SfilZg8iydvk8LRI+mtMEAQQQQACB/AtwD2H+jdlDCQl0dHSYmTNnOqF1CgIIIIAAAggggAAC5SxAQljOZ5e+pS3Q3d1tfvvb3zqhdUqwAo+v13d5UxBAAAEEEEAAAQSCEuCS0aCk2U9JCNTU1JiLL77YOVatU4IVeHbTs8HukL0hgAACCCCAAAIhFyAhDPkXgO7HCtTW1pqzzz47diZTCCCAAAIIIIAAAgiUqQCXjJbpiaVbCCCAAAIIIIAAAggggEAqAUYIUwmxPFQCfX19Zu3atU6ft9lmG1NRkerhgqHiobMIIIAAAggggAACZSZAQlhmJ5TuZCfQ2tpqtttuO2cjzc3NRl9UT0EAAQQQQAABBBBAoFwFuGS0XM8s/UIAAQQQQAABBBBAAAEEUggwQpgCiMXhEtARQb1slIIAAggggAACCCCAQBgEGCEMw1mmjwgggAACCCCAAAIIIIBAHAESwjgozEIAAQQQQAABBBBAAAEEwiBAQhiGs0wffQt0dHSYWbNmOaF1CgIIIIAAAggggAAC5SxAQljOZ5e+pS3Q3d1trrnmGie0TkEAAQQQQAABBBBAoJwFeKhMOZ9d+pa2QE1NjTnrrLOc9bROQQABBBBAAAEEEECgnAVICMv57NK3tAVqa2vNJZdckvZ6rIAAAggggAACCCCAQCkKcMloKZ41jhkBBBBAAAEEEEAAAQQQyIEACWEOENlE+QjoOwhbWlqc4H2EmZ3X+vr6zFZkLQQQQAABBBBAAIHABUgIAydnh8Us0NraagYNGuSE1inpC1RVVaW/EmsggAACCCCAAAIIFESAhLAg7OwUAQQQQAABBBBAAAEEECi8AA+VKfw54AiKSKCxsdE0Nzc7R6R1CgIIIIAAAggggAAC5SxAQljOZ5e+pS1QUVFhmpqa0l6PFRBAAAEEEEAAAQQQKEUBLhktxbPGMSOAAAIIIIAAAggggAACORAgIcwBIpsoH4HOzk5z9tlnO6F1CgIIIIAAAggggAAC5SxAQljOZ5e+pS3Q1dVlLr30Uie0TkEAAQQQQAABBBBAoJwFuIewnM8ufUtboLq62px++unOelqnBCtw5DZHmgfWPhDsTtkbAggggAACCCAQYgF+4w3xyafrAwXq6urM1VdfPXABcwIRGFY9LJD9sBMEEEAAAQQQQACBfgEuGc3smzBbVnteYrPEaon7JHaVsEuFTFwo8bFEm8Q8iV0k7FIvE9dLrJPQdx3cIzFCgoJAKAUqjP5nQ0EAAQQQQAABBBAISoCEMDPpA2U1TeSmSEyXqJF4RMJ+X8FPZPpHEv8tsa9Ei8TDEpoEuuUqqRwpcYyEbnO0xF8kKAiEUkBf+0FBAAEEEEAAAQQQCE6AS0Yzsz7Ms9qJMq0jhXtJPCGhv9XOkrhY4n4JLd+RWCUxQ+JOiaESJ0scJ/G4hJaTJN6U0ERzgQQlYIGWlhYzaNAgZ6/6gnreSRjwCWB3CCCAAAIIIIAAAoEKMEKYG25N7rR80v9hxsvnSAm9TNQtG6XyrMTUyAxNHnVk0W7zlkx/KOG2kSoFgfAIcMloeM41PUUAAQQQQACB4hBghDD786BJ9dUST0ssimxOk0EtOiJoF512l+mnvuhug91A6nYbzyJnsk7+1XDLYLfCZ/YCjY2NZvVqHew1RusUBBBAAAEEEEAAAQTKWYCEMPuzq/cSTpLYP/tN+dqCPtBmjq+WNEpbQO9h23bbbdNejxUQQAABBBBAAAEEEChFAS4Zze6sXSerHyFxkMQya1MrI3XvE0N12l2mn7USwyJt3Q+7jTvP/rxMJvQSVTfG2AupI1DKAlwyWspnj2NHAAEEEEAAgVIUICHM7KzpQ2M0GTxa4mCJxRJ20WlN+A6xZg6R+r4Sz0TmLZTPLgm7za4yPVbCbSPVAaVD5myyQl99QcmRQGdnp7nkkkuc0DoFAQQQQAABBBBAAIFyFuCS0czOrl4mqk8HPUpCEzL3vkB9cEybRJ+E3ld4jsS7EpogXiSxQuI+CS3a9maJKyX0YTSa5F0rocngAglKAQS6urrMOefoaZPHxM6aZWprdRCXEpQAI4RBSbMfBBBAAAEEEECgX4CEMLNvwimR1eZ7VtfXRsyNzLtCPvW9hDdK6GWhT0kcJtEu4ZYzpNIroS+kr5N4WOJUCUqBBKqrq813v/tdZ+9apwQrwHsIg/VmbwgggAACCCCAAL/xZvYd0EtGUxUdJTwvEonaanJ4WiQStWF+gAJ1dXXmpptuCnCP7CqRQF9fnyFBTKTDfAQQQAABBBBAIDcC3EOYG0e2ggACORboc668zvFG2RwCCCCAAAIIIIBAjAAJYQwHEwggUCwCJITFciY4DgQQQAABBBAoZwESwnI+u/QtbYGWlhbT1NTkhNYpwQrYD5XRS0YpCCCAAAIIIIAAAvkV4B7C/Pqy9RIUaG1tLcGjLo9DthNCvz3S81VfX28qK/n7ll8z2iGAAAIIIIAAAq4Av0G5EnwiIAINDQ1m8eLFTmidUjgBP5eMrlmzxhnNnTZtWuEOlD0jgAACCCCAAAIlLEBCWMInj0PPvYCOMu24445OMOKUe990tugnIbz33nudTT755JPpbJq2CKQrMFtWeF5C3zu7WkLfJ7urhF306dMXSnwsoe+jnSexi4Rd6mVC32O7TqJZQl85NEKCggACCCCAQMEESAgLRs+OEUAgmYCfhLC3V1/jSUEg7wIHyh40kZsiMV2iRuIRCX3XrFt+IpUfSfy3xL4SehOyvltWk0C3XCWVIyWOkdBtjpb4iwQFAQQQQACBgglwD2HB6NlxMQp0dXWZ66/X3/vkBZGnnWZqavT3PkpQAvY9hH4eKuOnTVDHzn7KWuAwT+9OlGkdKdxL4gkJHR2cJXGxxP0SWr4jsUpihsSdEkMlTpY4TuJxCS0nSbwpoYnmAgkKAggggAACgQswQhg4OTssZoHOzk5zxhlnOKF1SrAC9ovo/YwQBnt07A2BqIAmd1o+6f8w4+VzpIReJuqWjVJ5VmJqZIYmj/oXJrvNWzL9oYTbRqoUBBBAAAEEghVghDBYb/ZW5AJVVVXmuOP0D/jGaJ1S3AKMEBb3+SnTo9M/pF4t8bTEokgfNRnUoiOCdtFpd5l+6l+ZNtgNpG638SwydTJDwy2D3QqfCCCAAAII5EqAhDBXkmynLAT09QV/+MMfyqIvpdiJmEtGTer3EHIPYSme5ZI/Zr2mfJLE/gH0RB9mMyeA/bALBBBAAIEQC3DJaIhPPl1HIN8C2Yzg+blkNJvt57vvbL8sBa6TXh0hcZDEMquHKyN17xNDddpdpp+1EsMibd0Pu407z/28TCp6eaobY9wFfCKAAAIIIJArARLCXEmyHQQQyKmAn2TPT5ucHhQbC6uAPjRGk8GjJQ6WWCxhF53WhO8Qa+YQqe8r8Uxk3kL57JKw2+wq02Ml3DZSjSkdMrXJCn3tBQUBBBBAAIGcCnDJaE452VipC7S0tDjvINR+LFmyxHnpean3qZSOn0tGS+lshepY9TJRvbn4KAlNytz7AvXBMW0Sen2z3ld4jsS7EpogXiSxQuI+CS3a9maJKyX0YTSa6F0rocngAgkKAggggAACBREgISwIOzstZoG1a9cW8+GF5ti4ZDQ0p7oUOnpK5CDnew5WXxsxNzLvCvnU9xLeKKGXhT4lcZhEu4RbzpCKvjxTX0hfJ/GwxKkSFAQQQAABBAomQEJYMHp2XIwCDQ0NZtGi/gcHap0SrIA9Quhnz1wy6keJNjkQ0EtGUxUdJTwvEonaanJ4WiQStWE+AggggAACgQqQEAbKzc6KXaCystJ8+tOfLvbDDMXxMUIYitNMJxFAAAEEEECgwAI8VKbAJ4DdI1DOAumO4MW8mL5PB1ySF147kdyHpQgggAACCCCAQCoBRghTCbE8VAJdXV1m7ty5Tp9PPPFEU1NTE6r+F1NnGSEsprPBsSCAAAIIIIBAuQqQEJbrmaVfGQl0dnaa733ve866xx13HAlhRoq5WYmEMDeObAUBBBBAAAEEEEgmQEKYTIdloROoqqoyRx2lT5Y3RuuUYAXsh8qQEAZrz94QQAABBBBAIJwCJIThPO/0OoFAfX29ue8+97VhCRoxu2gEuIewaE4FB4IAAggggAACJSrAQ2VK9MRx2AiUo0DMCKGPh8qk+9CacjSjTwgggAACCCCAQDYCJITZ6LEuAgjkTYBLRvNGy4YRQAABBBBAAIGoAAlhlIIKAsa0traaHXfc0QmtU7ITyGYEj4QwO3vWRgABBBBAAAEE/AhwD6EfJdqERkATmKVLlzr9zSaZCQ1YjjvKJaM5BmVzCCCAAAIIIIBACgESwhRALA6XgD5U5rnnnnM6rXVKsAJ+RgXtIyJptzWoI4AAAggggAAC6QuQEKZvxhplLKCvmthnn33KuIel0zU/ySEJYemcT44UAQQQQAABBIpTgHsIi/O8cFQIhFLATgLteiIMXjuRSIb5CCCAAAIIIICAPwFGCP050SokAt3d3eauu+5yevuNb3zDVFfzn0ihTr2fhJARwkKdHfaLAAIIIIAAAuUiwG+75XIm6UdOBDo6Osy3v/1tZ1szZswgIcxSNZuEzc+6ftpk2QVWRwABBBBAAAEEylqAhLCsTy+dS1egsrLSHHrooc5qWqcEK2CPCtr1REdBQphIhvkIIIAAAggggIA/ARJCf060ColAQ0ODefTRR0PS2+LrJgle8Z0TjggBBBBAAAEEyluAIZDyPr/0DoGSEug1vdHj9TNCGG1MBQEEEEAAAQQQQCAjARLCjNhYCQEE8iFgJ4F2PR/7YpsIIIAAAggggAACxpAQ8i1AwBJobW01n/70p53QOiVYAfuSUbue6Cj8tEm0LvMRQAABBBBAAAEEjOEeQr4FCFgCmmC88cYbzhySDQsmoKo9KmjXA9o9uykvgTrpzr4S4yQaJdZIvCSxWIKCAAIIIIAAAhEBEkK+CghYAvX19eaf//ynM0frlOwE0k2q7STQrvs5ip6eHlNVVeWnKW3KW2A/6d7pEkdK1EhslGiTGC6hSeIHEjdK/FpiswQFAQQQQACBUAtwyWioTz+d9wpoQjFt2jQnSC68OvmfTjcJ7Orqih7UO++8E61TCa3AX6Xnd0kskfiixGCJrSXGSOgo4S4SF0scIqFfmOkSFAQQQAABBEItwAhhqE8/nUeguATsEUU/yWFzc3O0A42N+vs+JeQCf5f+f01iy18KYkF0dFDjVomJEqMkKAgggAACCIRagIQw1KefznsFuru7zd/+9jdn9hFHHGGqq/lPxGuUz+mY107I/ZypyqhRW36fr6nRqwMpIRf4TRr915uF+28YTmMlmiKAAAIIIFBuAvy2W25nlP5kJdDR0WGOPvpoZxs6+kRCmBVn2ivbo4J2PdGGhgwZEl1kjy5GZ1IJs8AO0nn9q8KyCMJk+TxOQpNAvYeQggACCCCAAAIiQELI1wABS6CystJ8/vOfd+ZonRKsgJ3U+UkIY9r7GFEMtjfsrcACd8j+NfH7vcRIiUclXpc4PjJ9oXxSEEAAAQQQCL0ACWHovwIA2AINDQ3m6aeftmdRT1MgmyTNTgLteqJDyGZfibbJ/LIRmCQ9eS7Sm2Plc5HEfhL6sBl9wigJoSBQEEAAAQQQYAiE7wACCBSNgJ8k0D5YEkJbg7pHQG8q7YjMO1Q+9QmkWt6S2HLzqTOLfxBAAAEEEAivAAlheM89PUeg6ATshNBO9hIdqN3Gridqz/xQCejlof8tcYCEvl7iHxJaRkusc2r8gwACCCCAAAKGhDDzL8EXZNUHJFZI6IMLZkjYZa5M6Hw73F9I3Hb65vPrJfSXE31+/j0SIyQoBRJoa2sz++yzjxNapwQrYCd1dnKY6Chi2nMPYSKmsM7/qXT8+xLzJf4o8YqElq9IuJeSOjP4BwEEEEAAgTALcA9h5me/SVbVXzBukfhLgs1oAniStcy9fMmddZVUDpc4RmKjxHUSui29z4VSAIHe3l7zwgsvOHvWOiVYgZjXTjh/S0m+fxLC5D4hXzpf+r+NhD6Kdr2EW/RBM63uBJ8IIIAAAgiEXYCEMPNvwEOyqkayogngygQNhsr8kyWOk3g80kaTxzclpkgsiMzjI0CBurq66HsItU4JViCbBM9eN9ijZm9FLNAjx2Yng3qoS/QfCgIIIIAAAgj0C5AQ5vebME02v1pCfyHRpO8cCffelb2krg89mCfhlrek8qHEVAkSQlclwE997+Dhh+ugLaUQAn4uE7WPy04C7brdhnqoBF6S3upl+n7Knn4a0QYBBBBAAIFyFyAhzN8Z1stF9fLPxRITJC6V0BFFTfb0r9YjJTolNkjYZZVM6LJERYet7KGrwYkaMh+BQgukm6TZCaFdT9QPe/t2PVF75pe9wH1l30M6iAACCCCAQI4FSAhzDGpt7k6r/prUX5V4X2KaxGMSmZbZsuKcTFdmveQCPT095vHH+6/gPfjgg01VVVXyFViaUwE7CbTriXZiJ4F2PVF75pe9wAVl30M6iAACCCCAQI4FeMpojkGTbO4DWbZWYudIG723sFZiWGTa/RghFV2WqFwmC/T+QzfGJGrI/PQF2tvbzRe/+EUntE5JXyCbxMxel4QwfXvWGCCgP1+/K6E/N4dHluqlottH6nwggAACCCAQegFGCIP7CmjitrXEx5FdLpTPLolDJPR1E1p2lRgr8YxOJCj6oBoNSh4EKisrzWc/+1lny1qnBCtgJ4F2cpjoKOw2dj1Re+aHSmB36a3eo61PcN5R4iaJTyS+KqE/Z78jQUEAAQQQQCD0AmFMCA+Ts67v/HsqcvZPk8+ZEm9IaH29hJ8ySBrtbDUcL/U9JPQXDg29rFMTPR3t03sIr5B4T+JhCS36S8rNEldKaPtNEtdKaDK4QIJSAIGGhgbz8ssvF2DP7FIFeO0E34McCujP1rkSP5HYLOGWB6VyhzvBJwIIIIAAAmEXCOMQyP/JSR8SOfGfkc9fSOgvCJrQ6S8Qfsve0vClSOg6uq5OXyihD43ZXeKvEu9IaOK3UOIACXt07wyZ/puEJo5PSGjyqH+9piAQSoF0R/ns9nY9lHh02iuwj8z4jXemTC+XSPbgrjirMAsBBBBAAIHyFQjjCKEmfjoaqOVrEpqQnSWxp4Qmhn7LfGlYkaTxl5IscxfpTWo6KqlBQaDsBNJN0mIuGfXx9gB7+3a97CDpUCYC+sc3949/9vr/IRNr7BnUEUAAAQQQCLNAGEcI9VUPjZGTfqh8PhKpfyKf8X55iCzmIwwCbW1tZtq0aU5onRKsAAlhsN5lvje9QuM8CX3fqxZ9P6HeO/gzCb0qg4IAAggggAACIhDGhFDvHbxS4lyJyRJ/l9CifzVe5tT4J7QCvb295l//+pcTWqcEKxCTEPbp7+/Jiz0qaNeTr8XSkAj8WPqp93qvlmiQ+JeE3set9xOeLZFO+YI0fkBihYR+MWdI2GWuTOh8O/5hN5B6vcT1Eusk9D52TUr1qdIUBBBAAAEECioQxktGfyDiv5L4usQpEno/iZb/lPD+H7izgH/CI1BXV2fuvvtup8NapwQrYCd1dnKY6Chi2vtIIBNth/llKaAP7pousZ+EPjpYk8MXJfTJo+mWJlnhFYlbJP6SYGX9/4+TrGX2/eI6+yqJwyWOkdBju05Ct6XHR0EAAQQQQKBgAmFMCD8U7SPiiOsDXighF6iurjbHHKO/r1EyFbCTtHS3YSeBdj3Rdux92fVE7ZkfSoGnpdcadtHbBlrtGSnqD8lyjWRFE0B9MFi8MlRmnixxnMTjkQaaPL4pMUWCJ0tHUPhAAAEEEAheIIyXjKqy9lsvEd1fQi8FskMmKQggUAgB+7UTfvZvJ4F23c+6tCl7gcekh9vH6eW+Mi8f75aZJtvVy1PflrhBYmsJt+wllRoJe3TyLZnWP1BOlaAggAACCCBQMIEwjhDqX2PvkBgn4X1KqN7/USVBCalAT0+PWbCg/4/1U6ZMMVVVfB2C/CrYSR0jhEHKl+W+2qVXr0qcKnGXhP4h8DwJfaq03jaQy/IP2Zhe/rlYQt87e6mEjihqstcjMVJCH2i2QcIuq2RClyUqet26fe364EQNmY8AAggggECmAmFMCH8tWC9I6L0cH0toEkhBwBFob283+++vA8fy1IfmZtPUpLcOUTIVsBM8P9uwk0A/69pt7LqffdGm7AX0Z/xpErdIHCWxo4T+IVBvGXCfLi3VnJQ7ra28JnVNRN+XmCahI5WZltmy4pxMV2Y9BBBAAAEE/AiEMSHcRWD0gTLv+QGiTbgEKioqzM477+x0WuuUYAViEkIff6uxk0C7HuxRs7ciFtCneo6R+KlEt8Q0iX9L5Lt8IDtYK6E/TDQh1HsLayWGSdijhCMiy+QjbrlM5l5pLdERwmXWNFUEEEAAAQSyFtBLaMJWnpUO9//GH7ae09+UAo2Njebdd991QuuUYAVICIP1LvO9bSX901c7nCLxfYm7JXRkUC8hzXfRJFTvIdSrULQslOiSOEQnImVX+Rwr8Yw7I85nh8zbZMXmOG2YhQACCCCAQFYC1VmtXZorXyuH/QsJvW9DL+3R/5O2i17qQ0EAgQII2KN8dnKY6FBi2vPaiURMYZ2/SDqu9/R9LvJ5k3x+Q0LvH9TLSTX8lkHS0P5D4niZ3kPik0joZZ2afOpIoN5DeIWEXoXysIQWfc3EzRI62qfraJKn/1+kyWD/TctSoSCAAAIIIFAIgTAmhPp/2lr0vhK39ElFrw/UT54i4qrwiUDAAn6SwESHZCeHidowP1QCer/4JRK9Vq/14TL6CorfWfP8VPeWRv+0GrqXcd4q83QEcneJEyT0ktAVEjoSea6EjvC5RV9tpMei/x9UJ6HJYhCjlbIbCgIIIIAAAokFwpgQ6l92KQjEFdCHynzta19zlt1zzz2mvr4+bjtmJhbIJjHr7dvyu7uf7dht7Hrio2NJiAQuStDXZTJ/eoJliWbPlwX6R8NE5UuJFljz26WuD7nRoCCAAAIIIFA0AmFMCJcWjT4HUnQC+tqJBx980DkurVOyE0g3SbNHCO16oqOwt2/XE7VnftkL6EidXiqqf1nQerLC7QHJdFiGAAIIIBAagTAmhHpy9R6PWRK76YSUNySukXhfJyjhFaitrTW/+13/1WRapwQrYCeBdj3RUdhJoF1P1J75ZS/wsvRQ7w9fLaH1Pgl7ZM+d1k9uDxAECgIIIIAAAmFMCPXSnr9K6C8Lei+Jlv0kXpc4UuJRCUpIBWpqasyJJ54Y0t4Xvtt2EugnwbPb2PXC94QjKJCA3hKwJrJvrVMQQAABBBBAIIVAGBPCy8XkKon/9djo/J9JkBB6YJhEICiBdJM6u71dD+p42U/RCdi3BNj1ojtQDggBBBBAAIFiEQhjQqiXiR4b5wTcIvP0MlJKiAX0vsHXXtO3kRjzmc98xlRVcVVZkF+HmBFCXkwfJH257mtX6dgPJdzbA96Uur7u4W0JCgIIIIAAAgiIQBhfTK+XE+0R5+zrPL3vhBJiAX3K6Oc+9zkntE4JVoCEMFjvMt+bPi5YHzCzl8QrkdgzMk+XURBAAAEEEEBABMI4QqgvJ75RYieJf0to0XsIfyrhvltK51FCKFBRUWFGjx7t9FzrlGAFYl47wQhhsPjltzd9OfxlEud5unaBTOsy9520nsVMIoAAAgggEC6BMCaEF8kp3izxYwn9ZUGLvkj4fIlfSlBCLNDY2GiWL18eYoHcdj3d+/piRgj79EGQyYu9fbuefC2WhkRglPTztjh9vV3mnRlnPrMQQAABBBAIpUAYE0L9LVMfKqMxOHLWNUGkIIBADgSyScxiEsI0Rwh7e7e81D4H3WATpS8wX7pwgMR7nq7sL9NPeuYxiQACCCCAQGgFwpgQPi5n+6sSGyTsRHCITN8ncbAEBQEECiBgJ4R+dm8nn3bdz7q0KXsBfb2QPjl6L4kFkd5Okc9jJOZIfCUyTz+0LQUBBBBAAIFQCoQxIZwmZzreG8frZb7+NZkSYgF9kMx//dd/OQK///3vTX29fi0oQQnYSZ2f5DCmvY9LTIPqB/spCoFfRY7iVPnUsIu7TOfxknpbhjoCCCCAQOgEwpQQ7m6d3YlSH2lN67sFDpPg5jELJYxVfe3En//8Z6frc+fODSNBQftsJ4F2PdFBkRAmkmG+CITxKdqceAQQQAABBNIWCFNC+LLo6F+CNfSyUW9pkxn6vipKiAVqa2vNdddd5whonRKsgJ0E2sleoqOw29j1RO2ZjwACCCCAAAIIIBArEKaEcLx0Xd8j8IHEZAl9H6FbOqWyWqLHncFnOAVqamrMaaedFs7O56HX6SZpvHYiDychXJv8pnT3Tp9d3kHajZV42md7miGAAAIIIFCWAmG6pGapnMElEtrnFyR02o2PpU4yKAgUBAopEDNCmOZTRtNNPgvZT/adN4FTZMtvSvxEYrc4exkq874scYfEixJbS1AQQAABBBAItUCYRgjtEz1BJmZJuL8wvCH1ayTel6CEWEBfXfD++/1fgwkTJpjKyjD9zaTwJ95OCP0cjZ0E2nU/69KmLAUOlF7p00P18n99z2yLxCqJdomtJPTe8bUScyUmSegyCgIIIIAAAqEWCGNC+CU54/qIcb2n0L1UaD+pvy5xpMSjEpSQCrS1tZn/+I//cHrf3NxsmpqaQiqRebezSczshNCuJzoae192PVF75odCQH++a2wjoe8cHCfRIKGJ4EuR6JVPCgIIIIAAAgiIQBgTwsul3/pS+v/1fAN0/s8kSAg9MGGbHDpUryqjFELATurseqJjsdvY9UTtmR8qAU0A9d2yFAQQQAABBBBIIhDGhHA38Tg2jsktMk8vI6WEWEBHBDds2BBigcJ23R4VtOt+joqE0I8SbRBAAAEEEEAAgViBMN4gpU8X3SOWwZnSefqkUQoCCBRIwE4C7Xqiw7GTQLueqD3zEUAAAQQQQAABBGIFwjhCeJMQ3Cixk8S/Ixx6D+FPJa6MTPOBAAI5EEg3SeO1EzlAZxMIIIBAjgR6evvMc4s/Mas3t5vtBtebyeOHm6pKfYMXBQEEykkgjAnhRXICN0v8WEKfQqdlhcT5Er+UoIRYoKOjw3z/+993BH7zm9+Yurq6EGsE33U/o4L2UdkJp12321BHAAEEEEhf4B+LPjYXPPCG+XijPqS3v4waWm/mHDnRHDZplDuLTwQQKAOBMF4y2ifnTR8qM0ZCnx6ioXV97YQuo4RYoLu729x6661OaJ0SrICdEPpJ8Ow2dj3Yo2ZvRSpwnhxXY5xj0yeO6jIKAggkENBk8JTbX4xJBrXpSkkOdb4upyCAQPkIhHGE0D57OlJIQSAqUFNTY6644gpnWuuUYAXspM5ODhMdRUz7Pv6ek8gppPPnSL9/LdHq6b8mibrsQs98JhFAQAT0MlEdGYz3E1Xn6QWjunz6xJFcPso3BoEyEQhjQjhCzt3PJQ6R2E7CezF8lcyjhFSgtrbWnHnmmSHtfW66bSdp6W7RTgLteqLt2Puy64naMz9UAvqzPd7vtJ+V+Z+ESoLOIpCGgN4zaF8m6l1V/6PS5dpu6oStvYuZRgCBEhQIY0I4V87TWAm9l1CveYj3C4PMpiCAQNACdhJo1xMdh50E2vVE7ZkfCoH10kv9ua7xTuRTPpyif/AbJKEjhxQEEIgjoA+Q8VP8tvOzLdoggEBhBcKYEO4v5AdIvFxYevZejAK9vb3m44/7740YNWqUqawM4222uTsz6SZp9lNG/RyFvX277mdd2pStwCzpmY4O6rtl50hslHBLp1SWSDzjzuATAQRiBfRpon6K33Z+tkUbBBAorEAYE8KPhNx7mWhhzwJ7LxqBtrY2M2aMPmPImObmZqMvqqcEJ2CPCvpJ8Ow2dj24I2ZPRSagrw46V6JFYrHE0xI8HUoQKAj4FdBXS+jTRPUBMjrM7i36C9RIWa7tKAggUB4CYRz+0L8eXy6xY3mcQnqRa4Hq6mqjQQleICYhjPurSOwx2UmgXY9txVSIBH4ofdVLQrU8LsFvrA4F/yDgX0DfM6ivltDi/eu5O63LeR+hf1NaIlDsAmH5rde9p8Q9Hzrs876EPn2uy50Z+eQXCA9ImCZ1RLCry/uVCJNAYftKQlhY/zLY+xLpw48kHpHQ312nSujP/3jliXgzmYcAAsZ5z+AN395zwHsIdWSQ9xDyDUGg/ATCkhDqqCAFAQSKXMAe5bPriQ7bbmPXE7VnftkL6COC9YExsyX0ard7JeIVXcYTpePJMA+BiIC+fF5fLaFPE9UHyOg9g3qZKCODfEUQKD+BsCSEt8qp0//z/7HEURK1Eo9JXCDRJkFBAIEiEGCEsAhOQmkfwn1y+Bp62egmiV0lVktQEEAgAwFN/ni1RAZwrIJAiQmE6R7Cs+TcXCqhL6NfLnG6xPUSFASiAh0dHea0005zQuuUYAXshNDPnu1RQbvuZ13alLVAs/TuIAl9sIw+ZTReyGwKAggggAACCIQpIfyOnO5TJQ6TmCFxpMTxEmEykO5Skgl0d3ebX/3qV05onZK+gJ2Y2XU/W7JfO+EnObS3b9f97Is2ZSkwxOrVS1JvlNB58cJqShUBBBBAAIHwCoQpGdKX0T9knep5Utf7SEZb89KpfkEaPyCxQkK3o0mmXfSBBhdK6Evt9LJU3d8uEnbRl/3oKOU6Cf2L9j0SIyQoBRKoqakxc+bMcULrlGAF7CTQric6CjsJtOuJ2jO/7AXWSw+3i/Ryg3zqtDfc+ZFmfCCAAAIIIBBugbDcQ6hnWfva7jnd+jjJTH/r1yeVviJxi8RfJLzlJzLjRxInSOhlSxdJPCyhz3J2j+MqqR8ucYyEXtJ0nYRuaz8JSgEEamtrzfnnn1+APbNLFbCTQD8Jnt3GrqMZWoGDpeefRHqvl4xSEEAAAQQQQCCFQJgSQh2xmyth3ximI3T6RLoWCbd81a2k+NTRRnvE0W6u+5olcbHE/ZEFesnqKgkdSbxTYqjEyRLHSTwuoeUkiTclpkgskKAgECoBO6mzk8NECDHt+3SgnhJygX9Z/bfr1myqCCCAAAIIIGALhCkhvNXueKR+e5x5uZg1XjYyUkIvE3WLjgA+KzFVQhPCvSR0dNJu85ZMfyihbUgIBSHoognGxo16qiRjHzrUVFRUBH0Iod6fnQTa9UQoJISJZJgfERgmn5Ml9DJS7y0St0Xa8IEAAggggECoBcKUEJ4U4JnWZFCLjgjaRafdZfrZKaH3s9jFbmPPd+t1UtFwy2C3wmf2Aq2trWarrbZyNtTc3Gz0RfWU4AT8JIGJjsZODhO1YX6oBPTBYX+QcF9BYQ8ha52EMFRfBzqLAAIIIJBIwPsX00TtmF88ArPlUHQIy41lxXNoHAkCsQLpJml2QmjXY7e6Zcrevl3f0oJaiAV+IX3Xe7w1IdSRQv1LjxvDpU5BAAEEEEAAAREgIczP12BlZLPeJ4bqtLtMP2sl9BcVu9ht7Plu/TKp6P2HboxxF/CZvUBjY6Pp7Ox0QuuUYAViXjvh455AOwm068EeNXsrUoHt5bh+KdFapMfHYSGAAAIIIFAUAiSE+TkN+lRRTfgOsTY/ROr7SjwTmbdQPvUpp3abXWV6rITbRqoDij4UZ5MVmwe0YEbGAnrPoL5uQoP7BzNjzCYxs0cF7XqiI7H3ZdcTtWd+qAQelt7uHaoe01kEEEAAAQQyEAjTPYQZ8CRdRS9D2tlqoQ+S2UNCH3n+ocTVEudIvCuhCaK+dkLfWXifhBa95PNmiSsldB1N8q6V0GRwgQQFgdAJ2EmgXU8EYSeBdj1Re+aXvcBXrB7+Xer/J6Gv+nlNQv8AZ5e/2hMp6l+Q5WdK6MPARkkcLeH+LJeq0adPXSAxU2KYxNMSp0joz3+31EtFL2P9pkSdhCasp0p47zWXWRQEEEAAAQSCEyAhzNxa//L8T2t1Tey03CpxosQVEvpEkhsl9BeEpyQOk2iXcMsZUumVuEfC/gXBXc5nwAJ6uejZZ5/t7PWSSy4x+l5CSnACdlJHQhicexntyU7S3G6d51asT32oTJU1naqqP8tfkbhF4i9xGvPe2TgozEIAAQQQKA0BEsLMz9N8WVX/Kpyo6C8c+otIvF9G3HU0OTwtEu48Pgso0NXVZX7+8587R6AvqCchDPZk+EkC7SOKSSB93HNor0u9LAXydRvEQ6KlEa/o/w/MkrhY4v5Ig+/Ip478zZC4U4L3zgoCBQEEEECgOAVICIvzvHBUBRLQewf/53/+x9m71inZCdgJm58t2Qmhn3XtNnbdz75og0COBMbLdvQ1QvY7ZTfK9LMSUyU0IdRLTfUHit3mLZnW2wu0zQIJCgIIIIAAAgURICEsCDs7LVYBHRH8v//T244ohRCISQiNDrInL3YS2Nvbm7wxS8MioAnW1hJ/szqsI3YXSOiln3pZ6Q8lOiRyUTQZ1OK9F1Cn3WX6yXtnVYmCAAIIIFB0Avm6vKboOsoBIYBA8QvEvHYizYTQTg6Lv6ccYR4F9DL9T1vb/4zU9QFeOjp3ucSRErMlSqHocepooxvLSuGgOUYEEEAAgdISICEsrfPF0eZZQJMKvY9QgwQjz9hxNp/uCKE9Ksj5igMazll7SLcfs7r+Tanr5Zv6BFB9+NePJI6VyFVZGdmQvkPWLjrtLtNP3jtr61BHAAEEECgaARLCojkVHEgxCLS2tjoPktFLR7VOCVbATgj97NlOAu26n3VpU7YCW0nP7Ms3D5Rp+4Ewz8v0Djns/WLZliZ89jtlh8j0vhLuO2UXSl1fe2G32VWmx1ptpDqg6GWtvHd2AAszEEAAAQRyKcA9hLnUZFsIIJDVyKqd1Nn1RKx2G7ueqD3zQyGgyaA+6OUjCR2V21NijoRbBkvF+05Cd1miT947m0iG+QgggAACJS9AQljyp5AO5FKgsbHRrF+/3tmk1inBCtgjhHY90VHYSaBdT9Se+aEQeFB6ebnETyX0tQ861P+khFt2l8r77oTPT9476xOKZggggAACpSdAQlh654wjzqNARUWFGTZsWB73EK5Np5uk2UmgXU+kZm/fridqz/xQCJwrvfyLxL8kmiVOkNAnfLrl/5PKI+6Ez8/50q4iSds+WaYPs9FIVNplwWmRSNSG+QgggAACCAQuQEIYODk7RACBRAJ2EugnwbPb2PVE22d+KATWSi+/IKEvg9eEsEfCLsfIhM6nIIAAAggggIAIkBDyNUDAEujs7DSXXnqpM+ess85yHjBjLaaaZwFeO5Fn4HBtXl/VEK98Em8m8xBAAAEEEAirAAlhWM88/Y4roK+buOACfX+1MWeeeSYJYVyl/M20Rwj97MUeFbTrftalDQIIIIAAAggggAAjhHwHEIgRqK6uNqeeeqozT+uUwgn4SQ7tJNCuF+6o2TMCCCCAAAIIIFBaAvzGW1rni6PNs0BdXZ25/vrr87yX8t58pomZdz0/CSEvpi/v7xK9QwABBBBAAIH8C/Bi+vwbswcEQivgTfKSQXgTQD/r2m3serL9sAwBBBBAAAEEEEBgiwAJ4RYLagggUECBAQmh0Sf5Jy92EmjXk6/FUgQQQAABBBBAAAFXgITQleATARFoaWkxNTU1TmidEpyAN6HzJojxjsRex67Ha8s8BBBAAAEEEEAAgYEC3EM40IQ5IRfo7u4OuUDm3c8mKes1vWnv2N6fXURTWlEAAEAASURBVE97Q6yAAAIIIIAAAgiEVICEMKQnnm7HF2hoaDDLli1zFmqdEpyAd0TQOx3vSOwk0K7Ha8s8BBBAAAEEEEAAgYECJIQDTZgTYoHKykqz/fbbh1igcF33JnTe6XhHZrex6/HaMg8BBBBAAAEEEEBgoAD3EA40YQ4CCBRAwDsi6J2Od0h2EmjX47VlHgIIIIAAAggggMBAAUYIB5owJ8QCnZ2d5pprrnEETj/9dFNbWxtijfS77k3KvNPJtuhNAL3T8da1t2/X47VlHgIIIIAAAggggMBAARLCgSbMCbFAV1eX+clPfuIInHrqqSSEAX4XvAmgdzreofBi+ngqzEMAAQQQQAABBPwLkBD6t6JlCASqq6vNCSec4PRU65TgBDIZ4bPXsevBHTV7QgABBBBAAAEESluA33hL+/xx9DkWqKurM3Pnzs3xVtmcHwHvayf8JHh2G7vuZ3+0QQABBBBAAAEEEDCGh8rwLUAAgZwJZJOUeS8R9U7HO0h7f/blo/HaMg8BBBBAAAEEEEBgoAAJ4UAT5iCAQAEE7OROd09CWICTwC4RQAABBBBAIHQCJIShO+V0OJlAS0uLGTZsmBNap2Qn4E3ykm3NmwB6p+Ota2+fEcJ4QsxDAAEEEEAAAQSSC3APYXIfloZQYOPGjSHsdW66bCdo6W7RTwLo3aa9v56eHu9iphFAAAEEEEAAAQRSCJAQpgBicbgEGhoazDvvvON0WuuU4AS8CaGd7CU6CrsNCWEiJeYjgAACCCCAAAKJBUgIE9uwJIQClZWVZpdddglhzwvfZTu506PxJojxjtBeh4QwnhDzEEAAAQQQQACB5ALcQ5jch6UIIBCQwIDXTkhKmKrYCSH3EKbSYjkCCCCAAAIIIDBQgBHCgSbMCbFAV1eXufHGGx2B733ve6ampibEGul33U7Q0l3bu66fEUI7CWSEMF1x2iOAAAIIIIAAAsaQEPItQMAS6OzsND/4wQ+cOSeeeCIJoWWT76o3AfQmiPH2b7chIYwnxDwEEEAAAQQQQCC5AAlhch+WhkygqqrKfP3rX3d6rXVKdgJ2wpZqS96EMFV7XW5v3x4t9LMubRBAAAEEEEAAAQQYIeQ7gECMQH19vfnTn/4UM48J/wJ2guZ/rf6W3oTQOx1ve/b+GCGMJ8Q8BBBAAAEEEEAguQAPlUnuw1IEEAhIwE7udJckhAHBsxsEEEAAAQQQCLUACWGoTz+dR6B4BLwJ4LUfXZvy4OwkkktGU3LRAAEEEEAAAQQQGCBAQjiAhBlhFmhtbTXbb7+9E1qnZCdgJ2yptuR97cSarjWpVom5h5BLRlNy0QABBBBAAAEEEBggwENlBpAwI8wCmsCsWLHCIUgnmQmzmd33bMwyWddeh4TQPhPUEUAAAQQQQAABfwIkhP6caBUSAX2ozEsvveT0VuuU4AS8l4z62bOdEHLJqB8x2iCAAAIIIIAAArECJISxHkyFXEBfNbHHHnuEXCF33bcTtlRbzSQhtJNARghTCbMcAQQQQAABBBAYKMA9hANNmIMAAhkKpJMAeneRSUJo74+E0CvKNAIIIIAAAgggkFqAEcLURrQIkUBXV5f5wx/+4PT4+OOPNzU1NSHqfe67aidsqbaeTlt3W/Y69mihu5xPBBBAAAEEEEAAgeQCJITJfVgaMoHOzk5z0kknOb0+5phjSAgDPP+MEAaIza4QQAABBBBAAIGIAAkhXwUELAG9h/DLX/6yM0frlOAEvK+d2KVhl5Q7t0cI7XrKFWmAAAIIIIAAAggg4AiQEPJFQMAS0CeL/v3vf7fmUE1HwJuUeaeTbcvbdtKgScmaO8vsdex6yhVpgAACCCCAAAIIIOAI8FCZ/H0RzpdN93niLWt3FVK/UOJjiTaJeRKph0SkEQWBchTwXjLa29ebspt2EmjXU65IAwQQQAABBBBAAAFHgIQwv1+E12Xzo6zY39rdT6T+I4n/lthXokXiYQleficIlPAJDEgIDQlh+L4F9BgBBBBAAAEEghYgIcyveLdsfqUVayO709HBWRIXS9wv8arEdyRGS8yQoBRIoLW11eyyyy5OaJ2SnoB3lM47nWxr3rbpjhAm2zbLEEAAAQQQQAABBOILkBDGd8nVXL0EdIXEBxJ/kBgroWW8xEgJvUzULRul8qzEVHcGn8ELaFLy3nvvOeFNUII/mnDtMZMRQvtVE5yvcH1f6C0CCCCAAAII5EaAhDA3jvG2osndiRKHSZwioUngkxKDJTQZ1LKq/yP6r067y6IzPZU6mR5ihW6PkiMBfajMU0895YTWKcEJDEgIuYcwOHz2lAuB82Uj3DeeC0m2gQACCCAQqABPGc0f90PWpvWSUE0Ql0ocK/GmRKZltqw4J9OVWS+5gL5qYr/99kveiKUJBbyjdN7phCvKAu8lot7XUMRbN53tx1ufeQjkWEDvGz/U2qbeNuAW977xE2TGYomLJPS+8YkS7RIUBBBAAAEECiLACGFw7BtkV+9I7Cyh9xVqGdH/Ef1Xp91l0ZmeymUyPdSKMZ7lTCJQkgLeEULvdLxO2QmhXY/XlnkIBCDAfeMBILMLBBBAAIHcCpAQ5tYz2dYGyUJNBvU1E/rXYU38DpFwi14Guq/EM+6MBJ8dMn+TFZsTtGN2BgLd3d3mT3/6kxNap6Qn4E3KvNPJtuZNAL0jhvHWtbdv1+O1ZR4CAQhw33gAyOwCAQQQQCC3AlwymltPe2s/l4kHJPQyUX166AUSmmH8UaJP4mqJcyTelXAvH9IH0NwnQSmQQEdHhzn2WL2q15jm5mZTXc1/IkGdChLCoKTZT54E9LaAEyXelhglMUdC7xufJOHeG57ufeN1sq6GW7hn3JXgEwEEEEAgZwL8tpszygEbGiNzNPnbWmKNxFMSUyJ1+TBXSDRJ3CgxTEKXHybBvSSCUKhSWVlpDjzwQGf3WqekJ5DNKJ13Xe4hTM+e1gUXeMg6glzdNz5btqmJJQUBBBBAAIG8CZAQ5o3WfDPFpvtk+XmRSNGUxUEJNDQ0mPnz5we1u7LfjzfJS9ZhRgiT6bCsBAXs+8b/GTl+vU/8Y6svOv2yNe2tXiYzrrRm6gjhMmuaKgIIIIAAAlkLMASSNSEbQAABVyCdBNBdx/0ckBCaXndRwk97f3Y94QosQCA4gVzcN84948GdL/aEAAIIhFaAhDC0p56OI1BcAt6HyHin4x2tnQTa9XhtmYdAngX0vnG93nxHic9L3CsR777xr8j8z0jcJsF944JAQQABBBAorACXjBbWn70XmUBbW5uZOnWqc1TPPPOM0UtIKZkLpJOkZTJC2NubehQx86NnTQTSEuC+8bS4aIwAAgggUCwCJITFciY4jqIQ0ATjlVdecY6FZCP9U5JOAujd+oCEsC91smfvz657t800AgEIcN94AMjsAgEEEEAg9wIkhLk3ZYslLFBfX28eeeQRpwdap2QnkE6SNiAh5B7C7PBZGwEEEEAAAQQQ8CFAQugDiSbhEaiqqjLTp08PT4dz3NN0EkDvrr3rcg+hV4hpBBBAAAEEEEAg9wI8VCb3pmwRAQQyEMh2hDCDXbIKAggggAACCCAQegFGCEP/FQDAFuju7jYPP/ywM+tLX/qSqa7mPxHbJ1XdO8rnnU62vjch9E7HW9fevl2P15Z5CCCAAAIIIIAAAgMF+G13oAlzQizQ0dFhjjjiCEegubmZhDDA74L3ElHvdLxDsZNAux6vLfMQQAABBBBAAAEEBgqQEA40YU6IBSorK83ee+/tCGidkp5ANk9m9Y4IppsQpnektEYAAQQQQAABBBBQARJCvgcIWAL63sHnn3/emkM1HYElS5bENE9n1G5AQshTRmMsmUAAAQQQQAABBPIhwBBIPlTZJgIIpC0wf/38mHVSjRB6k03vdMzGmEAAAQQQQAABBBCIK0BCGJeFmQggkAuB9evX+97MBYsviGnbm2KEUO/3tMvTTz9tT1JHAAEEEEAAAQQQ8CFAQugDiSbhEWhrazP77befE1qnFE4g1QhhS0tL4Q6OPSOAAAIIIIAAAmUiwD2EZXIi6UZuBPShKP/+97+djWXzgJTcHE24t5JqhJCEPdzfD3qPAAIIIIAAArkRICHMjSNbKROBuro6c++99zq90TqlcAKpRgh7enoKd3DsGQEEEEAAAQQQKBMBEsIyOZF0IzcC+iL6GTNm5GZjbCUrgVQjhN3d3Vltn5URQAABBBBAAAEEjOEeQr4FCCBQFAIVpiLmOBghjOFgAgEEEEAAAQQQyIsACWFeWNloqQroZYjz5893gksSgz2LJ406ydnhtjXbOp+MEAbrz94QQAABBBBAIJwCJIThPO/0OoFAe3u7Oeigg5zQOiU4gYqK/hHCQ4cf6uyUEcLg7NkTAggggAACCIRXgHsIw3vu6XkcAU1KJk6c6CxxE5Q4zZiVB4Huvv57Amsqapyt95m+pHvhHsKkPCxEAAEEEEAAAQR8CZAQ+mKiUVgEGhsbzeuvvx6W7ua9nzU1/cmdnx319PU/NbSmsn8dRgj9qNEGAQQQQAABBBDIToBLRrPzY20EEMiRgJsQ1lbUOlv0ew9hfX29076ykh9nOToVbAYBBBBAAAEEQiTAb1AhOtl0FYFiFvBeMrqhe0PSw3Uf+lNbG0kge3uTtmchAggggAACCCCAwEABEsKBJswJsUBbW5uZPn26E1qnZCfQ15f8PkB769ERwsr+BE+Xvd3ytt0kpu5NCHVhL0lhjBETCCCAAAIIIIBAKgHuIUwlxPJQCWhCMW/ePKfPJBfBnnrvCKHufXXnarNr065xD8R9qIw7QqiN9Jxx6WhcLmYigAACCCCAAAJxBUgI47IwM6wCdXV15vbbb3e6r3VKcALxRgiT7T3eCKHOq67mx1oyN5YhgAACCCCAAAK2AL852RrUQy+gycTxxx8feodsAUaMGGFWrVpl0rpk1ESeMhp57USqY0g0QphqPZYjgAACCCCAAAIIbBHgHsItFtQQQCBLAXd0rqmpKe0tuZeMVlVURddN9i7C3//+9067d955J9reHTWMzqCCAAIIIIAAAgggkFSAEcKkPCwMm4AmFC+++KLT7T333NNUVW1JTsJmkUl/3RHBiooKZ3V32s+23EtGKyv8/Z3qj3/844DNkhAOIGEGAggggAACCCCQVICEMCkPC8Mm0N7ebiZPnux0u7m52WQy0hU2M7u/bgLoJoT2slR1NyGsMv6S8JEjR5qVK1fGbJYHAcVwMIEAAggggAACCKQU8Pen+JSboQEC5SGgicy4ceOcyCSpKQ+FzHqhyaCbkGVil+4lo1/84hedA7388sujB8wIYZSCCgIIIIAAAggg4EuAEUJfTDQKi0BjY6NZsmRJWLqb036uXbs2uj03IXRHDKMLklTcEUL7ktFk9xC6yV9NTU10q25CGp1BBQEEEEAAAQQQQCCpACOESXlYiAACfgX0clu3pPsuwN6+XvPspmed1YdVD3M3k/TTTf70Pk/3Xk/3yaNJV2QhAggggAACCCCAQFSAhDBKQQUBBHIlkO4I4ez3Z0d3PaJ2RLSe7H5Cd4RQk8/6+npnndbW1ui6VBBAAAEEEEAAAQRSC5AQpjaiRYgEdJRrxowZTtgjXiEiyLir7oidbsAeIXQTt2QbvmLpFdHF+tqJ3Rp3c6Z7Iu8mjC60Ku52dXSwpaXFWbLLLrtYLagigAACCCCAAAIIpBLgHsJUQiwPlYAmGffff7/TZzfhCBVAFp217xe0E0IdtRs8eLDvLeuooPsuQve+wngr33PPPc5sRgXj6TAPAQQQQAABBBDwJ0BC6M+JViERqK2tNTfeeKPTW61T/AusW7cu2ti9ZFRn2IlitEGSSntvu1nUsshp8dSGp8whww9J0tqYu+66K+lyFiKAAAIIIIAAAggkFiAhTGzDkhAK6BMrZ86cGcKe57bLdhJo1/3spbV3y32A5y8+38zZac6A1TZv3hydt2nTpmidCgIIIIAAAggggEB6AtxDmJ4XrRFAIE2BtBPCni0JYaJdXXPNNdFFJ5xwQrROBQEEEEAAAQQQQCA9ARLC9LxoXeYC+mCU119/3Qn7ISll3u2cd899DYRuON1XQezW1P9AmWQHtXTp0ujib3/729E6FQQQQAABBBBAAIH0BLhkND0vWpe5QFtbm5k0aZLTy+bmZtPU1FTmPc5P9+yEUJO3bbbZxveO9h6yd8q2v/3tb6Ntqqtjf4xpIm8/1CbakAoCCCCAAAIIIIDAAAFGCAeQMCPsApq8pJPAhN1reftyoy+Wz2U5aKuDfG/OfoCNrnT99df7XpeGCCCAAAIIIIBA2AVICMP+DaD/MQI6IrhmzRonGB2MoYk7cd+a+8yYp8eYk944Ke5yd6a+PiLRKyRe3PSi2yz6mc59h6NGjYqup5WrrroqZpoJBBBAAAEEEEAAgcQCJISJbViCAAIpBC5afJHT4raVtyVtWfN4jal+vNqs6VwzoN1NK26KmffLX/7SPPHUE9F53uRw8eLF0WWjR4+O1t2KvdydxycCCCCAAAIIIIBAfAESwvguzEWgbAQ0oXrxxRfNwoULjf26Bm8Hly9fbt5++21jP0xH5+l6buj6P1vyMzP5+clmY/fG6AvkJ1ZNjNncqW+dGjM9tnKsM/3r5b+Ozu/q6jJvvPGG+WTNJ9F5Wjn99NNjLkGdt25ezPLzzz+/f3q6MasuXGUWt21JEGMaMoEAAggggAACCCCQUqAiZQsaBCFwmuzkTImREq9I/FDiOQk/ZYg02ijFDBmiVX+lpcWYQYP628qzU+ThKf7WK/dW7e3t5uSTT3a6efPNN5v6+vpolzs6OsyyZcvMiBEjxC6CJ0tXr15tWltbzbhx44z3fjZdWRMsfbCKnp+tt946ur1kFb1sVR9qs+OOO8bdZrJ1vcv0u/Hee+9FZ++11176hTFr1641+t5F3Ve8su2228ZdtveG/oe+3DDmBtO0ucm0dLeYfWr2iW5Cj3ta9zRzWeNlZnqtZG1WeWDYA6bvvT6zbee2ZuroqdEl0zdON+v71vdPHyofn5X4RXRxtNJ+ULsZN3qc+fGPf2zumnyXeaP7DXNu47mm69EuM2fOlvcV6rsJBw8eHF2PSmEE8vFzRs/t0KFDtUP6Tym+hDLrn/ePvrTYHLT7OFNVyf+FF+abzV4RQCAIgTL4eR8EU072wf+b5IQxq418Q9bW6+3+W+JZiVkSx0jsKrFaIlXJOiHctLnXDB6UerBYn8C5bt06M3LkSON9smOqgyzEch0ZW7lypWloaDDDhg1LeAiaBGrCpIlMZ2enOfDAA5223qeMvvvuu8Z9Cbo+dMZ9kuaqVatitt1Z1WlGDRtlxo4d6zztUhPGjz76yGmjyaT6PfDAA87rGFo/12rqB9ebb4z4hnmv9T1zxetXmMlvTzaf2+1zTvtHWx41//uF/zVL25aaa5dda07f4XTzztPvmCeffNJJXJdULjHL1y83VfVV5vrHrje/2PsXTuKpydz9998ffWJqzAFmOXFnx53mm3XfTLgVN2H8RdMvzIE1/ZZu43md88yhtZrxxS+3tN9ifrX/rxy3mU/MNAu7F5oXul+INj5u83Hm/+3w/6LTv2r7lTm1oX808u8v/t0cvufhZv7H883S95ea6tHVZofKHcwrY14xQ7qHmEWPLjL/XP5P86fT/mQWNC0wpzSdYraq38oMHz7c2d4fV/7RrOlaY360w4+cafv7ftvq25x7IGduPzO6b628/PLL5o477jDnnHNOWn+QidlIGU+QEA44uTn5eb/DrLvN9tsNN3OOnGgOmxR7D+2APTIDAQQQKFEBEsLgThwJYXDWifakSeDzEj+INNDMTLOHayUuj8xL9uEkhNddd53Z4yt7mHXt68yOHTuaq9+42pz55TPNboN2c0aDNOGZMGGCkxjp5YMrVmw0Rx55kLPd8165wnxvxPHmsdbHzPje8ebVD181w6qHmYX1C82Xm75snmp7ynxrx2+Z5iUylBgprw19zRxaf6jpqe4xD3Y9aLbu3tqsbF5p9qvbz9QOqTWPtzxuRveMNpte2GT23G1PJ2lZWLPQtA5qNdut3c6MGzXO+fv+hJYJZnjDcCdJckbaelvNvNXzzKC1g8xb3W+ZPw/6szl6zNHmyKYjzdJ3lpoJW00wE8dPNJc8eIlZv2i9mXnSTFO1ocq0VLaYFe+uMBN2m2CebX/WNIxsMGPbxprhm/t/2X9q1VOme3i3mdQ+yWwzeBu3G2ZRxSIzqW9SdFrfmXf33Xc708cee6ypqKow/+r6lzm49uBom1xX5nfNN0t6lphDag4xO1TtMGDzr7a9akbXjTbbVPYft46KDa4YHLftgJULMMNNCL9W+zUzu3F21kfQ2tdqGisas96ObkCP7cDqA82ZjWeakZU6IC/vSezrNjObZ5rv1H3H/K7jd2ZV7ypzS+0tZvuG7Z3l+s+DnQ+aQ2sONZcsucT8+81/m/Hrx5srvnqFeejDh8w1d11juvftNjry+lHNR+bMoWeaC869wDTv3GyuOuQq880vftNMeXyKqb2/1nz3q981TTs0mYs+vMiM7xhvPlX3KXPM8GPMnNvmmAnrJpgLL7nQPFn7pPl81efNVpVbOaPL+seXG264wbyw7AWz36n7me9N+J5ZtGSRGbvTWLPjoB2dy3nfeecd861vfcs53ttev80s+OsCc+qRp5pPfepTZv369U6yunL9SvNI5yPmb+/+zXy+5vNmqvxP/2iifwDRT/1jjz5Iqbe218x+bra58+U7zQ8+9wPz3fHfNfd13meWdSwzg7oHmSmfTDG9rb1mzNQx5s4n7jRf3vrLZvLkyaart8vM/XiuOWT4Ic7Pj7tW3WWOGPQNM3ar/v8Gn3njNfN2/Yvm3TffNZfUXWLunnS3Wdu11mzu2WwO3/pw8+lBn4566y8BNz11k3l/+ftmq89sZc7a5yzTVNXkLC/xXxBy8vNeE8Kquv7/Jm749p4khdFvDhUEECgngRL/eV9Sp4KEsLCnq1Z23yrxdYn7rEO5Veo6pHWUNS9R1UkI58+fb+qa6kxNRY3T7tyWc53PQ1oPMdO2nRZd99WNr5rdh+5u2toqzQEH9I9CzX/iBTOoMfOvwvs975sJVROi+8h15byW88yFTRfmerNsL08CbkJYaSrNc8Oey9NeMtvsdW3XmR80uH97yWwbc1rmmAuaLoiu/FHPR+bG9hud6YuaLnI+1/auNde0XRNto5X/rP1PJxHTuv73ObxyuDmj4Qyd9F28+56/Zr557LHHnPU1+dt2zLbms8M/a0ZUjki4TXuEd9m6ZebtrredxHLCoP7/hi/ffLnzBxbdgNuft3veNre33x6d1mXXtl1rftjwQ62aF9a/YJ6tfNasrF7pTLv/dLfVmUcPu9eZfPLJl2S0vtfpu7vc/tSfVW6xf2apVXVftTmwrX+0ub2l3Zzz9XO0aaldMpqzn/eaEFZKQqg/tUcOrTdP/fRgLh91vzx8IoBA2QiQEAZ3KjPPAoI7xnLekz4icbnE5yWesTp6hdT1t599rXlutU4qGm7RG6WWaUJo39fmLkz0aSeE7i9qidoyHwG/Aqc3n26e7n462vzo2qPN2Y1nR6ephEsgHz9nnHtUp01TyFJLCHP2895NCN1v0x9nTjFTJ/i7P9ldh08EEECg2AVICIM7Q9XB7Yo95UhAr8Gb493W5u7N5v2O981n6z5rFrcsNitrV5qK3gpT3VFt9h6yd7T5C5teiJnWBYs6F5l9Giaajr4OU1fRn2tu6tlkhlTp4GN/Wd+z3mxVtZU7GfP5fNfzMQ8V0YVLe5aacVXjzIqOFc7lju4K9mjiht4NZlhl/719+jqCbWu3dZtFP9v72s1L3S+ZqTVTnXkbumUduZxVy7ud75pdandx6t5/9LLKidUTvbNTTusDYPS+Qy16r19lZWXKdcq9wdz2uea69uuc+wH1vsBERUfJ7GRQ293bea/pWNlhLtypOEZ4n+l6Jvpdsvuhl41WV/T/OPyg5wOzU9VO9uKYum5D700cUzXGma/3OXb2dTp1HZnTdV/uftm09bUZ02dMVVeV6antkdGcCjOlZopp7ms2r3W/5rR3v9dvdr9p6trrzE6D+tfdo3qPmH26E7rv3St3dy6f/LDrQ7O6bbXp7uqW3fQ5Dwhy2jXIpbE1e5vlbcvNxp6NZuKgiWZlx0ozsm6k0f/+VveujhosXL/Q9FXJQUrRnxOdvZ3m1ZZXTVd9lzNPnw67fdX2Rv8b75b/7Vm9Z/RnhF6avW99/9+s9OeKlq6GLlPRU2GquqtMd52s0aI/T/qvRHAayD/aB2+p6JOfVe1b/u+oobLBuYT0vZ73zJreNc7PMf15pqWtRVzDU+L+vPd2f/Xmdu8sphFAAAEEEPAtwAihb6q8NMzkEiL9Das/a+s/JGeEkKeM5ub8tMhTMNyRVu9DZXKzB7aCQHgEeKhMzLnO2c97RghjXJlAAIEyFWCEMLgTy/BHcNbx9qTDCgslttw8Y+TGq/7pgX9G799Ch3xssmJz/2z+zZVAY2Oj0aAggAACORTI+c97/YvuKLmHcPL4/gf35PBY2RQCCCCAQIgEtlyjE6JOF1lXr5TjuVVCr7nSJ3DMktDH6f1OghKwgD5lUUcJKQgggEAeBHL28969vEdfPcH7CPNwptgkAgggECIBEsLCn+y75BD05jm9yUqfg/+yxGESqyQoCCCAAALlI5Czn/f6dFHeQ1g+Xwx6ggACCBRSgISwkPpb9n2dVDUoCCCAAALlLZD1z/tbTtjHHLT7OEYGy/t7Qu8QQACBwAS4hzAwanZUCgIdHR1m5syZTmidggACCBSbwOSdhpMMFttJ4XgQQACBEhYgISzhk8eh516gu7vb/Pa3v3VC6xQEEEAAAQQQQAABBMpZgEtGy/ns0re0BWpqaszFF1/srKd1CgIIIIAAAggggAAC5SxAQljOZ5e+pS1QW1trzj777LTXYwUEEEAAAQQQQAABBEpRgEtGS/GsccwIIIAAAggggAACCCCAQA4EGCHMASKbKB+Bvr4+s3btWqdD22yzjamocN/2VT59pCcIIIAAAggggAACCLgCJISuBJ8IiEBra6vZbrvtHIvm5majL6qnIIAAAggggAACCCBQrgIkhGVyZjdt2pRWT1patjTXVXt6tkyHudZiwahpDzBh/jrQ9ywFrP+cTK5+zqT7sy7LLhTl6hgU5WnhoBBAIMcC/KzLMWiSzXE9XBKcElm0vRznshI5Vg4TAQQQyJXAGNnQ8lxtrES2s6Mc5+ISOVYOEwEEEMiVwHjZ0JJcbYztDBQgIRxoUmpz9ByOlthcQgc+WI5Vk1j9ha6UjttLTD+8IoWf5pwU/hzYR5Cv86HbXSHRZ+8sBPUh0seNEqX+s7MQpypf38VC9CXofWKXnTh+mfu5dkNlE+ldCpf5PkO5JpeMlv5p11+ISvWv5JoMlsN/4PSj+P474pwU1znJ9fkoh58b2ZyhXHtmcyylti52mZ8x7DK30zXxy86PtfMowGsn8ojLphFAAAEEEEAAAQQQQACBYhYgISzms8OxIYAAAggggAACCCCAAAJ5FKjK47bZNALJBPS5pvMlSv35pvQj2VkuzDLOSWHcE+21XM5Hov4FPR/PzMWxwy5zgezW5LuXuR92mduxJgIIIIAAAggggAACCCCAAAIIIIAAAggggAACCCCAAAIIIIAAAggggAACCCCAAAIIIIAAAggggAACCCCAAAIIIIAAAggggAACCCCAAAIIIJAXgQrZqgYFgSAF+N4Fqc2+bAG+e7YG9dAJnC897vPEW5aC/gdyocTHEm0S8yR2kbBLvUxcL7FOolniHokREvksX5CNPyCxQkKPf4aEXXJ13MNlo3+Q0Bdqb5C4WWKQRK5Kqn7MlR15z88/PDv345/vfsyWY3peQl/gu1riPoldJexSCufETz/mSqdK4ZycIsf5qoR+dzWekfhPCbeUwvlwj5XP4AR4rVVw1uxpiwDfuy0W1IIV4LsXrDd7K1KB8+W4FkmMtGIbqbvlp1LRROgoid0l7pf4QEKTkP+fvTcBs6Qo07ajqrq6egG6QRBERBAQRVQU2QQFBRQFx3ZB/cFPm2FwAUdgRlGUD5DVQQUcQB1GtJlPFEUYUBFZxBZBQEAB2WRt9mbvpXqtpf/nyT5ZnZW1V50l4+T9cj1kZGSeyDfuyM7KNyMyMrXvK/GY9G5pe8k3njdItTTf2J4kfUgaLCCslt9XqPzbpZ2k3aQHpJ9K1bKR6jFHB7IP2fZZN3fw72t9JP61roeD1NnSG6Q3S5dLj0rTpdS+okQ1zqVa1mU09ZijetiHorfJB+Tj+yU/wHmtdLK0UnIb2WJoj9We8v9GENhFB/259HWpvREOcMxSEuC8K2WzF6LSnHuFaAacaBSB43VgBzyDmXsQ3DP4pczGGUovlz5RyfO6bzI/Wln34nWSg7SdvVIHyweE1fL79fLdZb8tU4d9lO6VNs7kVSuZr4fLnSNd6sQQNhr+9a6HXd1Acn3cA2qLtU3y9XBd5kgxtol9f1E6WIq1PVwHrHYE/DDQD9qekRZKl0jpAwQlMQjUhADnXU2wUugoCHDujQISu5SDwPGq5hLJQy/d83eBtKlke43km/rtvJKxPyr93cq6ewW9z8zKerp4VIkj05UaL/OBVLX8/mf5/VLO90la75Y+lMuvxmq+Hi5zjrRA8jDMf0jfl14mpTYa/vWuh33bUnJ9tvWKLNY2ydfDdZkjxdYmbfLZD3FWSNtIsbaHXMdqSMDBoB94fbWGx6BoCOQJcN7libBeLwLRn3ut9SLFcZqewM2q4WzJPV+flzaX/iStLW0k2fy0OGteT7d56R5C3yBnLbtPNr8e6dS3ifrtchyIZc3BoHtZ0mNkt9Ui/TsV+ilpT8lD/HaXPFzRN/g2+zES/3rXw9enM6UbpLskW8orpjYZrB6uS0xt8kb52yk5EPyB5AcZ90gxtofcxiZIwKM31qmUMUnL9F4ivZ78Qnl+MHiL1C59RPI544dQ7lXGIDAeApx346HGb6pBoOnPPV/IMQhUg4CDi9Q8AcXNknv3PibdK2GNJXBh5vB/V9pt9JC0h/R7qYh2jpxyz6DfuYzZhqpHTG3iXuXtJA8t/qh0vuSHClj5CByoKvtBjZdXSX64lVpPJeHrywvSj6UO6cnKUovwbcn5DiLdi4hBYDQEOO9GQ4l9akGgFOde+lSvFgAps9wE3NN3v7SlNL+CYsPKMl14Pd3m5WRpZrqxsszuk9tU89XUt4n67XJenvPWD2PWk9Jj5DbXfNVP75+X3D620fCvZz3Olk/7Se+SnpBSS3nF0iZD1SOtT3ZZ5DZx7/GD0m3S0dId0uFSbO0hl7FxEkh79n6t3y+S3lQpxxMNfUf6suR0aucq4fPEDxD2kD4tXSl9T3JPIcGgIGAjEuC8GxERO9SIAOdejcBSbLkIrKXq+r25L0r+R+VJZf5dSs3DjZZLn6hkuOfBN50fqax7sbW0StrZK3UwH2tW5jjV8vv1KtNlb58p+z1K+4Zo40xetZL5egxW7ibK9PH/qbJxNPzrUQ8zdxDlHoWtKr5lF7G0yUj1yNYpTRe1TVL/sstrtTJHiqU9sr6THpyA29IaztKHyBdqJ+sg6VbpD9LfpHulLSSbZwbOTySzrvKekw6RMAiYgM+59Lwaiki6nfNuKELkj4cA5954qPEbCIxA4Nvavru0mfR26WrJf/g3kGxfkRwgOgDx+0iXSg9LU6TUvq/Eo9K7JAdPf65Ii5qZA9ftKnIgdWQlvamWtmr5fYXK+qu0o7SrdL/0U6laNlw9vO1bkgPrzSS/R+ieHvvg4VypjYZ/revh3oMFks+ljTKaqnRqMbTJSPWIqU1OFfh3SptJ/rfr9V5pb8kWQ3us9pT/D0agZbDMIfLSdwQ/oO3zpRuk91f29cOtx6QTpex1vbI5WTj/FunMSuZYjl35CYsmITCWtue8a5JGL0g10gcMo3GHc280lNgHAhkCFyr9lORJJzzEz+tbSKn54n+CNF9aLl0jvVbKmm8W/L7Vi9IS6RLJQUEtbQ8V7kAwrznKs1XLbw8PdQC4WFoo/UhyUFAt20MF5evg9TmSgykP1fLENiuledK50oZS1kbDv9b1GKwOzpudcTSGNhmpHjG1yXliP0/yv22fQ/63mwaDSkbzb8S+YkMTeJM2/VA6qLKLh7UPZ3/XxnslXxNSO12JayU/ZBvMZinTDwodUGIQMIG3Sf57dIF0sPQqyTbUTTvn3Wo+/H/iBHzu+V7sD9JJ0jskWxoErl5b83/OvTUsSEEAAhCAAAQgECkBP0xZW3qflPa6r6/0ydL9kh/W+abH5n0Hs/Rm6TvaeKv0xsxOuyh9n+Qbe5uDxXdJO0nHSXdK35aGutnXJqwJCWTPu2mV+m2u5f+TnpR+Jn1T8kPl30qDGefdYFTIG4lA9txLr3lb6kd+SP645AcRHhl2veQHnoMZ595gVMiDAAQgAAEIQCBaAp+U5x7y++ZKDXyD7vd2/1n6P5KH9m8r2QYL3NI8D39/QvqEd8yYn7Z/X3Lg6d6eOZJ7BW+UPFsfVk4C6Xnnnmjb3tLl0s5eqZgfVMyT9qys+2Y+Nc67lATLsRJIz7105IKvTb7mbZMp6A1Ke2TaXpm8NMm5l5JgCQEIQAACEIBA1ATSp9yuxGLpc9Ikr8heuXoRNtXyL9IZlfV0e2V1wMLvA3qY/8zMlmOVflhKh1+9Lrfdu2Zv9L2ONS+B/Hn3+UpVX63l6yvp9IZ7e627F3nfSv5QC867ociQnyWQP/ey17yXZXdU2g+rLpam5/Lzq5x7eSKsQwACEIAABCAQJYGL5PW1Uv6myL2FJ0mPSsNZegN/tHZyALlDZufNlf43aUYmz0n/JnuDltvMagkIDHXepefT28VgvrTBECzS/TjvhgBE9pAEhjr3fM5dJ3VLHgL/JSkdWqpkn3Hu9aEgAQEIQAACEIBArAS2kOP/LZ0qnSI9L/lmKG97KuMFKR06lQZxaa+e3wf0UFDblpJvpP7FKxgEBiEw2vPOP71M+lGljPR8S5ecdxUwLEZNYDTn3r+qNF8Pd5eOkB6UzpM6pNQ491ISLCEAAQhAAAIQiJbApvL8H9LvpIOkq6ReyT0t7ZItfQK+idLefqEzZWlA6LR7EP27o6T0d+9UOm++iU9v5PPbWC8PgdGcdymNtyrxuLRbmpFZct5lYJAcFYHRnnvpdS8t9INK+D3ql1cyOPdSMiwhAAEIQAACEGg4gfyNy1gcOlE73yVtXPmRb3IukP4mvaKSlwZwDgD9pPxZyWkPK91cmizZfijNkgj6TKP5rdbnnc8x21lSfobRbC8N512CqVT/q/W5ly/f1zRf+zql7LBlzr1SnXZUFgIQgAAEIFB8AtvJRQdk00fhanqzPUf7/qay/6TK0uW4t8+zPebt3cpYIN0ieZ9zpdEcT7thTUqglufd+mJ2h+Rhex6G/D3J5517ojEI1PLc8zUyvSa+U+nrJb8DbUuvn6vX+D8EIACBBhKYrWP7xqyaNleFnVnNAikLAhCoOYG9dARPeuDhTDdL/t6fhzellvbwpevp0jc7x0j3pBlapk/GH1f6DCmdRGFdpb8s+R3CpZJ7EfeT8pbeQOXzWW8+ArU879KHDH6HywHg01KP9Fvpn6S8cd7liTT3ei3PvSlCt440W/I7g3dLvtf6jpTtHdRqYpx7KQmWEIBATQjMUamrKlqp5YPSsVJ68fGN2sulatpcFTaagPDT2u/6IQ48W/mp39nl8iH2JxsCEBieQBqk5fdyoOcbZ0+44WF1HrrpG5ZvSw9IH5BsQwWE3vZhydeW93mlYq/V8inpJul1lTz31PjacIiU92e48is/ZxEhgXw7p1Wox3m3tQ7m43xDmit56n96ZQShJNaoc88P1LasMH6vlp5s61PSUP5UdmUBAQhAoHYE5qjoK6SNpFdLn5P8hPSrUq1srgoeTUB4ifY7aggnZit/oWS/s9pQ67U03wxjEGhmArurcp5gI/v+lIO+F6U3StnAbL7W/e80u69W+yzd1/9Gfy75Kfhukvc/VDpfcs/Me6TBzDfn3KAPRqb58hpx3vlm3Na+etH3f867PhSlSDTy3MsD9rlHYJinwjoEIFBzAnN0hEtzR7lS6zdW8mZruaCS9s3dNZK3pzd66yn9hHSClNq2SjjI9IvRz0j/T/KT/9TmKjFSQDhF+/j3ac+Bkv1sttZSv/ptyKzMVfo/pdMk38z65vV4KWsztfJD6TlpkXSt9GYpteOVuF36F+kRyTevtrUlD2dbIj0pfVGaK6X1Olbpu6S8uawT85msQ6COBNJ/u/lDfkIZnsjF/2b/LnmmTw/htL1F8rmfHS3wGq373/6jUnpjPdyNjK8Bf5Iell6QHpNeLb1KyptvirDmIlD0887+TWou5NSmQqDo557d5JrH6QoBCDSUwBwd/dKcBx4adlslb7aWCyppL14pObg63CuyX0ge/pD+IZ2ptG8qT5EczPlG0jeW10qpzVXizHRliOW+yv/HENucPVvK+uW8vM1VxkLpOGkr6VOSb2r3llK7WolfSW+TvI+HwT0vOdC1HS85MHWA67q8SbJ5iMc8aU/JAfAlko+V1msTpd3TuoOUmn/v4/tGGoNAvQnkg7XsTZJ78Pxv/kvSDMm9eH7Q8T9SGgTepfRc6Z3S26XfSJdJf5D8b2w4S4/drp32knbP7Zz1JbeJ1cgJpG2fViPb1px3KRWWtSDAuVcLqpQJAQg0JYE5qtWllZr5D7Vv1pZL36rkzdYyH3jtr7xl0qmSgyUHUqkdo4R7ELPm4GiV9NpK5lwt08CpkjVgca5yUh8GbFTGbMll+vhZOXBLba4Sf0pXKsu/aPnNSto3vQ7iOirr6eJBJT5TWTley5XSBpV1L9w76LyPeqVivol2b2G2Xr/V+vcq271wb+UfMuskIVBvAg7IPif9VPK/9dTer8RTUvrAw/kHSjdJ6cMfB4IXS35g4n83Z0v+JMQd0nFS9kZfq/3MN2Zt/XJWrwyWN8huZEVOgPMu8gaM2H3OvUgab1IkfuImBJqZwH6qnIMqXzh94+abxeOloewibfiQ9FXp89IDUmpvVuJdksvL2xbKuD+fOci6byw/IH1skG3ZrMVaeWs2Q2kHqlm7M7ui9NNS2uNhX9eSXpCyNlUr9jW1R5V4Ll3R8jWSWTm4TM03yPkeTfci/kj6N8k9gwdIR0oYBBpB4MM66LelFdJvJD/AmF5Z+nz3Ob5ISu1qJd4j/ZP0Xek6yaMBXiHNk7Lm89sPaHz9cNrmf8cO+NxTnuYpmVi6n7dhzU2A866527fItePcK3Lr5HwjIMwBYRUCDSDgXisHdu71ci9BtzScTdPG7SXfzG2V29EB1q+lr+TyvepgbDS2o3byteHPI+zsm0z35g1nXbmN6U2rs+2rfdpDylu2V9Q3zuMxc/DNt4Nns3UQ+UsJg0C1CTj4svKBl4/j/PUl9wyeL31DypuDPfduryvNk2zPSrdIfnDyVumvks/neVJqn1TCD1jmVjJ8fAeBNl8f0mvJ1kofKl0uXSX53yEWPwGfWxbnXfxtGVsNOPdia7ER/CUgHAEQmyFQBwIOeEYKrLJufEcrvgF4n/RbyTd510o23zR+RJonpTeDSo7JPqi9XWatew/sq99hsZ/zpNHaw9rRgeYO0mOVH83Q8rWSb6xTc7nnSwdJDggvlPI9mMrCIDBhAg6wrA2lzaW7pcVSq+R/q++Q3Av4HulN0r7SM9IVleUdWjoA9L/pv0mp/UMJ/35Lyf9e/FDDwaH/dr9b+rh0nvQnKbX03+16yvgX6dPSxtKN0kuSjYBwNYfY/895F3sLxus/5168bYfnEIBAAQnMkU+XDuPXbG3L9pb5RtK9BL4ptJ0iPS65Z8HmGz/fWF4kOWDyTeh7pR9LbZJtruTeiKHsLm348FAbK/mztVwoOaDLyzfBtrlS/jiu6xzJ5ieMvpG9XfKN8mbS26WTpbdJtuMlb8+bh4M6MHyX9AbJPX+LpDOkrG2lFQeG1k7ZDaQhUEUC/nd2jbRccnB3s+R/f6kdrsS10r9JD0r/K90j3Sb9k2Tzv5X7pFd5pWLrablE2jnN0PIgyf8mbpVmS/53ZEuXPs9d7gLpz9Jhkv+NYs1HgPOu+do0lhpx7sXSUvgJAQhEQWCOvLx0GE9na5tv7GwbSPOlo71SMfcY+Mbw52mGlg6CLpHcG7BUuldyoJTeMM5V+kxpMPNF3je10wfbmMmbrXT6hDC/TG8+52qf/HFc1zlSamsr8Z/Sk5J78R6TfiKlN8XHK327lDf/7gLJN8tPS0dKvgk/VcrbdcpwkItBoBYE/ADkNOkq6XWSewD/KN1SSWuRTPrydy3dy7e/M2Tezw9q7veK7BXSi9I3pHUk24HSU5LLTc0Pf9LtaV76b9vLD0snSNukG1k2JQHOu6Zs1igqxbkXRTPhJAQgAIHxE3APhoehxmYOYBdIB+cc9w2ye2RcLwwCtSDQrkKfkb6QKdzB2A3STyt5u2jpXmo/nMnarlpx/hsrmS5jnuTg8lzJvf3/VxrMfFPWNtgG8kpBgPOuFM1cyEpy7hWyWXAKAhCAQPUIfExFvaN6xdWspLeo5P9Pco/mWyX3PDog9OQdqblH9V+lTsm9KhgEakHAwdxtUvZhhN/x+5zk3vbJku06yb2Bm0mpvVmJ+6QPVTIc5O0gnSz9THqfhEFgMAKcd4NRIa8eBDj36kGZY0AAAhCAwIgEHBD6JtzBnofZXS35j1TWPJT1OemAbCZpCFSZgB88+Fz8qpQO3fQhtpY8bPuTXpF9RnpAOtYrFTtMy7slDxcdzrLlDrcf28pDgPOuPG1dtJpy7hWtRfAHAhCAAAQgAIFxERgsyHKee/dSG2yfdJuX6fZfKX2xlL776m3urb5c8juxthnSv0qeNfRCyb3aj0oOCgczhoQORiX+vPScydbEeZx3WSKka0GAc68WVJukTP/BwSAAAQhAAAJlIOAbovTvnnuQ8+Y8v9Nnc3A32D7Jxsr/0rI8qdPrJb8rmNrzSjj48/uF3m+hdJa0p/S49IT0QekcaTDzb3sG20BedAQ476JrsqZxmHOvaZqSikAAAhCAAAQgUE0CG6qwwyXPSjsrU/B6lbyntfS7fT+U/BmHkWyKdvBkTNdIMys7e1iVhyx/trI+2NP5yqa+nsZ0nWVzEuC8a852jaFWnHsxtBI+QgACEIAABCBQcwLb6giXSMskz+R5inSn5HdSbcdJ/jzEByRPWjRXelDaRBrK0l7C3bTDHZLLO1G6UXKAONT7gW3alv5WSayJCXDeNXHjFrxqnHsFbyDcgwAEIAABCECgfgT8jtZPpV9Lb64c1kGZp1C3vVry8M5DvVIxb/PQz6OljkrecIvXauOXpGslB4V+jxArNwHOu3K3fyNrz7nXSPocGwIQgAAEIACBwhE4RB51SztK+Z45D+fcTFoh+V1A2+TVi/A9Lf8oeQjoeGy4oaLjKY/fxEWA8y6u9mombzn3mqk1qQsEIAABCEAAAhMi4CflHip66zClvE7b/PmIr1T2SXsE99b6ImntSn5+4eDS5efNvY8Eg3kq5VrnvCtXexeptpx7RWqNCHzJPyWNwGVchAAEIAABCIyJgHsGN5GelNYd4peeAMbv/fndQZt7C207SM9K7V6pmAO9NAj0bKAu35YdIuoZQkeapTT5Ef9rWgKcd03btIWvGOde4ZsIByEAAQhAAAIQqDeBM3TAR6Qthjnwztr2gvT/pHdKe0ieZObfJNtgvX67Kd/fFfRnJT4t8aBVELA+Apx3fShI1JkA516dgXM4CEAAAhCAAASKTeC9cs+9dgdJ6fuBWY8/oZUPSrtIV0vzpAWSb6qyPX9aDVtK35Eel+ZL50l7SgSDgoD1I8B51w8HK3UkwLlXR9gcCgIQgAAEIACBOAhcJzcfkhy8Zc2fnfDso1+oZHo46DaVdH5xlDL82YrLpY9LQ71bqE0YBBICnHecCI0iwLnXKPIcFwIQgAAEIACBQhJ4m7z6k+T3/vwh+WMl3zA9IZ0jrSfZspPBODhsrcjbNpQ2dgKDwCgJcN6NEhS7VZ0A517VkTZngdk/es1ZQ2oFAQhAAAIQWENgqpKzpTdIr5Fuk74vPSVhEKgVAc67WpGl3JEIcO6NRIjtEIAABCAAAQiUkkBbrtbZXsDcJlYhUDUCnHdVQ0lBYyTAuTdGYOwOAQhAAAIQgEA5CPgmidEy5WjrItWS865IrVEuXzj3ytXe1BYCEIAABCAAAQhAAAIQgAAEIAABCEAAAhCAAAQgAAEIQAACEIAABCAAAQhAAAIQgAAEIAABCEAAAhCAAAQgAAEIQAACEIAABCAAgRIT4EX6+BvfbehvYi2OvyrUAAIQgMCoCPhj8P5MxKpR7d08O3G9b562pCYQgMDoCJT1ej86OlXayx/cxeIm4GDQH1XGIAABCJSJwCaq7JNlqrDqyvW+ZA1OdSEAgYRAGa/3dW16AsK64q7JwZKewccffzyss846NTkAhUIAAhBoNIElSxQNORwKi6RXOVHGURFc793yGAQgUAoCixYtCq96VWmv93VtYwLCuuKu3cEcDBIQ1o4vJUMAAo0l0Jb/pHJj3Wno0bneNxQ/B4cABCDQdAQICJuuSakQBCAAAQhAAAIQgEA9CPT09IQ//elPyaHe8Y53hDaeXtUDO8eoMgECwioDpTgIQAACEIAABCAAgXIQWL58eXjXu96VVLazszNMnz69HBWnlk1FgICwqZqTykAAAhCAAAQgAAEI1ItAS0tL2GabbZLDOY1BIEYCBIQxtho+QwACEIAABCAAAQg0nMC0adPC3Xff3XA/cAACEyHQOpEf81sIQAACEIAABCAAAQhAAAIQiJcAAWG8bYfnEIAABCAAAQhAAAIQgAAEJkSAgHBC+PgxBCAAAQhAAAIQgEBZCSxbtizsvffeiZzGIBAjAd4hjLHV8BkCEIAABCAAAQhAoOEEent7wzXXXJP44TQGgRgJ0EM4vlY7Wj+7RVosPStdKm0tZW2OVlbl9LvsDkpPkc6RXpA6pYulDSUMAhCAAAQgAAEIQKDgBDo6OsJPfvKTRE5jEIiRAD2E42u13fUzB3IOCs3wFOkqyfMOL5FScwB4ULqi5YpM2skzpH2l/aWF0tnSJdKuEgYBCEAAAhCAAAQgUGACkyZNCgceeGCBPcQ1CIxMgIBwZEaD7bFPLnO21t1TuL10nZSaA8D56UpuOUPrB0sHSNdWtjl4vFfaWbqpkscCAhAYgoCH5zz++ONh5syZYcYM/5PCIAABCMRP4MUlK8M3r7g37P+2V4UdNlsv/gpRAwhAoNAEGDJaneZJ70RfzBW3h9YdKP5D+r70Mik1B4/t0uqB56tz79PiMWmX1auD/t/jEdbJaO1B9yITAiUg8Mwzz4Tnn38+PPjggyWoLVWEAATKQuDU394bfnHrE2H/H9xYlipHW8+enp5wyy23JHIag0CMBOghnHirOag+U7pBuitTnIeLevjnI9IWkoeVXiE52PMVYyNppbRAytozWvG2oexobThuqI3kQ6BMBFau9D8hDAIQgEBzEXjipWXNVaEmrs3y5cvDjjvumNSws7MzTJ8+vYlrS9WalQAB4cRb1u8Sbivtlivqwsz635W+U3pI2kP6vTReO1U/PD3zY/cQPpFZJwkBCEAAAhCAQMQEOtoZwBVL87W0tIRXv/rVibtOYxCIkQAB4cRazZPA7Ce9UxopKHtY+zwvbSk5IPS7hZOlmVK2l3DDyjYtBrUVyrUwCEAAAhCAAASakEAbgUU0rTpt2rQwb968aPxCu2hiAABAAElEQVTFUQgMRoBHUINRGTnPj4AcDH5IerfkYaEj2Sbawe8QPl3Z8TYtu6Q9K+tebC1tKt3oFQwCEBiewNKepcPvwFYIQAACEIAABCAAgWEJ0EM4LJ4hN3qYqGcH/aC0WErf+fOnIzzwfy3J7/n5u4LuCfQ7hKdJnvniSsnmfc+TPPzzRWmRdJbkYJAZRgUBg8BIBB5d/mjYQP9hEIAABCAAAQhAAALjI0AP4fi4fV4/88yicyX3+KX6uNK2HulN0q+k+yUHfu4RfIeUHe55pNZ/IzlwvE5y8PhhCYMABCAAAQhAAAIQKDgBTyoza9asRE5jEIiRAD2E42u1kd4adi/he0dRtK8ch1U0it3ZBQIQgAAEIACBZiewqtkr2ET186cmLrvssqRGfHaiiRq2ZFUhICxZg1NdCDQTgZYw0rOZZqotdYEABCAAgaIRmDx5cjj33HMTt5zGIBAjAQLCGFsNnyEAAQhAAAIQgAAEGk6gvb09HHLIIQ33AwcgMBECvEM4EXr8FgIQaCwBOggby5+jQwACNSGwahWDRmsClkIhAIFBCdBDOCgWMiEAAQhAAAIQgEBjCBAONob7eI7a29sb7r333uSnr3/960NrK30t4+HIbxpLgICwsfw5OgQgMAECrav4wzsBfPwUAhCAAAQmSGDZsmVh2223TUrp7OwM06dPn2CJ/BwC9SdAQFh/5hwRAhCoEoEp3VOqVBLFQAACEIAABMZHYP311x/fD/kVBApCgICwIA2BGxCAAAQgAAEIQAACcRFwj+Bzzz0Xl9N4C4EcAcZb5YCwCgEIQAACEIAABBpJgDllGkmfY0OgfAQICMvX5tQYAhCAAAQgAAEIQAACEIBAQoCAkBMBAhCAAAQgAAEIFIgAs4wWqDFGcGX58uXhwAMPTOQ0BoEYCRAQxthq+AwBCAwgwHe7BiAho7oEXqnifiK9IC2T/i69TUrNX8U8QXpa8vZrpK2krHkWpHMkl9EpXSxtKGEQgECkBHp6esJPf/rTRE5jEIiRAJPKxNhq+AwBCEAAAvUksK4OdoP0B+l9kmeQcLD3kpTaUUp8Ufq09Ih0onSltI2UdhucofS+0v7SQuls6RJpVwmDAAQiJDB58uRwxhn+px2C0xgEYiRAQBhjq+EzBCAAAQjUk8BXdLDHpYMyB3XQl5p7B4+QTpIuq2R+SstnpFnShdIM6WDpAOlayeby7pV2lm6SMAgkBBjxEM+J0N7eHo44wv/8MQjES4Aho/G2HZ5DAAIQgEB9CPyTDnOrdJH0rPQ36RAptc2V2EjyMNHU3AN4s7RLJWN7Ldul7D73af0xKd1HyX7WobV1Mlq731ZWIAABCEAAAlUgQEBYBYgUAQEIQAACTU3gNard56UHpPdK35f+U/LwUJuDQZt7BLPm9XSblyulBdkdlM7uk9sUjlaGA8tUT+R3YB0CEGgsgd7e3jBv3rxETmMQiJEAQ0ZjbDV8hgAEEgItqzxSD4NAzQn44al7CL9WOZJ7CLeVPiedX8mrxeJUFXp6pmD3EBIUZoCQhECjCSxbtixsvrkHCWimqM7O4A/VYxCIjQA9hLG1GP5CAAKDEuCdm0GxkFkdAk+rmHtyRfndv00refMryw1z+3g93ealZ5yYOcw+uU1hhTIWZbQ4vwPrEIBA4wlMmzYtWBgEYiVAQBhry+E3BCAQAh2EnAX1IeAZRrfOHeq1Wn+0kucJZhzw7VlZ98Lv/u0k3egV2W1Sl5Tdx2U6qEz3URKDQAirVkEhFgLuEVyyZEkiegdjaTX8zBNgyGieCOsQgAAEIACB/gQ8p/yfJQ8Z/YW0o/SZirQIvn0/UzpG8nuGDhBPlJ6SLpVsfg/wPMlDQF+U3PN3luRg8CYJgwAEIAABCDSEAAFhQ7BzUAhAAAIQiIjALfL1Q9Kp0rGSA74jpAuk1E5Twi8PnSt5WOj10j7Scim1I5XwrBP+IH2HdKV0qIRBAAIQgAAEGkaAgLBh6DkwBCAAAQhEROA38tUaytxL6GDRGsocHB5W0VD7kA8BdTn7dMJiILBixYrwhS98IXH17LPPDh0dftaDQSAuArxDGFd74S0EIJAhsLRnaWaNJAQgAAEIQKC+BLq7u8MPf/jDRE5jEIiRAD2EMbYaPkMAAgmB51c+H1426WVJmllGOSkgAAEIQKDeBNrb28NJJ52UHNZpDAIxEiAgjLHV8BkCEIAABCAAAQhAoOEEJk+eHL7+9a833A8cgMBECDBkdCL0+C0EIAABCEAAAhCoMgE+O1FloBQHAQgMS4AewmHxsBECEIAABCAAAQjUlwABYX15T+Rofl3h+eefT4pYf/31Q0sLH8idCE9+2xgCBISN4c5RIQABCEAAAhCAAAQiJ7B06dLw8pe/PKlFZ2dn4OP0kTdoSd1nyGhJG55qQ6ApCPAgtimakUpAAAIQgAAEINA4AvQQNo49R4YABCAAAQhAAAIQiJiAewSZ5TriBsT1hAA9hJwIEIBAtARawpouQv4gR9uMOA4BCOQI8GH6HBBWIQCBmhIgIKwpXgqHAAQgAAEIQAACEIAABCBQXAIEhMVtGzyDAATGQIAewjHAYlcIQKDQBJhltNDN08+5FStWhCOOOCKR0xgEYiRAQBhjq+EzBCAAAQhAAAIQgEDDCXR3d4fvfve7iZzGIBAjASaVibHV8BkCEBhAgHduBiAhAwIQiJTAqkj9LqPb7e3t4Wtf+1pSdacxCMRIgIAwxlbDZwhAYAABAsIBSMiAAAQgAIEaE5g8eXI4+eSTa3wUiodAbQkwZLS2fCkdAhCoIYGXel/qK31VL8/U+2CQgAAEIAABCEAAAqMkQEA4SlDsBgEIFI/AdV3X9TlFD2EfChIQgAAEIFAnAp7QbMmSJYmY3KxO0DlM1QkQEFYdKQVCAAIQgAAEIACBCRBgwMME4NX3p0uXLg1rrbVWIqcxCMRIgIAwxlbDZwhAYACB3tA7II8MCEAAAhCAAAQgAIHhCTCpzPB82AoBCBSYQEto6fOOIaN9KEhAAAIQgECdCEybNi10dnYmR3Mag0CMBAgIY2w1fIYABBICLS2ZgJAvOXNWQAACEIBAnQn479D06dPrfFQOB4HqEmDIaHV5UhoEINAgAvQQNgg8h4UABCAAAQhAIGoCBIRRNx/OQ6DcBBgyWu72p/YQgAAEGk1g5cqV4etf/3oipzEIxEiAgDDGVsNnCEAgITClZcoaEszKt4YFKQhAAAIQqAuBrq6ucMoppyRyGoNAjAR4hzDGVsNnCEAgIbD7uruHsGw1DIaMclJAAAIQgEC9CUyaNCkcfvjhyWGdxiAQIwHO3BhbDZ8hAIGEQFtLWx8JPgjch4IEBCAAAQjUiUBHR0c488wz63Q0DgOB2hBgyOj4uB6tn90iLZaelS6Vtpay5ukPT5CeltyHcY20lZQ1j3c7R3pB8pzFF0sbShgEIDAKArxDOApI7AIBCEAAAhCAAASGIUBAOAycYTZpnFoSyO2s5d5Su3SVlJ13+Citf1H6nLSTtES6Usq89BTO0PoHpP0ll7mxdImEQQACoyBAQDgKSOwCAQhAAAIQgAAEhiHAkNFh4AyzaZ/cttlad0/h9tJ1knsHj5BOki6TbJ+SnpFmSRdKM6SDpQOkayXbQdK9kgPNmyQMAhAYJQHeIRwlKHaDAAQgAIGqEViyZElYa621kvL8gXq+SVg1tBRURwL0EFYHtoM724urF2FzLTeSPEw0tYVK3CztUslw8Oiexew+92n9MSndR0kMAhAYikC2h3CofciHAAQgAAEIQAACEBiaAD2EQ7MZ7RYH1X6b+AbprsqPHAza3COYNa+n27z0B2sWZHdQOrtPblOy2qH/W6mtnSZYQqDMBJhUpsytT90h0FwEGPEQT3tOmzYtPPusB4mF4DQGgRgJEBBOvNU8Kcy20m4TL2pUJXhCm+NGtSc7QaBEBLiBKlFjU1UIQAACBSHQ0tISNthgg4J4gxsQGB8BhoyOj1v6q7OV2E96l/REmqnl/Eo6P2Oo19NtXk6WZlb2TRfZfdK87PJUrXiIaqpNshtJQ6BMBLJDRukhLFPLU1cINDeB7LWtuWtK7SAAgSIQICAcXyt40hgHgx+S3i09ImXN6w749sxkrqP0TtKNlbzbtOySsvtsrfVNpXQfJQfYCuUsysifvsAgUHoC9BCW/hQAAAQgAIG6E1i5cmU4+eSTEzmNQSBGAgSE42s1DxP9pOQZQh2Q+X1Aa6pkWyX5vcJjpH+S3ij9j/SUdKlk8yQz50mnS+5h9CQzP5YcDN4kYRCAwAgEsk/R6SEcARabJ0LgeP3Y1/Ws7ssU6IeEJ0hPS8uka6StpKxN0Yr/drwg8d3ZLBnSEIiYQFdXVzjmmGMSOY1BIEYCvEM4vlb7fOVnc3M/P0jrcyp5p2np7xKeK3lY6PXSPtJyKbUjleiVLpY6pCulQyUMAhAYBYFsQDiK3dkFAhMhcLd+vFemgO5MOv3u7KeV94h0ouTr+TZSes0/Q+l9pf0lPxD0KJNLpF0lDAL9CDDioR+OQq9MmjQp/Mu//Evio9MYBGIkwJk7vlbz0+CRzE+Sj61oqH19o3BYRUPtQz4EIDAKAtxAjQISu0yEgANAvwqQN/89OEI6SbqssvFTWnrG6FnShZLf+ea7s4KAQaDZCHR0dIT//u//brZqUZ+SEWDIaMkanOpCoFkJEBA2a8sWpl4eAuph/w9LF0ibSrbNpY0kDxNNzT2AN0u7VDLG+91Zjxzx++ep1q6Ux6LJCTD6ockbmOpBoGAECAgL1iC4AwEIjI8A7xCOjxu/GhUBB3ezJQ/79ysDDgL/JDlAczBoc49g1ryebvNyPN+dPVq/c3CZ6gmlMQhAAAIQgEBVCRAQVhUnhUEAAvUkkH2KTg9hPcmX7lhXqMYXSXdKfjfw/ZLfDf+YVEs7VYWnnxjycpNaHoyyi0OA61lx2mIkT5YsWRKmT5+eyGkMAjESICCMsdXwGQIQSAhw08SJ0CACC3Tc+6UtpfS9Qn9DNmteT7d5OZ7vzq7Q7/jMUJYqaQgUkMDSpUuDhUEgVgIEhLG2HH5DAAIh+80nhoxyQtSRwFo6loNBf2bCs4o64NtTSs3v/O0k3VjJuE3L8Xx3tvJzFhCAQFEJTJ06NTzyyCOJnMYgECOBSTE6jc8QgAAETOC5Z58Lr1vvdQkMegs5J2pI4Nsq+9fSo9LG0jckzzr6M8kzSp8pHSM9IKWfnRjqu7Mvah/3+p0lOWC8ScIg0I9Adjh8vw2sFI5Aa2tr2GyzzQrnFw5BYCwECAjHQot9IQCB4hLwbTkGgdoQ8Lt7Dv5eJj0nXS/tXElrEfjurClgEIAABCAQJQECwiibDachAIGEQCYIpIeQc6KGBD4xQtk+E/nu7AiQ2Dw+Ah4O39LSMr4f86uaE+jq6grnnHNOcpzDDjsstLe31/yYHAAC1SZAQFhtopQHAQg0hAABYUOwc1AIQKDGBBQPKiCs8UEoftwE/C77kUcemfz+kEMOISAcN0l+2EgCBISNpM+xIQABCEAAAhCAwDAEMgMhhtmLTY0i0NbWFg444IDk8E5jEIiRAAFhjK2GzxCAQEIg2yuYTYMHAhCAQLMQWD2DMl2ERW3PKVOmhAsuuKCo7uEXBEZFgM9OjAoTO0EAAkUnwGcnit5C+AcBCIyHAD2E46HGbyAAgbEQICAcCy32hQAECkuAHsLCNg2OQQACEyDgdwgxCEAAArUkQEBYS7qUDQEI1JZA5kaJgLC2qCkdAhBoDAGubY3hPtqjLlmyJGywwQaJnMYgECMB3iGMsdXwGQIQGECAm6YBSMiAAASagAA9hMVvxOeff774TuIhBIYhQEA4DBw2QQACERHI9BZG5DWuQgACEBhIgDlkBjIpaM7UqVPDXXfdlXjnNAaBGAkQEMbYavgMAQgMIMCkMgOQkAEBCDQBAXoIi92Ira2t4Q1veEOxncQ7CIxAgHcIRwDEZghAAAIQgAAEINAoAgyHbxR5jguB8hCgh7A8bU1NIdDUBLhpaurmpXIQKC0BegiL3fRdXV1hzpw5iZOzZ88O7e3txXYY7yAwCAECwkGgkAUBCMRHgIAwvjbDYwhAYGQCvB49MqNG7rFy5crwmc98JnHhgAMOICBsZGNw7HETICAcNzp+CAEINJxA5k6Jdwgb3ho4AAEIVIlAdk4Zrm1VglqjYtra2sIHP/jBpHSnMQjESICAMMZWw2cIQAACEIAABEpBIPPcqxT1ja2SU6ZMCZdeemlsbuMvBPoRYFKZfjhYgQAEYiXAkNFYWw6/IQCB4QjwDuFwdNgGAQhUgwABYTUoUgYEINBwAgSEDW8CHIAABGpBgC7CWlClTAhAIEOAgDADgyQEIBAxAW6aIm48XIcABIYiwMOuocgUI3/p0qVhs802S+Q0BoEYCfAOYYyths8QgMAAAtw0DUBCBgQgECmBlsysMgwZLXYjetKfRx99NHGSCYCK3VZ4NzQBAsKh2bAFAhCAAAQgAAEINJQAgx8ain/Eg3tSmb/85S/Jfk5jEIiRAAFhjK2GzxCAwAAC9BAOQEIGBCDQBATodSp2I/pTEzvssEOxncQ7CIxAgHcIRwDEZghAIA4C3DTF0U54CQEIjI0APYRj48XeEIDA2AnQQzh2ZvwCAhAoCIGWVWtetKGHsCCNghsQgEBVCfAOYVVxVr2w7u7u8POf/zwp9+Mf/3iYNIlb66pDpsCaE+CsrTliDgABCNSMwJp4MAQeo9cMMwVDAAL1JZANAnnYVV/2Yz3aihUrwic/+cnkZ7NmzSIgHCtA9i8EAQLCQjQDTkAAAuMhkL1RyqbHUxa/gQAEIFAUAv2eb/VbKYqH+JESaG1tDXvttVey6jQGgRgJEBDG2Gr4DAEIJARaQraLECgQgAAEmoQAQWA0DTl16tRw9dVXR+MvjkJgMAI8yhiMCnkQgEB0BOghjK7JcBgCEBiCQPZ6Rmw4BCSyIQCBqhEgIKwaSgqCAATqTiDTQcgso3WnzwEhAIE6EMi+T1iHw3EICECghAQICEvY6FQZAk1DgEfnTdOUVAQCEFhDgCBwDYuip5YuXRre8IY3JHIag0CMBHiHMMZWw2cIQGA1gWwPIdOMclZAAAJNQiD7rCs7fLRJqtdU1fDolHvuuSepEyNVmqppS1UZAsJSNTeVhUBzEchOKtPT29NclaM2EIBAaQlkAwt6C4t9GkyZMiX84Q9/SJx0GoNAjAQICGNsNXyGAAQSAtmbpmefeTaEjQEDAQhAIH4C2R7C+GvT3DVoa2sLe+yxR3NXkto1PQHeIWz6JqaCEGheAr29vX2Va5/c3pcmAQEIQKBZCBAcNktLUg8IFJcAPYTFbRs8gwAERiAwqX3NJay1jedbI+BiMwQgEAmB7DDR7EiISNwvlZvd3d3hN7/5TVLn/fbbL0yatObvUqlAUNmoCXAHFXXz4TwEyk3AQ3VS46YpJcGyxgS+qvLdaXNm5jie3ugE6WlpmXSNtJWUNb9cdI70gtQpXSxtKGEQGECAXsEBSAqbsWLFivChD30okdMYBGIkQEAYY6vhMwQgMIAAM/ENQEJG9QnsoCI/K92ZK/oorX9R+py0k7REulLKzjBxhtY/IO0v7S75jddLJAwCAwlkuggzyYH7kdNwAq2treHtb397IqcxCMRIgH7tGFsNnyEAgQEE6CEcgISM6hJYS8VdIB0iHZMp2r2DR0gnSZdV8j+l5TPSLOlCaYZ0sHSAdK1kO0i6V9pZuknCINBHgB7CPhSFT0ydOjXccMMNhfcTByEwHAEeZQxHh20QgEA0BAgIo2mqWB31cM/LJQ8HzdrmWtlIyuYv1PrN0i6SbXupXcruc5/WH5PSfZQcYB3KWSejtQfsQUbTE6CHsOmbmApCoOEE6CFseBPgAAQgUBUCPFKvCkYKGZTAJ5T7VmmHQbY6GLS5RzBrXk+3eblSWpDdQensPrlNyerR+v9xg20gr7kJEAQ2d/tSOwgUjQA9hONvkXfqp7+WnpJ8K+qhQVmboxXnZ/W77A5K+/0SP3VmkoEcGFYhMFYCvWHNJyjG+lv2h8AwBF6lbd+VDpSWD7NfLTadqkI93DTVJrU4CGUWj0D2nehsunie4tGyZcvCDjvskMhpDAIxEqCHcPytNl0/vUP6kTTUxAAOAP2eSGor0kRl6UkG9pX2lzzE6GzJZe0qYRCAwBgIMGR0DLDYdSwEPNzz5dJfMz/y9LZ+KPgFaetKvmcMfbqS9sLrt1fW52s5WZopZXsJvY+3DWX+m5H/uzHUvuQ3EYFsD2E23URVbJqq+Hu4t956a1Kf7Ldxm6aCVKQUBAgIx9/MV+in1nDmP+RD/bFnkoHhyLENAmMkQEA4RmDsPloCv9eOb8zt/GOt3yf9h/Sw5Ov8nlIaAPq9v52k70u226QuyftcLNkcSG4q3egVDAJZAgSBWRrFTnd0dPR9h9BpDAIxEiAgrG2r7aHin5Vekq6VjpE8PNQ20iQDN63ejf9DAAIQgEADCSzWse/KHX+J1n0tT/PPVNrX9wekR6QTJb9OcKlk8wiQ86TTpRelRdJZkoNBrvWCgA1NwO+dYMUl4A/R77uvB3thEIiXAAFh7drOw0UvkXxzsIV0iuQexV2kHmkjaTyTDPjxU/YR1NpaxyBQegK9q3pLzwAADSNwmo7s1wjOlWZK10v7SMul1I5Uwiepewh9Db9SOlTCIDCAQDYIZPTDADxkQAACVSZAQFhloJniLsyk/660P2T8kLSH5CFI47Wj9cPjxvtjfgeBZiLAZAvN1JpR1WWPnLe+fz+2otymvlUHh4dV1JdJAgKDESAIHIxKMfN6enrCtdd6EFgI7373u0NbW1sxHcUrCAxDgFlGh4FT5U0Pq7znpS0r5c7XMp1koJKVLDbU/71tKDtVG9IZ57xk1rmhSJHf9ARagr8Jvtq4gUpJsIQABJqJQLa3sJnq1Sx1Wb58eXjPe96TyGkMAjESoIewfq3mwO1l0tOVQ96m5XgmGfBENRYGAQhkCBAQZmCQhAAEoiaQnVQmm466Uk3qfGtra3jzm9+c1M5pDAIxEihjQOj3Ojql6ysN5iE8h0j3SE57ApjR2FraKe3t8/6bS9tJnjDA8rBOvyvi3j6/Q+h3TB6U/N6IjUkGVnPg/xAYN4HskNFsetwF8sNmI1Ct632zcaE+EIBAlQhMnTo13H777VUqjWIg0BgCZXyU8S2hXqeC+41afkf6reSA7nRptPY27fi3ivwb/9brJ0ieNOZN0q+k+6XzJPcIvkPK9u55koHfSA4cr5McPH5YwiAAgVEQ6DdkNDCwahTIyrZLta73ZeNGfRtMoP8DLq5tDW4ODg+BpidQxh5CB37uDbR9RHJA9jXprZIDw9HaXO245gWmgb9678CsATlMMjAACRkQGD2BfjdN3DONHlx59qzW9b48xKhpIQhkh4lm04VwDicgAIGmI1DGHkJ/6mFapSX30vKqSvpFLdeppFlAAAIREGhpWfNMhncII2iw+rvI9b7+zDliFQjwfKsKEOtUxLJly8Iee+yRyGkMAjESKGMP4fVqKA/vvEHaUfq4ZHut9ESS4n8QgEAcBDJ3Tf16C+PwHi9rT4Drfe0Zc4QaEMg+4Mpc5mpwJIqcKIHe3t7wxz/+MSnGaQwCMRIoY0D4BTXU96SPSp+XnpRs75N+l6T4HwQgEB2B7A1UdM7jcK0IcL2vFVnKrRsBhozWDfW4DtTR0RF+8YtfJL91GoNAjATKGBA+pobab5DG8gQvGAQgECkBeggjbbjaus31vrZ8Kb1GBLK9glzbagS5SsVOmjQp7L///lUqjWIg0BgCZQwITdrvTm4pvbyS1qLPrutLkYAABApNoN+NUvYOqtBe41ydCXC9rzNwDlcFAlzPqgCRIiAAgdESKGNAuLPg/FR6tbRmRorVxHwJblud5P8QgEDRCWQnleldxbsbRW+vBvjH9b4B0DnkxAlk40GGjE6cZy1L6OnpCTfddFNyiJ133jm0tXEbWUvelF0bAmUMCH8glLdK+0pPS9nrrlYxCEAAAhBoEgJc75ukIctWjew70QSExW795cuXh9122y1xsrOzM0yfPr3YDuMdBAYhUMaAcCtx8IQyDw7CgywIQCBSAv2Gj0ZaB9yuOgGu91VHSoEQgECWgEeqbLml30LSsLPMp5Cy+5CGQNEJlDEgvFmN4n+5BIRFPzvxDwJjIUBf/1holWVfrvdlaekmq2f2csbDrmI37rRp08IDDzxQbCfxDgIjEChjQHiWmHxH2kj6u9QlZe3O7AppCEAgDgK9gXcI42ipunrJ9b6uuDlYtQhkh4lm09Uqn3IgAAEIZAmUMSC8uALgRxkQfhjnCWa85G3gDBiSECgygZbsvFDZR+pFdhrf6kmA6309aXOsqhGgV7BqKCkIAhAYBYEyBoSbj4ILu0AAApER4AYqsgarj7tc7+vDmaNUmQC9glUGWsPiPKnMRz7ykeQIF198cZgyZUoNj0bREKgNgTIGhI/WBiWlQgACDSVAD2FD8Rf04FzvC9owuDU8gWxAmE0P/yu2NoKAPzvx29/+Njm00xgEYiRQxoDQ7bSFdIT0eq/I7pG+Kz3kFQwCEIiPAD2E8bVZnTzmel8n0BwGAmUkMHny5PDjH/84qbrTGARiJFDGgPC9aqhfSbdLN1QabVct75Y+IF1dyWMBAQhERCD73a6I3MbV2hLgel9bvpReBwI87KoD5Akcor29PcyePXsCJfBTCDSeQBkDwm8K+xnSV3P4nf8fEgFhDgyrECgsgZbCeoZjxSDA9b4Y7YAXYySQfcDFkNExwmN3CEBgzARax/yL+H/gYaLnDVINzzq6zSD5ZEEAAgUl0G+W0YL6iFsNJcD1vqH4Ofh4CfBK9HjJ1f93fm/w9ttvT8Q7hPXnzxGrQ6CMPYTPCd120gM5hM57NpfHKgQgUGAC2aFU2SfqBXYZ1+pLgOt9fXlztCoRyPYKEhxWCWqNivEso295y1uS0js7O8P06dNrdCSKhUDtCJQxIPxv4TxXeo305wraXbX8inR6ZZ0FBCAQAYFsD2E2OIzAdVysDwGu9/XhzFFqSICHXTWEW4WiW1pawsYbb5yU5DQGgRgJlDEgPFENtVj6d+nUSqM9peXx0n9W1llAAAIREMgGgdw0RdBg9XeR6339mXPEKhDIXtuqUBxF1JDAtGnTwpNPPlnDI1A0BGpPoIwBoUdfeFIZa+0KYgeIGAQgEBmBfj2E2TFWkdUDd2tGgOt9zdBScC0JZC9nDBmtJWnKhgAETKCMk8pcq3rPrDS/A8E0GFxHaW/DIAABCECgOQhwvW+OdixdLbJBYDY4LB0IKgwBCNSFQBkDwj1EdrAvh05R/jvqQp2DQAACVSfAEKuqI22GAvdQJbjeN0NLlqwO/YPAbHhYMhARVNeTyuy///6JnMYgECOBMg0ZfVOmgfx5iY0y621K7yMxCDwDhSQECk+A9/cL30QNcpDrfYPAc1gIlI2APzXxy1/+Mqn2nDlzylZ96tskBMoUEN6uNvNjNmuwoaHLlP+vEgYBCERIgEllImy02rnM9b52bCm5LgTW9Ar27y2sy8E5yBgITJ48OZx99tnJL5zGIBAjgTIFhJurgdyf8LC0o+TvU6W2Ugl/g7AnzWAJAQhAAALREuB6H23T4bgJZIPANaEhbIpIoL29PRx22GFFdA2fIDBqAmUKCB+tUCnje5OjPiHYEQIxEeg3y2jS+R+T9/haQwJc72sIl6JrT4AgsPaMOQIEILCGQJkCwjW1DmELrRwhvb6SeY+W35UeqqyzgAAEYiPAHVRsLVYvf7ne14s0x6kagewQ+GxvYdUOQEFVI9Db2xseemj17eMWW2wRWlvpd6gaXAqqG4EynrXvFV0HgB42emdFO2l5t7S3hEEAAhCAQHMQqNb1/vPC4b8Xiyq6Ucv3San5dYQTpKclv49+jbSVlDXPZH2O9ILUKV0sbShhEBiWQDY4HHZHNjaEwLJly8JrX/vaRE5jEIiRQBl7CL+phvJH6b+aazDn/4d0dS6fVQhAIAICfHYigkaqv4vVut4/Idf9N+MBycHfp6XLpLdIfph4lPRFyfmPSCdKV0qe0Tqdh95/d/aV9pcWSp6F4hJpVwmDQD8CDHjoh6PwKzNmzCi8jzgIgeEIlLGH0MNEzxsEyo+U5z/eGAQgEAmBlhbfm682nqKnJFhmCFTrev9rlflbyQHh/dLXJffy7Sz5JPQrCCdJDhLdk/gpaWNplmTz3eLB0r9JnuX6Nukg6e2Sy8Ag0I9AdpgowWE/NIVbmT59eliwYEEipzEIxEigjAGhZxfdbpDGcp5nGsUgAAEIQKA5CNTiet8mNJ+QfOfnoaObSxtJHiaamnsAb5Z2qWRsr2W7lN3nPq0/JqX7KIlBYDWB7AOubHAIHwhAAAK1IFDGIaP/LZDnSq+R/lyB6iE7X5FOr6yzgAAEIiPAkNHIGqw+7lbzev9GuewA0O8CunfwQ5LfR3cvn+2Z1Yu+/3vdgaLNy5XSAq9kLLtPJrsv2aGUldraaYJlcxOgV7C525faQaBoBMoYEPrdjsXSv0unVhrkKS2Pl/6zss4CAhCIjQB3ULG1WD38reb1/h9y2CNJPPzzo9L50u5SLe1oFX5cLQ9A2cUnwMOuYrfRihUrwmc/+9nEyf/6r/8KHR3ZZzjF9h3vIJASKOOQUd82+uX+TST/Ybec/q7ELaUgYBCAAASahEA1r/fu4XtQ8vt/DtTukA6X5ku2/IyhXk+3eTlZmillLbtPNj9N+6Fl+ncq/VuVbmPZzASydyPZdDPXOdK6dXd3h/PPPz+R0xgEYiRQxh7CbDu5pxCDAAQiJcCH6SNtuMa4Xe3rvR+ouivgEckB357S7ZJtHWkn6ftekTmI7JK8z8WSbWtpU+lGrwxhK5RvYSUjQAwYT4O3t7eH0047LXHYaQwCMRIoY0DoJ7LflvyH+eWSZ4jLWlt2hTQEIAABCERLoFrXe/fUXSF5Ehi/x3eAtIf0Xsn37mdKx0gPSA4QT5T8KsKlks2TzHh2a7+n/qLk7xmeJTkYvEnCINCPQL9JZfptYaVoBCZPnhy+/OUvF80t/IHAmAiUMSCcI0J+Kus/2E9LPIgTBAwCsRPI3kDFXhf8rxqBOSqpGtd7Pzz8H+kVkoM7f1rCweDVks3dA5519FzJw0Kvl/aRlkupHalEr+Qewg7pSulQCYPAAALZGxNmGR2AhwwIQKDKBMoYEO4mhu+Q0qE9VUZKcRCAQL0IZL9DmB0+Wq/jc5zCE6jW9f7gEWrq+/djKxpqVweHh1U01D7kQwACkRHo7e0NTz/t/gU9MXrFK0Jrq0eTYxCIi0AZA8LH1UT5YaJxtRreQgACAwgwE98AJGSEwPWesyBKAtleQa5txW7CZcuWhU022SRxsrOzM/Bx+mK3F94NTqCMjzGOEIpvSpsNjoRcCEAgRgIMGY2x1WruM9f7miPmALUgkA0Cs8FhLY5FmRMnMGnSpGBhEIiVQFnO3pfUQNkh+X7X4yFpqeSZ37K2XnaFNAQgUFwCDBMtbts00DOu9w2Ez6GrQyAbBGZvXqpTOqVUk4B7BLu68reS1TwCZUGg9gTKEhD6KTEGAQhAAALNT4DrffO3cdPXkCCw6ZuYCkKgUATKEhCeL+pt0r9LH5T8geDfS9+QlkkYBCAQOYHsEKvIq4L7EyPA9X5i/Ph1wQgwHL5gDYI7EGhCAmV6h/Brar9TJH+c+EnpcOkcCYMABCAAgeYiwPW+udqzfLXJdBFmkuXjEEGNV6xYEQ477LBETmMQiJFAmQLCT6mB/M0nfxtqlvQB6UCpTAxUXQwCzUMg+9mJ5qkVNakCAa73VYBIEY0jwIiHxrEf65G7u7vD9773vUROYxCIkUCZgqFN1UBXZBrpGqX94G3jTN5Yku/Uzr+WnpJcjoPMrLVo5QTJH6fxsFQfbyspa1O04l7KF6ROyR8s3lDCIACBURDI3jQxrGoUwMqzS7Wv9+UhR00LQSA7qUy/KfEK4R1OZAm0t7eH4447LpHTGARiJFCWdwjdNq6rPwycNU8LNd5/vZ6p9A7pR9IlUt6OUsYXpU9Lj0gnSldK20ipH2cova+0v7RQOltyWbtKGAQgMAIBZhkdAVB5N1f7el9ektS8IQT8lDm17IOvNI9lcQhMnjw5HH/88cVxCE8gMA4CZQoI3WM3R8oO8HYP3Q+kJVJqH04TIyzd25jtcczu7mN5pruTpMsqGz6l5TOSexIvlGZIB0sHSNdKtoOke6WdpZskDAIQGIYAAeEwcMq9qdrX+3LTpPYQgAAEINDUBMoUEJ4/SEv+ZJC8amRtrkI2kjxMNDX3AN4s7SI5INxecu9kdp/7tP6Y5H0ICAUBgwAEIDAOAvW83o/DPX4CgeEJZIfA9xs+OvzP2NoAAm6rhQt9i6cn/TNmBN5tb0AjcMgJEyhTQHjQhGmNvgAHgzb3CGbN6+k2L1dKC7I7KJ3dJ7cpWe3Q/63U1k4TLCEAAQhAICFQz+s9yCFQdQL9hoxmV6p+JAqcKIGlS5eGddddNymms7Mz+EP1GARiI1CmSWVia5uh/D1aG/woKtUTQ+1IPgSankDLmhryns0aFqQgAIG4CWR7BYkH425LvIdADAQICGvTSvMrxeZnDPV6us3LydLMyr7pIrtPmpddnqoVv3+YapPsRtIQKBOBfu8QctdUpqanrhAoDYHs8NHSVDqiik6bNi2sXLkykdMYBGIkQEBYm1Z7RMU64NszU/w6Su8k3VjJu01Lz3Ka3WdrrXu69HQfJQeYJ8VZlNHiAXuQAQEIQAACEIBAUxDgWVexm9HvDPpzExbvDxa7rfBuaAJleodwaArj27KWfrZl5qebK72d9KLkiWHOlI6RHpAcIPqzE/5m4aWSzUM+z5NOl/wbB3lnSQ4Gb5IwCEBgDAQYMjoGWOwKAQgUlkC+RzA7fLSwTuMYBCAQNQECwvE339v00z9kfu7Azna+NFs6TfKbxedKHhZ6vbSPtFxK7UgleiV/kL5DulI6VMIgAIFREOg3ZHQU+7MLBCAAgaITGBgA0kdY5DbzcNGvf/3riYsnn3xy8HcJMQjERoCAcPwtNlc/zUxpMaAgX8GPrWjAxkqGg8PDKhpqH/IhAIFRECA4HAUkdoEABApPIB/+DQwQC1+FUjnY1dUVvv3tbyd19gfqCQhL1fxNU1kCwqZpSioCAQhAAAIQgEDsBAYMGY29Qk3uv98d/NKXvpTU0mkMAjESICCMsdXwGQIQSAhkX+DP30SBCAIQgEAzEKCHsNit6B7Bb33rW8V2Eu8gMAIBZhkdARCbIQABCEAAAhCAQL0IDBgyGvI59fKE40AAAmUhQA9hWVqaekKgCQnw3mATNipVgkDJCeR7BPPrJcdTuOp7dEp3d3fi16RJk/j0ROFaCIdGQ4AewtFQYh8IQAACEIAABCBQBwL5T+jQP1gH6BM4xNKlS5OJZDx01GkMAjESICCMsdXwGQIQGEAgfxM1YAcyIAABCERAIN8jyPvRETQaLkIgcgIMGY28AXEfAmUmwJDRMrc+dYcABCDQeALTpk0LL730UuKI0xgEYiRAQBhjq+EzBCCwmsBwXwKFEQQgAIEmIJDvMWyCKjVVFTzb9cyZM5uqTlSmfAQYMlq+NqfGEGgaAvQQNk1TUhEIQKBCIB8AMhyeUwMCEKg1AXoIa02Y8iEAgZoR4EapZmgpGAIQaBCB/HUtHyA2yC0OOwSBlStXhlNOOSXZ+rWvfS2ZYGaIXcmGQGEJEBAWtmlwDAIQGIlAvx5CpuIbCRfbIQCBCAjkA8D8egRVKJWLXV1d4Rvf+EZS5y9/+csEhKVq/eapLAFh87QlNYFA6Qj0CwhLV3sqDAEIlIEAz7qK3cr+9uChhx6aOOk0BoEYCXDmxthq+AwBCCQE+gWETDDDWQEBCDQBgXwAyGcnit2oHR0d4Zxzzim2k3gHgREIMKnMCIDYDAEIFJhANgjM30UV2G1cgwAEIDAUgXwAyKVtKFLkQwAC1SJAQFgtkpQDAQjUnUBrWHMJy0/EUHdnOCAEIACBKhAYEAAOyKjCQSgCAhCAQIbAmrupTCZJCEAAAhCAAAT6CByt1C3SYulZ6VJpaylr7q8+QXpaWiZdI20lZW2KVjy27AWpU7pY2lDCINBHgElk+lBEkViyZElob29P5DQGgRgJEBDG2Gr4DAEIJAT6vUMIEwjUjsDuKtqB3M7S3lK7dJU0XUrtKCW+KH1O2knyneGVkoPA1M5Q4gPS/pLL3Fi6RMIgMCQBRj8MiaYwG7q7u4OFQSBWAkwqE2vL4TcEIBBaW9Y80yI45ISoIYF9cmXP1rp7CreXrpPcO3iEdJJ0mWT7lPSMNEu6UJohHSwdIF0r2Q6S7pUcaN4kYRAIITdElB7DYp8UU6dODU888UTipNMYBGIksOZuKkbv8RkCEIBAhQBP0TkV6kjAwZ3txdWLsLmWG0keJpraQiVulnapZDh4dM9idp/7tP6YlO6jJFZ2AvlrWS4+LDuewtW/tbU1vPKVr0zkNAaBGAnQQxhjq+EzBCCQEMhOKgMSCNSJgO/4zpRukO6qHNPBoM09glnzerrNy5XSguwOSmf3yW0KHcqwUls7TbBsXgL5HsHefEbzVp2aQQACDSJAQNgg8BwWAhCYOAGGiU6cISWMmYDfJdxW2m3Mvxz7DzyZzXFj/xm/iJlAvkeQeLDYrbly5crw3e9+N3Hy8MMPD5MnTy62w3gHgUEI0Lc9CBSyIACBOAgQEMbRTk3k5dmqy37Su6TVLw2trtz81YsBM4Z6BtF0m5e+U5xZ2TddZPdJ89LlqUp4eGqqTdINLMtDIB8glqfmcdS0q6srHHXUUYmcxiAQIwF6CGNsNXyGAAQSAi0tnssDg0DNCfhEO0v6kLSH9IiUNa874NtTur2yYR0tPdvo9yvrt2npu0Xv489N2LaWNpVu9MogtkJ5FlYiAgM+TE8XYaFbf9KkSeHTn/504qPTGARiJMCZG2Or4TMEIJAQyPYQZtPggUCVCXiYqGcH/aDkbxGm7wV64phlkjtx/F7hMdIDkgPEE6WnpEslm/c9Tzpd8mQ0iyQHmQ4Gb5IwCCQEfDJljXgwS6N46Y6OjjBnzpziOYZHEBgDAQLCMcBiVwhAoFgEskFgfma+YnmKN5ET+HzF/7m5ehyk9TmVvNO09HcJz5U8LPR6aR9puZTakUr0Su4h7JCulA6VMAj0EcgHgEwq04eGBAQgUCMCBIQ1AkuxEIBA7QlkA8LaH40jlJjAaMYmu2Pn2IqGQuXg8LCKhtqH/JITyD/cygeIJcdD9SEAgRoQYFKZGkClSAhAoD4E+OxEfThzFAhAoHEE6CFsHPvRHHnJkiVh5syZiZzGIBAjAXoIY2w1fIYABAYSyL94M3APciAAAQgUngA9goVvogEOLlzoV4QxCMRLgIAw3rbDcwiUnkBry5pBDvlhVqWHAwAIQCBKAt29/Z9u0UNY7GacOnVquP/++xMnncYgECMBAsIYWw2fIQCB4KnZ+71D2P8eCkIQgAAEoiTQ09P/YkaPYbGbsbW1NWy11VbFdhLvIDACgTWP10fYkc0QgAAEikTAPYL9AsLRTPtRpArgCwQgAIFBCPTkIsBch+EgvyALAhCAwMQI0EM4MX78GgIQaBCBfECY/5hzg9zisBCAAAQmRKCn118mWWMMh1/Dooiprq6ucO65/tpMCJ/5zGdCe3t7Ed3EJwgMS4CAcFg8bIQABIpKID9ktF9vYVGdxi8IQAACIxDIv0OY6zAc4ddsrjeBlStXhi984QvJYWfPnk1AWO8G4HhVIUBAWBWMFAIBCNSbgJ+a89mJelPneBCAQK0J9OTGiDL6odbEJ1Z+W1tb+OhHP5oU4jQGgRgJEBDG2Gr4DAEIKBzsP/ECSCAAAQg0A4HciNGQiw+boYpNVYcpU6aEiy66qKnqRGXKR4BJZcrX5tQYAk1BgHcIm6IZqQQEIJAjkP/MBENGc4BYhQAEqk6AgLDqSCkQAhCoBwEPo8p+h3DhTD4MXA/uHAMCEKgtgfzYh3yAWNujUzoEIFBGAgSEZWx16gyBJiDQG3r7fXaC9wmboFGpAgQgoCGi/UPC/msAKhqBpUuXhle+8pWJnMYgECMB3iGMsdXwGQIQSN4hzM4smk2DBwIQgECsBHLxYGBSmWK3pNvnqaeeSpykrYrdVng3NAECwqHZsAUCECgwAf/hzQaBLS18mb7AzYVrEIDAKAnkg4p8gDjKYtitTgQ8qczf/va35GhOYxCIkQABYYyths8QgEDSQ5gdJppNgwcCEIBArATyQ0TzQ0hjrVez+u1PTWy33XbNWj3qVRICvENYkoammhBoNgL5z05kewubra7UBwIQKA+B3tx3JvIBYnlIUFMIQKBeBOghrBdpjgMBCFSVQP6zE/QQVhUvhUEAAg0ikA8A6SFsUEOM8rBdXV3hggsuSPY+8MADQ3t7+yh/yW4QKA4BAsLitAWeQAACYyDg92yyQWA2PYZi2BUCEIBAoQgMCADzEWKhvMWZlStXhoMOOigBsf/++xMQckpESYCAMMpmw2kIQCD/2YmWVUwqw1kBAQg0AYFcADggQGyCKjZTFfwO4fvf//6kSk5jEIiRAAFhjK2GzxCAwIDPTnQs74AKBCAAgegJ5F4h1Gcnoq9SU1fAM4tefvnlTV1HKtf8BJhUpnZtfLyK9mU8q/syh3N3xgnS09Iy6RppKwmDAARGQYDPTowCErtAAALREchPmJUPEKOrEA5DAAKFJ0BAWNsmulvFvyKj3TKHO0rpL0qfk3aSlkhXSnzERhAwCIxEwDdNrS1rLmHMMjoSMbZDAAIxEMgHgAwZjaHV8BECcRNYczcVdz2K6n23HJuf0fMVR907eIR0knSZdKf0KWljaZaEQQACIxDoXdXbb49scNhvAysQgAAEIiKQ/zB9RK6X0tWlS5eGrbbaKpHTGARiJEBAWNtW8xDQp6SHJc9JvKlk21zaSPIw0dQWKnGztEuawRICEBiaQP6miR7CoVmxBQIQiIdA/p1BegiL3Xb+W/Tggw8myv9dKrbneAeBNQSYVGYNi2qnHNzNlv4hedjocdKfpG0lB4O2Z1Yv+v7v9XRbX2Yu4ZkzsrNnrJ3bzioESkEg/55NYJLRUrQ7lYRAsxPIX9vyAWKz1z+2+nlSmeuvvz5x22kMAjESICCsXatdkSnaQ0IdID4qfUy6VxqvHa0fOrjEIFBqAgOGjOqrhBgEIACB2An09h8NH+ghLHaL+lMTu+66a7GdxDsIjECAO6gRAFVx8wKVdb+0peT3Cm0brl70/d/r6ba+zFziVK3PyGiT3HZWIVAKAvmhOS0tdBGWouGpJASanICnJs9afj27jTQEIACBahAgIKwGxdGVsZZ2czDoz0w8Ijnw21NKbR0ldpJuTDOGWK5Q/qKMFg+xH9kQaGoC+R5C3iFs6uamchAoDYF8j2D+4VdpQERS0e7u7nDRRRclchqDQIwEGDJau1b7tor+teRhop499BuSrxQ/k/zA70zpGOkByQHiiZInoLlUwiAAgREI5N+zYZbREYCxGQIQiIJA/p3B/HoUlSiRkytWrAgf+5jfBgqhs7MzTJrErXWJmr9pqspZW7um9FBOB38vk56Trpd2rqS1CKdJ06VzpZmSt+8jLZcwCEBgBAL5gJAewhGAsRkCEIiCQL5HMN9jGEUlSuRka2tr2H333ZMaO41BIEYCBIS1a7VPjFC0ewmPrWiEXdkMAQjkCeRvmvLbWYcABCAQIwHfHGSNHsIsjeKlp06dGubOnVs8x/AIAmMgwKOMMcBiVwhAoDgE8gEhQ0aL0zZ4AgEIjJ9AvkewNx8hjr9ofgkBCEBgUAIEhINiIRMCECg6gd7Qf252howWvcXwDwIQGA2BfI9gfnj8aMpgHwhAAAJjIUBAOBZa7AsBCBSGwKrcY3M+O1GYpmlGR96pSnmSME/85f6aWVLW/M2TEyTPIr1MukbaSsraFK2cI70gdUoXS/lPDykLKzuBfA9hPkAsO5+i1X/ZsmVhu+22S+Q0BoEYCRAQxthq+AwBCOiuvP84qlY+TM9ZUTsCngDsDumwIQ5xlPK/KH1O8ueDlkhXSg4CUztDiQ9I+0u7S559+hIJg8CwBPLD44fdmY11J9Db2xvuuOOORE5jEIiRAJPKxNhq+AwBCAwICOkh5KSoIYErVLY1mLl38AjpJOmyyg6f0vIZyT2JF0ozpIOlA6RrJdtB0r2SZ5++ScIgkBDI9xDmBkNAqWAEpkyZEq666qrEK6cxCMRIgIAwxlbDZwhAYGBAGHxfjkGg7gQ21xE3kjxMNLWFStws7SI5INxeapey+9yn9cck70NAKAjYagL5IaL9x0JAqWgE2trawt577100t/AHAmMiQEA4JlzsDAEIFIXAgHcICQiL0jRl88PBoM09glnzerrNy5XSguwOSmf3yW1KVjv0fyu1tdMEy+YlkO8RzPcYNm/NqRkEINAoArxD2CjyHBcCEJgQgQHvELZwOZsQUH5cRAJHyyn3NqZ6oohO4lN1CQx4Z5AuwuoCrnJp3d3d4fLLL0/kNAaBGAnQQxhjq+EzBCAQelf1f3mfz05wUjSIwPzKcTfU0rOMpub12ysr3meyNFPK9hJ6n/T3Sg6wU5VzeibXPYQEhRkgzZjMDxmlh7DYrbxixYqw3377JU52dnaGSZO4tS52i+HdYAQ4awejQh4EIFB4Avmn6HyYvvBN1qwOPqKKOajbU0oDwHWU3kn6vmS7TeqSvM/Fkm1raVPpRq8MYSuUb2ElIpAf/ZAPEEuEIoqqtra2hre97W2Jr05jEIiRAAFhjK2GzxCAQOh+gaE5nAZ1I7CWjrRl5mieSGY76UXJE8OcKR0jPSA5QDxR8jcLL5VsHvJ5nuTePv9mkXSW5GDwJgmDQB8B3iHsQxFFYurUqeGWW26JwlechMBQBAgIhyJDPgQgUGgCvYv7DxnlO4SFbq7YnfPj/z9kKuHAzna+NFs6TfK3Cs+VZkrXS/tIy6XUjlTCJ617CDukK6VDJQwC/Qj05CJCXiHsh4cVCECgBgQICGsAlSIhAIH6E3hN+2vqf1COWBYCc1XR4b5r4nv2YyvSYlBzcOgP2w/1cftBf0Rm+QgMCAgZM1q+k4AaQ6DOBBjsXGfgHA4CEIAABCAAAQgMRaCrp//oh2vufXaoXckvAIFly5aFXXfdNZHTGARiJEAPYYyths8QgMCgBDzRTEvLcB05g/6MTAhAAAKFIZDvISyMYzgyKIHe3t7w5z//OdnmNAaBGAkQEMbYavgMAQhAAAIQgEBTEujOvUPYlJVsokp1dHSE//3f/01q5DQGgRgJEBDG2Gr4DAEIQAACEIBAUxLo7mEamZga1t8dnDVrVkwu4ysEBhDgHcIBSMiAAARiJZD/NmGs9cBvCECgvAS6GXZY3san5hBoEAECwgaB57AQgAAEIAABCEAgTyAdMvqmTWbkN7FeQAI9PT1h7ty5iZzGIBAjAYaMxthq+AwBCAxKgB7CQbGQCQEIRESguzLL6Gs3XDvc+cTCxHMmzCpuAy5fvjy8613vShzs7OwM06f7k6QYBOIiQEAYV3vhLQQgAAEIQAACTUwg7SGc0r5mEJfz2tuYQbmIze6ZrbfZZpvENWa5LmIL4dNoCBAQjoYS+0AAAlEQoIcwimbCSQhAYBgC6aQyU9vb+vZyXma1L59E4wlMmzYt3H333Y13BA8gMAECax4/TaAQfgoBCECgCAR6VvH+RhHaAR8gAIHxE1jTQ7gmIOxiopnxA+WXEIDAiAQICEdExA4QgEAsBAgIY2kp/IQABIYikL5DOCXTJZj2CY0/5AAALfdJREFUGg71G/IhAAEITIQAAeFE6PFbCECgUASufeHaQvmDMxCAAATGSqCn8mH6yW2tobXy2mAaJI61LPavPYFly5aFvffeO5HTGARiJMA7hDG2Gj5DAAKDEpi3bN6g+WRCAAIQiIVAVyUgbFM0OKm1NazUrKPpMNJY6lAmP3s1nPeaa65Jquw0BoEYCRAQxthq+AwBCPQj4KGibS1tgT/G/bCwAgEIREigpxJUeFbRSdJKvRrNkNHiNmRHR0f4yU9+kjjoNAaBGAkQEMbYavgMAQiEeV3zwmbtm4Xr5l0X3v7qtydEeIeQEwMCEIidQJdmFLW1qXdwUmXMKJPKFLdVJ02aFA488MDiOohnEBgFAd4hHAUkdoEABIpHYPGyxYlTv/v778Iq/Wfr6WGW0QQE/4MABKIlkL5D6N7Bdr1HaKOHMNrmxHEIREGAHsIomgknIQCBPIGVK1cmWT3dPaFX/9l6egkIExD8DwIQiJZAl94ZtLl30O8R2rp5Ny3hUMT/+UHkX//618S1t771raGtbc3nQoroLz5BYDACBISDUSEPAhAoPIH2tvbEx56unr4ewt5VvNBf+IbDQQhAYFgCa3oIW+khHJZUMTYuX7487LjjjokznZ2dYfr06cVwDC8gMAYCBIRjgMWuEIBAcQi8ad03Jc7s+LYd+3oImVSmOO2DJxCAwPgIpMND3UPoYaM2egjHx7Iev2ppaQmvfvWrk0M5jUEgRgIEhDG2Gj5DoOQEVqxY0UegVRMvpENG02XfRhIQgAAEIiOQBn9JQJhOKlOZaCayqpTC3WnTpoV58+aVoq5UsnkJMKlM87YtNYNA0xLo6urqq1tLaOkbMjp9FUN1+sCQgAAEoiSQfnPQvYMPPbckqcPhF/4tyrrgNAQgEAcBAsI42gkvIQCBDIErXrhizZomGHVQaJu5auaafFIQgAAEIiSwsnv1u9DpDKOuwjOL1oyKiLBKuAwBCBScAAFhwRsI9yAAgYEELnjmgr7M3pbesFbLWsn6RT++qC+fBAQgAIEYCayszDI6ufLJiRjrUCafPanMrFmzEjmNQSBGArxDGGOr4TMESk5gauvUPgJLulcPqXLGR3f7aF8+CQhAAAIxEli8vDtxe/IkntnH0H7+7MRll12WuMq3cGNoMXwcjAAB4WBUyIMABApN4PUtr+/z7+/3/z2ELVevTlqHS1ofGBIQgEB0BJbrMzrPLV49PJSAMI7mmzx5cjj33HMTZ53GIBAjAe6eYmw1fIZAyQnsG/btI7C0Z2lfetIMLml9MEhAAALREbj7qUV9PjNktA9FoRPt7e3hkEMOKbSPOAeBkQgwHmEkQmyHAAQKTWDz12/e59+kFgLCPhgkIACB6Ah0Vd4fjM5xHIYABKImQEAYdfPhPAQgsM+2+/RB6Ak9fWkSEIAABGIjkM4wmvrdwXuEKYrCLnt7e8Pdd9+dyGkMAjESICCMsdXwGQIQ6CPwnpnv6Utv3bZ14A9yHw4SEIBAZASyAeHL1uoIM6a2R1aD8rm7bNmysO222yZyGoNAjAQICGNsNXyGQMQEnl7xdOhZVb2evNbW/pexs885O2I6uA4BCJSZwJKVq2cYNYP1pk8Ox+y3TR+Ox15Y8750XyaJQhBYf/31g4VBIFYC/e+kYq0FfkMAAlEQ+POCP4eNr9847Hv7mklhBnN8ZffKIYPGecvm9fvJK17xin7r3/vh9/qtswIBCEAgFgIPPbf6Mzpv3+JlicubrLvmEzs9q1bFUo1S+Tl9+vTw3HPPJXIag0CMBAgIY2w1fIZApATOeeKcxPMrX7xyyBp866xvhY4/doRJ104KDy19aMB+P/rHjwbkZTOmrrXmBiqbTxoCEIBA0Qn85+8fSFz880MvJMu3vGpmn8uf/8ltfWkSEIAABKpJgICwmjQpCwIQCA888EC47bbbwvPPP5/Q+K8n/itsd/N24cnlT4a2lrYkb7/J+4V77rknrFix+ntbxzx0TDj4loOT37377e8Ot868NXxs8sfCO857R8h/6PecF1cHlVnUP/7bj/tWt/vAdn3pNLFKT9ZvuPuG8B+3/Ee4Y/EdaTZLCEAAAoUm0NLS0uffffMX96WziWcWLQ+zzrkhHH3JncHXuqHsricXhgVLVw61mXwIQKDEBAgIi9H4h8mNedJy6WZpRwkrMQFPjPLwww+HF198sR+FBQsWhIceeih0d695z6TfDlp54oknwtNPP53PHnJ90aJFSZldXV1D7pPfsKh7Ufj43z8e/vfZ/+3btHTp0vCJT3wiuDzbo48+Gr72X18L33rgW+GTvZ8Ml//j8nD48sOTYO/4accHv3x/1113JUHgJs9tEg5tPbSvLCeOmnZUePqZp8Oe/7FneOf57ww33nNj+OVtvwxXzbiq335emfbitL68L+z9haTMtX6/Vnh28bNJ3f7617+GKcunhL1a9wofu+1jffuOlHA7PPLII+GFF15IbrQee+yxMH/+/JF+xnYIDEeA6/1wdJp8222PvhS+8ss7w0tLBgZm/ih9al993+vSZL/lkhVrrv1p8LfTKb8Ptz++IPzsL4+HzY/+bfj1HU8lv3nw2cXhD/fpGvhcZzjtd/eF/c66Pux1+nX9yktXXFZaXprHcnQEli9fHg488MBETmMQiJHAmkdPMXrfHD5/XNX4H+lzkoPBI6T9pa2lZ6WRbB3tsFAW1lnHydqZ3//69fO/Dse/5vjQ0dpRuwOpZAcnzzzzTPKS9pQpU2p6LBfuP4Qnn3xyeOtb3xre//73j/l4999/f7j66qvDPvvsE7bYYoshf+9A7p4H7gmdSzpDm/67f537w9JpS8NnN/ls8psHH3ww/OAHP0g+ctvZ2Znk+UV1PyX25ClmkrXFrYvDelPXC+d3nR9Of/b0cPjUw8P/6fg/yS7XL7w+tDzfEr74sS8m7za4jIfbHw6XPHdJ2G3mbuHmhTeHw9Y6LDz5xJPJ/i972cvCZpttli2+L/2XeX8JZz9+dthy0ZZhs5c2Cz+d8tOw7obrhp3bdw5/6vpT2PKFLcMHN/xgmDx5ct9vqpH4+Yqfh10n7Ro2adtk0OLevfDdYeG7F4Y777wzOWcG3WmIzMVTFoe95u8Vtl9n+3DsuseGRasWhZnrzgzfeOQb4eZFN4efbPqTpL6TwupvG858zcyw4OEFSWmbbrppcHC4bNWy8ODdD4b37P2e4I8Tu4187t66/NbwQOsD4chNj0z2f+mll5Le0I022mhQb+p9vg/qRMEzl+jVqrXWspN+4DDDCf9vzVe8nVN8i+Z6X3yUtfewt3dVWKnvAk5pXz2ywUdctrInTJ28Zn0sXtz26IvhI9+/MfnJutPaw1++vpf+9gRd30N43f/9XejR8VL75M6bhpNmvTFZ3e6Eq9Sz1/+B3UbrTAnz1TP4jq3WD396YPVojPS3Xr5y5tTw5ILBZ7x8s4ah/vOum4V/qMfRddtn243Ce85YHSg+fMr7dR2r762hA+H2ttbQNo7jdqt9fnTDI2HXLdcPb9g4uS5kMdQlvUQXp7VWX5yC/27zHmH1sPsB84wZ0V7vqweiDiXV9199HSoU4SEcBN4ifaHiu3ttH5fOkr5ZyRtukQSE3/nOd8Ls2bPDeuutlwzFu/nmm5P1dLjJ4u7F4YL5F4RZG8wK8++dn/TM7PLhXcK1L10b/nnjfw4/m/+zsO1a24bt1t4u/OpXv/r/27sTOCnKO//jvxmGGY4ZbhgEATnk0IAIIp6AEO8YjRJ1k92VuBtjdtfdmJA/MUYlmt24xvhyN8GYuOq42USFmJc5NEZRSHYNYuRQjHLJodwgMDDADMzx//5quqBoei6Ynuma+Ty+vtbR1dXP867uop6q6h7r0qWLjR07NjiI9XV6yXo1y6a0nWIju4y0B05/wH675rdWUFBgayrW2MQuE+1v3/tb+1rvr9ngbYMtr2eezT402+atn2c3dbzJlu5datdmX2snDznZnnv3Oes3rJ/t2bfHxhaMtW5du9mft/zZOlZ1tGF5w2xg34FB/cJGv5n/pnWr6GY7N+y0nj162hXDr7A5c+YEB98XTrnQbtl0i80omGGz35lthX0LrX+n/jaiYISt0H+nFZ9mf3nrL/bCzhdsUrdJtn/ffms3uZ31a9vPRmaPtKrcKpvzwRyb++JcK/642JbuWGr/cP4/2MChA+2nXX9qN3S+wfLb5ltx+2JrU9zGJlRNCH7s5JHVj9hXh3zVVh9YbTPKZ1j7He3tmUHPBFX+qOIjW3VolY08ONJ6duoZNsMWHlpo49uOPzydauSZd5+xGz9xY6qHjnvelsot1ju7uiPi2+qVg6/YBW0vsNNzTj9mnUs2LrE+uX2ssGdh8NiOyh32bsW7NqntpGOWzYQZE7dMtJIrS2zZsmV28OCxZ9wbWsfyqnLz/9plnfhJiLN2n2XnZZ9nt3a51U6rPO1wVRblLbLyXeX2RukbNlv//U+n/7GBOQMPP96xoKNt3rPZygrKbF3HdZZTnmOdN3e2LcVb7Ln852z68Ol2oOKAXdvj2uDK5WOrH7PcDbn29eu/Hqxj3bp1NnXqVHvgsQdsS5ctNnXAVPvvzf9t5+eeb212tbFNmzYFV2fz8vKsTZs2ljMox8oOltnw9sPN53n8tt/pd063yfdMtnG54+zlti/b/afdbznZOTZv3rzg+X7i5Nlnn7UBgwbY293ftrl759qVuVfadQOus7kb59ryquW2uWqz3dr5VsstybXswmx7pfgV67Wkl/Xq1stGjhxpz5U8Z+M7jbf+7frb05uetotyLrJe3XtZ0cYiO7DggHXq3sl6dO9h1++53p7o86zdfJpf3Y11h7BR9vfpOAH40c791kN/5uB4OzuH38BNMOJ/vP1tXREbflIny8+rPmETfdlZ81bbntJDNuPS4UGnqWuH3MPt8k7e2o/32XrlvME9gg6Rz1um2yl/vvBDmzSspw3s2dH2lVWo8/anYLWfObOvlejK3LDCAvuh1n39WSdbV/0C6I//sMYKO+VZh9wcc79yrecfLxpsk4cX2r2/fc+uPqOPOmvbbd6K7dHq1Wv8B391pl2l53t59s8f2oznltXreY210FM3n619zgHbvrfMHnx5ZbDangV5NqhHR+vXrUNw6+kdV4wwv13VO7KnaVt4h8470Nv2lAWeH2wrsStHnWT71Yl++s0P7YZx/WTVRp3qSnvolRX2pYmD7Vz9eM6omS8H6x8k99smD7Hbn62+rf/X/3S+rdGP7BS0y7F1+oXVv2wqtvc377VPaZ2Th/eyBfqepTuH5XPj+1thQTu7fGRva6+O7ke79tv02W/bpuJSbedsG6rt5z/S87VLhtlarffjfWU27pRu1rtzu2AbFh84ZO9s2K2rqtstV3//ccZlw2xHycHgvePvMz9xvHaH16dt8Hj4J0HWbd9jj8yaFSz3ra/fbh/urv4qhFuFx2BhHRtjuFnbJUv/5bTJCj6zj/7hA9ur9/ttk0896uRFQ19rk04gdNKfOUn+TEX3DX5CZEdJWfAeaOj6j2d5OoTHo3Z8z6FDeHxujfUsv5yyX5mqPB9Z6VMa76JcHZlX02jQIfzkbZ+0tnltbcqUKfbqq68Gy/br18+GDh0ajL/e7nUrzU7cyvCbxKquOnaV5+w4x95Y8EbwwH033hcMl+9dbltKt9iagjV2c7ubg3nvH3zfRuSOCMbv2ndXMPT/3dex+jk+/ouyX9jUPG9adbnrpbvsuonX2ej2o8NZGTecuX+m+e2MlHgI9B3a13oX9A46OQ25TbYpWnfPvnvs2x2/fUIv9UTpE4c/c+GKws/bN9t/09pntw9m+7zhq4Zb3759g89/v+797JaLbwkeu3vf3aabwY76bJaUllh+u+ByW7jaY4ZP7NBr96j+vPuDD+15yEYfGB10CH16yJAhwcmDi0dd7JP2dvnbdkbOGcF4+L/79t9nd3U4sn/wenYr7ma396m+cnrv/nvtUNUh61DZwe4ouCN8mvly0X3J/EPzbXz5ZLvwwjO1TGw7hI22v+/3ldmWnXfkNukQzq8WVeqg9fXVH+uKSXf75IhCe3HZ5uCA3K8W7dEBbx9dOeqkA1o/qNyVdNUpXE/yMOgAqVP1f6t32BQdiHuHyTtDyd9p86tSg3vl2x9XHukAnaSD7c06IPcytDDfVm6tvvPhlO4dggN0P7hc/OHuwy/54GfPUMfCbO572+wF1d3LOYO62Umd26szsOeY1/Q/zbAzxe2Xh1cY05Holbr5K7bZtCf9vDGltQtcdnpve+kvW2pkOLN/F1uS+DydPbBb8Dn/aOfRV4r9pMWseR/UuI7wgUtPL7TXdMvxoYrqK9fTLxl6+OSAd9y9A//Wul3mt0F7x/odnVTxH0Hy/cDvVUc/ceAnSfzEwLDeBcHnd+rYk+3V97cFV8U/qxMrYfGr3N7Z9059R500+OXijVZWXmHXnN7V/npCcELVLxP6zp+SJgE6hGmCredq/fSf3693nrIg8pwHND5RSXU5KU/zPWEp0MiG+fPnH75lIXyAIQItWeDlgy/bHece6USMmj/Knix4siU3uVW37cCB7Lh3CBttf19Th7BVv0FaUOOjnUFvll+BG/zNF+ts4ZcmDLIf/3FNncuxAAJxEags228fPex3hsTyKwJxYQ7qeey9FrGqfqusrB8B35Pc8jd3vmn55fnBbZQVOqtSWVUZfKfp8HLq+h9qd8jaHGpjlaWVwa0P2R2yrTJHy5W2DR7zZdse0Hjix0XO7HqmtctuZ2/teStYTUXbChvfvrqPumjPouC7V8WVxfZexXuWXV69rn7Z/Q5/32vBoQV2bttzg+eWVpXakp1LLCcnx8Z1HmcHqw5abpafMDfbXbHburTxC6LVZdX+VXZqh1PDyaOGK8pXWB/9V5Dj/eDqsrR8qY3O0a9YVmy0vm36hrPNb3fskd0jmN5Vucu6ZncNxv22wJys1G99r/Op2adajzbVz9taudUKswttcfliG5Mz5vC6oyN+S6avs6bvuUWXZbx2gT8c+oN9a+e3bPSK0faDCX7XdOryq7Jf2crXVppVv72ChR4d/ajd9vJt9oPBNT8v9drSM9ffS+Nzxlt2lt8FfqRUVFUc/rXVReX6HOWMPfJg0pivo0NWh8NX3j6o+MC2VW4Llsovy7eR+SNtfcV621S+ydqWtQ3m+w/h+C+zntu9GuetvW8Fn++zc84OXndr6VbbeGCjjek6xtbvW28DOg5IetXqyQU7F1j3zt1taJuhwf5kcclifdm2+vu9voR/Z9L3Ff46/vn2z6F/p7S4vNg653S23ZW77f2K9w/vA9YeXGtbsnRme682W7fqunn7sqp061NZjuW1z7OROSPtgwNqY84265/V3/rmVH+e3zj0hvWrHJ6yni185h1q3zH7+/q22f+Wnf/5Av+Omn9Xra7it+btLT3yoyXh8n41L1srWaPb5cboCkRH3T6X6ntrvrzfqncg8uMotb12gdazN/IjKf58v8rpxW/hjH5vrruuBH7cAq4E3q0/NO+35U2fU31bZNBY/c/dxgzoYj+9WfuMpO/S+a2Y6+6/0or0Xbk5izbou3KdbPZbG2zUyZ3tFnUC/QrQJbqaM7hnvvx62l8/7ncmV5cHpo7Sba3tgltbf6Hn+K2u/6E/bfE35wywF97ZbGf066yrOVvDxRkeh0CVjrcq9lRfFW+jr4lkJe3zj2OVNT7l3EHdbcGaj2t8vD4PDNfVuuSr+3U9r5P2DSN0W/DCtTuDRcPPqV+199tqw3X60G+l9eX66O4Av13Xi8/zW3L9zgW/g8FLuA4f9yuNvt8I54X7F7+l2L9DRUm/AFcI029c2ysczy1EKa8QpuM7JbVVnMcQQACBphRoAT8qw/6+Kd8wvBYCTSTAj8qkD5rvEKbPNnnNR5+6Tn6U6XQLHNQLLFKmRF7It4lPR28hjTxsZZrw+6jD6Hw7BQEEEEAgwwXY32f4BqJ6CByvQIcOHcxDQSCuAqnvm4tra+JZ74dU7acUvy/zTeUrSkflSYWCAAIIINByBNjft5xtSUsQCAT8z0z4VUIKAnEWoEPY/FvvWVXB/zbBvYr/bYClymUKN/ULgYIAAgi0IAH29y1oY9IUBBBAoKUI0CHMjC35Q1XDQ0EAAQQQaNkC7O9b9valdQgggEDsBPgOYew2GRVGAAEEEEAAAQQQyASBsrIy++IXvxjExykIxFGAXxmN41Y7us6dNKkfGS22Tp18lIIAAgi0PIEW8CujjbFR2N83hiLrQKARBfiV0UbETFoVvzKaBJLGSW4ZTSMuq0YAAQQQQAABBBBouQL+N1m/853vBA30cQoCcRSgQxjHrUadEUAAAQQQQAABBJpdIDc31+68885mrwcVQOBEBPgO4Yno8VwEEEAAAQQQQAABBBBAIMYCXCGM8caj6ggggAACCCCAAALNJ1BVVWU7duwIKtCjRw/LyuLnOZpva/DKxytAh/B45XgeAggggAACCCCAQKsW2L9/v/Xq1SswKCkpMf9D9RQE4iZAhzBuW6yG+vovMVEQQACBlirgvzJaXdjXsb8P3wsMEWh+Af+V0bD4Z7OioiKcZHiCAuzrThCwAU/nunYDsDJ00b6q14YMrRvVQgABBNIlcLJWvDFdK8/Q9bK/z9ANQ7UQQCCtAq1xf59W0OSV0yFMFonftG/DPsreGFW9QHX1Tqx/wONU72Ri2pEs0vzTbJPm3wbRGqRre/h6NylV0RdrBeMN2d+nyz4TmGlbJmyFhteB7dZws0x4RnNvN3/91ri/z4RtTx0QSKuA/3FlP5DzYZwL7ci8rcc2yaxt0lK2R2ap1q82LdmettXvPZBpS7HdMm2L1K8+LXm71U+gFSzFn51oBRuZJiKAAAIIIIAAAggggAACqQToEKZSYR4CCCCAAAIIIIAAAggg0AoE2rSCNtLEzBTwn+Gar8T957hoR+a9v9gmmbVNWsr2yCzV+tWmJdvTtvq9BzJtKbZbpm2R+tWnJW+3+gmwFAIIIIAAAggggAACCCCAAAIIIIAAAggggAACCCCAAAIIIIAAAggggAACCCCAAAIIIIAAAggggAACCCCAAAIIIIAAAggggAACCCCAAAIIIIAAAggggAACCCDQ2gRmqsH+x+ajWR5ByNL4vcpm5YAyVzlViZZ2mpilfKyUKM8phUo6ywSt/DfKJsXrfo0SLY1V725a6c+UPcpu5XElX2msUlc7ivRC0W3j4y8lvXh9/NPdjjtUpz8re5VtyvPKMCVa4rBN6tOOIjUqDtvky6rnO4q/dz0LlMuVsMRhe4R1bQ3DU9RI37+sVXxf+4HybSVXiZb+mnhB2a/4Z+17So6S6eVOVfBPitfb96WpSvLnyqdvTLVghs2rT9viut1SUa/TzORt9Y1UC8Zg3j+qjuuUUmWhcrYS9zJTDUjePsvj3ijqjwAC6RWYqdW/q/SOpIfGwzJDI/6P99XKKOVXyhrFOyFh+ZFGPlQmK2MVP/B8XUln8QPb7yifUXzHd40SLY1V799ppUuV8coFyirl50pjlbraUaQX8jpEt0/XpBf/kabr8k93O15SHaYppytnKH7Aul7pqIRlhkYa472UzrbUpx1FaofXIdO3yVWq4xWKn8AZqvyrclDxbeQlDtujuqat4/+XqZlPKpcog5RPK1uVB5Ww+J+cWqa8ooxWfP+xXfk3JdOLd25vV76v+H4gVfF9+TQl+tmK/luT6jmZMK+utsV5u6XyXaeZdynR7RTd16d6TibOu0GVKlO+oJym/ETZpfRS4lxmqvK1HdfFuW3UHQEE0iQwU+v1Dk+qkqWZm5XpkQc7a7xUuTExz6f9IHNqYtoHwxX/h/0cn2iCktwhbKx6j1Ddfd1nRdrgB22VSp/IvMYaTW6Hr7dIed5Haij18W/qdnhVeyrengk+oRLXbZLcDm9LkRLHbeJ136n8nRLX7eFtaE3l62qsn4ALi3cAK5TCcIaGtyrFSm5kXiaPTlPlausQXpPJla+jbjW1rSVst2jT12niK9EZMR1fqHr/MFL3bI1vVL4RmRfH0Zmq9NI4Vpw6N1zA37QUBBpL4FStaJPiBx4/U/orXgYqvRW/TTQsfuDhO9FzEzP8imBbJbrMck37FatwGY02aWmsenv9/cDlrUjtvZ2VyvjIvHSPTtIL+K1hK5QfKd2VsNTHvzna4R1VL94B8RLXbZLcjurWmE3SSJy2iV+huFHxs/h+BT+u20NVb1XF33/hZ8gb7p9lv0K41ScS5fcadlLCK7/h/LgOZ6niO5Q3lZuVLCXupSVuN+80+ddElih+4iIOty2rmoeLn0Dxfz+jxy7+b7tP+/aKe6npuC7u7aL+SQJx++AlVZ/JDBLwzt00ZYVyknKP8r/KJxTvDHqJHnyE0+FjPvQrhN5xihZ/TrhMdH5TjIeve6L19vX4QX+0lGvCD9DC14g+lo7xl7TSXyprlcGK3xr2O8X/wfIrBV6Puvybuh1+wuph5XXlXcVL6BWnbZKqHd6WOG2TkaqvdwD9trsS5TPKe8p5ipc4bY/qGree/w9RU29Tpkea7J+jVNvMFwk/Y5HFYzd6t2r8muLfM7xEeUTJV/5TiXNpadvNt8dixf8t9H3JdxU/fviqEpfSQxX1E2WpPk9+l1Ocy0JVfpqS6rhub5wbRt2PFaBDeKwJc45PwDsXYXlHI74jWa9cr7yvUJpX4JnIy/uVAd9G/mMTk5RXlUwsfobfTyhckImVa0CdampHnLaJHxCMVvxK01TlKWWiQmk6gfv1UjPqeLkRenx5ZJm+Gn9JmaM8FpmfaaPH07ba2nBf5EG/8tRB8atP3gFp6tLYbWvq+jf09RrS3ociK/d/k8qUnyh3JMY1oDSjQG3HdY83Y7146TQI0CFMAyqrDAT8St9Kxc9OzwvmVH9fxb9LGJZCjSxNTGzR0G+96KL4c8Piy/hjzVHC1/U6nEi9fT29khrgn71uSvgaSQ+nfXKNXsFvp/Lt4x1Cr0dd/k3Zjh+qPp9SJigblLCEXnHZJjW1I2xPdJjJ2+SgKro6UdlFGo5T/kX598S8uGyPRHVjOfi+al1UR839PRSWPhrxfe+flFvCmYmhf47OTprn29BL+Bmrnmqa/ze0bQ2tld82ereSp3inoylLY7Yt07ZbKscTaa9vJ/+38RTFT0LFofi/oxVK+PkJ6+zTzfFZCl8/HcPocV061s86EUCgBQrkq027lH9W/Lsb3qH6mhKWThopVW5MzPArD37QeV1i2gfDlCrlHJ9oguKvdU3kdRqr3n7W3tc9NrLuSzReqfhBW2OX5HakWv/Jmumv/+nEg/Xxb4p2uLl3ojYq/t2F5BKXbVJXO5Lb5dOZuk1S1fU1zSxS4rI9UrWhJc/zK4MrlacVv50tuVyuGX4QGz1R5Z1G/263d5riUKapktGTh7XV+U49uLO2BTLssWmqT6q2tYTtVhv15/Wgvy+71rZQBj62UHX6QaRe/jUBP5H5jci8ljAaPa5rCe2hDQggkAaBB7XOicopynnKK8p2pafiZYbiHUTvgIxUnlfWKO2UsPxII+uVixTvPPmZbU86i+/gRifiHanbE+P9NfTSWPX+nda1WPGz8ucrfrD2c6WxSm3t8Me+p3jH+hRlirJI8TpED/7q45/udjyiOvmBkL+XekfSXuNhicM2qasdcdom3xX8BOUUxT+7Pl2pXKx4icP2qK5p6/h/XzVzlTJX8fHo50iTQfFO4jLl98oZyqWKf8/535RML75v9n323crexLhP+2fKy1XK3yufUIYoX1b2Kd9WMr3U1bY4b7dk+3M14yuKv/8GKZ9X/D34lBK3coMqXKrcpIxQfqz48U6hEufyoCpf23FdnNtG3RFAIE0Cz2i9m5Qyxc+M+fRgJSxZGrlX8VsofMfpBytDlWjxzuEsxc/k+j/gv1T8YCadZZJW7h3B5BRpnpfGqrffHuodQD+A8bPwTyjhAYxGT7hM0hqS2+DTRYp3pvzAz/+xPaisU36iJP9jVR//dLcjVRt83jQlLHHYJnW1I07b5HHBr1P8s+3vIf/shp1BjcbmM+J1bQ1lmhpZ0/sv2v4BmnhR2a/4yTs/+MtRMr0UqYKp2jcpUfHLNFyi+L62RFmqfEnxqzaZXopUwdra5vWP63bzukfLGE28oexWDijvKXcoeUocyz+p0usV308uVMYrcS/PqAG1HdfFvX3UHwEEEEAAAQQQQAABBBBAAAEEEEAAAQQQQAABBBBAAAEEEEAAAQQQQAABBBBAAAEEEEAAAQQQQAABBBBAAAEEEEAAAQQQQAABBBBAAAEEEEAAAQQQQAABBBBAAAEEEEAAAQQQQAABBBBAAAEEEEAAAQQQQAABBBBAAAEEEEAAAQQQQAABBBBAAAEEEEAAAQQQaHSBaVqj/+HexizztbKHG3OFrAsBBBBAoFEEpmkt7PMbhZKVIIBAfQWy67sgyyGAQFoEirTWqkQOarhauVvJUbw8qwwNxpr+fzfpJf+vhpedpvlhvaPD0hqWZzYCCCCAgFmREMJ9Jvt83hEIIJARAuFBZ0ZUhkog0EoFXlK7v6DkKZcrsxQ/ULhfOZCIBk1ertYr/rqWV92jx4YlPe4HOuksuVq521AQQACBuAqwz6//lmOfX38rlkTguAW4QnjcdDwRgUYTKNOatijrlUeVuYp3xrxMU8Lbh7I07o/9XvFxL92UDcq9PpEon9Dwd0qJslX5qdJDaUhpp4UvUWrrEHrnz+sdjb9eWOZr5D+VB5Sdii83U4mWLpr4L2W74h3M15QzlLDM1MhS5e+VtUp4BbJA4z9T9ikblX9W5isPK178Kuu7wdjR//N13Xf0LKYQQACBJhVgn88+v0nfcLwYAnUJ0CGsS4jHEWh6Ae/0+FnR5OIdsJuUcYp3gLx4B9I7RGGH0DtY3qlaopylXKYUKrOVhpQpWtjXu7whT0qxrNfXO23jlf+neEftYiUsczTSS/Ero2OVxcqrind0wzJEI9cp1yqjEzMf0vB85dPKpcok5UwlLE9oZITiVmHxx0cpT4YzGCKAAAIZIMA+n31+BrwNqQICCCCAQHMJFOmFn0+8uF/1+6TiBwffS8ybpuHuxHg4+KxG/FbS7yp+FfBUJSzf0ohfQYyWkzXhncmhiZnzNXw4MV7T4Cd6IKxDqmWmaaav018/Gr8yGZb5GvnfcCIxfFPD+xPjF2hYrPitstGyWhO3JGbM1NBvEe2ZmPaBXx30eVN9IlE6a+gdz2i7XtT0I4nHfeBXK+dFphlFAAEEmlqgSC/IPv9odfb5R3swhUCTC+Q0+SvyggggkCzwKc3wTlVbxa/a/1yZqdRU/KraZ5RvKF9WVilh8dstL1J8fcllsGasTJ6ZYto7plcp16d4LDprrybGRGdo3Duq0fJOdELjmxW/IujF65qvfOwTkdJe417XsKzXyPZwQsNBilt55zIs3rFcEU4kho9p6FcKv6pUKp9TblcoCCCAQHMKsM8/Wp99/tEeTCHQ5AJ0CJucnBdE4BgBv2rlHTu/6rVJKVdqKx30oN9eWaFErw76c7yD9Rtlhk8kFe+M1aecrYV83/CnOhb2Tpaf2a2tHEp60K8qeqfXi9fV6zRJSS7Rq6J+5e94ijv4d3W88+y23on8hUJBAAEEmlOAff6x+uzzjzVhDgJNJkCHsMmoeSEEahTwDk9dHavok7+vCe+MXa68qLygvKZ48e/gXaesU+rqWGqRlOVqzfV1eoczncXr2lvxeq5T6lvWaEHvaI5TPkw8yW8ZHar8MTHtA1/vU8oXFO8QPqMkX8HULAoCCCDQpALs89nnN+kbjhdDoC6B8Ex9XcvxOAIIZIbAlarGzcrnlVcU/56fd3q6Kl5mKd2UpxXvMPmtl5cqTyptlPoU/6GWX9djwSwt4x265NR3vzJXz12g+PdpLlFOUc5T/lU5S6mp7NUD3mZv+0XK6crjineS/QpktPyXJiYr/uM6T0QfYBwBBBCIgQD7fDP2+TF4o1LFeAvU98At3q2k9gi0DIGeaoZ3fGYqfnXNyz3KVuVRn1DxW07PV7zz97KyTHlY8dtxvMNUV/EO5BAl+YdpUj2vk2ZuTpHwO4KpnhOd5523K5Q/Kt5hXan4VbwBireptuLfC/TO5G8V71i+rryvlCrRskoTfuvrcmVh9AHGEUAAgQwXYJ9/ZAOxzz9iwRgCCCCAAAJpFfB/dP021LiVjqqwd3r/LqnifhVzteLtoiCAAAIIHC3APv9oD6YQQAABBBBo9QLXS+DCGCicqTr+leJXNMcoftupdwh7KGHxs+u3Kf6Lq+EtteFjDBFAAAEEqn9Nmn0+7wQEEEAAAQQQiJ2AdwgXKd7Z26n49ylHKtHit6RuVz4Xnck4AggggEDsBNjnx26TUWEEEEAAAQQQQAABBBBAAAEEEEAAAQQQQAABBBBAAAEEEEAAAQQQQAABBBBAAAEEEEAAAQQQQAABBBBAAAEEEEAAAQQQQAABBBBAAAEEEEAAAQQQQAABBBBAAAEEEEAAAQQQQAABBBBAAAEEEEAAAQQQQAABBBBAAAEEEEAAAQQQQAABBBBAAAEEEEAAAQQQQAABBBBAAAEEEEAAAQQQQAABBBBAAAEEEEAAAQQQQAABBBBAAAEEEEAAAQQQQAABBBBAAAEEEEAAAQQQQAABBBBAAAEEEEAAAQQQQAABBBBAAAEEEEAAAQQQQAABBBBAAAEEEEAAAQQQQAABBBBAAAEEEEAAAQQQQAABBBBAAAEEEEAAAQQQQAABBBBAAAEEEEAAAQQQQAABBBBAAAEEEEAAAQQQQAABBBBAAAEEEEAAAQQQQAABBBBAAAEEEEAAAQQQQAABBBBAAAEEEEAAAQQQQAABBBBAAAEEEEAAAQQQQAABBBBAAAEEEEAAAQQQQAABBBBAAAEEEEAAAQQQQAABBBBAAAEEEEAAAQQQQAABBBBAAAEEEEAAAQQQQAABBBBAAAEEEEAAAQQQQAABBBBAAAEEEEAAAQQQQAABBBBAAAEEEEAAAQQQQAABBBBAAAEEEEAAAQQQQAABBBBAAAEEEEAAAQQQQAABBBBAAAEEEEAAAQQQQAABBBBAAAEEEEAAAQQQQAABBBBAAAEEEEAAAQQQQAABBBBAAAEEEEAAAQQQQAABBBBAAAEEEEAAAQQQQAABBBBAAAEEEEAAAQQQQAABBBBAAAEEEEAAAQQQQAABBBBAAAEEEEAAAQQQQAABBBBAAAEEEEAAAQQQQAABBBBAAAEEEEAAAQQQQAABBBBAAAEEEEAAAQQQQAABBBBAAAEEEEAAAQQQQAABBBBAAAEEEEAAAQQQQAABBBBAAAEEEEAAAQQQQAABBBBAAAEEEEAAAQQQQAABBBBAAAEEEEAAAQQQQAABBBBAAAEEEEAAAQQQQAABBBBAAAEEEEAAAQQQQAABBBBAAAEEEEAAAQQQQAABBBBAAAEEEEAAAQQQQAABBBBAAAEEEEAAAQQQQAABBBBAAAEEEEAAAQQQQAABBBBAAAEEEEAAAQQQQAABBBBAAAEEEEAAAQQQQAABBBBAAAEEEEAAAQQQQAABBBBAAAEEEEAAAQQQQAABBBBAAAEEEEAAAQQQQAABBBBAAAEEEEAAAQQQQAABBBBAAAEEEEAAAQQQQAABBBBAAAEEEEAAAQQQQAABBBBAAAEEEEAAAQQQQAABBBBAAAEEEGgsgf8POIDWps/VqTIAAAAASUVORK5CYII=\" width=\"900\">"
      ],
      "text/plain": [
       "<IPython.core.display.HTML object>"
      ]
     },
     "metadata": {},
     "output_type": "display_data"
    }
   ],
   "source": [
    "## DISPLAY WIDGETS ##\n",
    "display(widgets.HBox((input_folder_widget, output_folder_widget, output_header_widget)))\n",
    "display(widgets.HBox((output_filename_widget,scan_number_widget)))\n",
    "display(widgets.HBox((zero_energy_widget,align_min_widget,align_max_widget)))\n",
    "display(widgets.HBox((ee_pix_widget,plot_range_widget)))\n",
    "display(widgets.HBox((load_plot_button, reset_shifts_button, fit_button, align_button, save_data_button)))"
   ]
  },
  {
   "cell_type": "code",
   "execution_count": 8,
   "metadata": {
    "collapsed": false,
    "deletable": true,
    "editable": true,
    "extensions": {
     "jupyter_dashboards": {
      "version": 1,
      "views": {
       "grid_default": {
        "col": 0,
        "height": 7,
        "hidden": false,
        "row": 40,
        "width": 4
       },
       "report_default": {}
      }
     }
    }
   },
   "outputs": [
    {
     "data": {
      "application/vnd.jupyter.widget-view+json": {
       "model_id": "aa4ad3bb2e884fb58639f228095d7b61",
       "version_major": 2,
       "version_minor": 0
      },
      "text/plain": [
       "Textarea(value='', description='Messages')"
      ]
     },
     "metadata": {},
     "output_type": "display_data"
    }
   ],
   "source": [
    "message_widget"
   ]
  },
  {
   "cell_type": "code",
   "execution_count": 9,
   "metadata": {
    "collapsed": false,
    "deletable": true,
    "editable": true,
    "extensions": {
     "jupyter_dashboards": {
      "version": 1,
      "views": {
       "grid_default": {
        "col": 4,
        "height": 4,
        "hidden": false,
        "row": 40,
        "width": 4
       },
       "report_default": {}
      }
     }
    },
    "scrolled": false
   },
   "outputs": [
    {
     "data": {
      "text/html": [
       "<script>\n",
       "code_show=true; \n",
       "function code_toggle() {\n",
       " if (code_show){\n",
       " $('div.input').hide();\n",
       " } else {\n",
       " $('div.input').show();\n",
       " }\n",
       " code_show = !code_show\n",
       "} \n",
       "$( document ).ready(code_toggle);\n",
       "</script>\n",
       "<form action=\"javascript:code_toggle()\"><input type=\"submit\" value=\"Click here to show/hide code.\"></form>"
      ],
      "text/plain": [
       "<IPython.core.display.HTML object>"
      ]
     },
     "execution_count": 9,
     "metadata": {},
     "output_type": "execute_result"
    }
   ],
   "source": [
    "from IPython.display import HTML\n",
    "\n",
    "HTML('''<script>\n",
    "code_show=true; \n",
    "function code_toggle() {\n",
    " if (code_show){\n",
    " $('div.input').hide();\n",
    " } else {\n",
    " $('div.input').show();\n",
    " }\n",
    " code_show = !code_show\n",
    "} \n",
    "$( document ).ready(code_toggle);\n",
    "</script>\n",
    "<form action=\"javascript:code_toggle()\"><input type=\"submit\" value=\"Click here to show/hide code.\"></form>''')"
   ]
  },
  {
   "cell_type": "code",
   "execution_count": null,
   "metadata": {
    "collapsed": true,
    "deletable": true,
    "editable": true
   },
   "outputs": [],
   "source": []
  }
 ],
 "metadata": {
  "anaconda-cloud": {},
  "extensions": {
   "jupyter_dashboards": {
    "activeView": "grid_default",
    "version": 1,
    "views": {
     "grid_default": {
      "cellMargin": 10,
      "defaultCellHeight": 20,
      "maxColumns": 12,
      "name": "grid",
      "type": "grid"
     },
     "report_default": {
      "name": "report",
      "type": "report"
     }
    }
   }
  },
  "kernelspec": {
   "display_name": "Python 3",
   "language": "python",
   "name": "python3"
  },
  "language_info": {
   "codemirror_mode": {
    "name": "ipython",
    "version": 3
   },
   "file_extension": ".py",
   "mimetype": "text/x-python",
   "name": "python",
   "nbconvert_exporter": "python",
   "pygments_lexer": "ipython3",
   "version": "3.6.1"
  },
  "widgets": {
   "state": {
    "072bfd30733740398edd54e2c2165cbb": {
     "views": [
      {
       "cell_index": 11
      }
     ]
    },
    "0793123681d6437783ccdfe37f54fc63": {
     "views": [
      {
       "cell_index": 13
      }
     ]
    },
    "0a1f4028fc554878aff20ee0eb83470c": {
     "views": [
      {
       "cell_index": 9
      }
     ]
    },
    "0d39d0003dbe48ad81e81483c8cc67c4": {
     "views": [
      {
       "cell_index": 11
      }
     ]
    },
    "0e24ac5a30344da5b43c070a50a71477": {
     "views": [
      {
       "cell_index": 13
      }
     ]
    },
    "0e51ed610cef4ca49f6b3f1f207cb6df": {
     "views": [
      {
       "cell_index": 13
      }
     ]
    },
    "0ef17a7e30974192b00cccefb8924b7b": {
     "views": [
      {
       "cell_index": 13
      }
     ]
    },
    "145266230418484ea96fa9d3b4128623": {
     "views": [
      {
       "cell_index": 13
      }
     ]
    },
    "18a7f55d93884402b63d3472fc144e51": {
     "views": [
      {
       "cell_index": 5
      }
     ]
    },
    "24439e668f05443fbbc1602c843b9a88": {
     "views": [
      {
       "cell_index": 11
      }
     ]
    },
    "2467612db6894164a7e426f5819087dc": {
     "views": [
      {
       "cell_index": 11
      }
     ]
    },
    "2508ba11b2214f70b39330a0b77ac5b6": {
     "views": [
      {
       "cell_index": 9
      }
     ]
    },
    "253282e7222b4118828cb7767a8c71ec": {
     "views": [
      {
       "cell_index": 11
      }
     ]
    },
    "28e4749716d2426fa5c1580ebbe8d2be": {
     "views": [
      {
       "cell_index": 7
      }
     ]
    },
    "2991451571b64014b037b4f0488e5ae0": {
     "views": [
      {
       "cell_index": 11
      }
     ]
    },
    "2c1062f573fc487c89b6e8d9613dc482": {
     "views": [
      {
       "cell_index": 5
      }
     ]
    },
    "2ec61f20e0d045f1b6c2fc2aee65893d": {
     "views": [
      {
       "cell_index": 7
      }
     ]
    },
    "2f79bed956bf47deb19b683b868d17bd": {
     "views": [
      {
       "cell_index": 13
      }
     ]
    },
    "315a2cc2f84941e18a7b6094708e7e0b": {
     "views": [
      {
       "cell_index": 15
      }
     ]
    },
    "375105929e714f509b17b1810629237b": {
     "views": [
      {
       "cell_index": 15
      }
     ]
    },
    "43addfc9ce1348399416e2d0741acef2": {
     "views": [
      {
       "cell_index": 7
      }
     ]
    },
    "46fe2f73bb7243419262124cda7b8b32": {
     "views": [
      {
       "cell_index": 13
      }
     ]
    },
    "47df274aadde46a092c890bd428da28f": {
     "views": [
      {
       "cell_index": 5
      }
     ]
    },
    "49070fb467044ddd967043b0442c0d73": {
     "views": [
      {
       "cell_index": 5
      }
     ]
    },
    "4ebbdf87b2c94ffdb4eadf5fe8ba3e74": {
     "views": [
      {
       "cell_index": 13
      }
     ]
    },
    "4f90bc63f05c45cca672e054376706bd": {
     "views": [
      {
       "cell_index": 7
      }
     ]
    },
    "52830e9759864db88c41df0f6ff0cb9e": {
     "views": [
      {
       "cell_index": 7
      }
     ]
    },
    "55d5a833bf2947389069bf3719b00a95": {
     "views": [
      {
       "cell_index": 9
      },
      {
       "cell_index": 9
      }
     ]
    },
    "56a523424b154f66981b9bf9f71252ac": {
     "views": [
      {
       "cell_index": 13
      }
     ]
    },
    "57b102675c1743f9a7b13d78ca89bc9f": {
     "views": [
      {
       "cell_index": 15
      }
     ]
    },
    "5c3d8fd13866450bba11969f63118cbb": {
     "views": [
      {
       "cell_index": 7
      }
     ]
    },
    "5da527c5eab14d6caa1de6cee4d51b75": {
     "views": [
      {
       "cell_index": 5
      }
     ]
    },
    "60d2804264174a438d8b4d60eb5910ab": {
     "views": [
      {
       "cell_index": 15
      }
     ]
    },
    "62524d30d1dc476293483229a3c6dde9": {
     "views": [
      {
       "cell_index": 7
      }
     ]
    },
    "62dc47814b574356b4549a5377fbc1a7": {
     "views": [
      {
       "cell_index": 9
      }
     ]
    },
    "6305515d0be34e04b1ac00de6fb0829f": {
     "views": [
      {
       "cell_index": 9
      }
     ]
    },
    "6c395a3e8eb54280b4c42bfe63a6b879": {
     "views": [
      {
       "cell_index": 9
      }
     ]
    },
    "6ea0234ccfe24e67b2bd268010947ab1": {
     "views": [
      {
       "cell_index": 5
      }
     ]
    },
    "704b9c734ce24350a61b2eff9465eafe": {
     "views": [
      {
       "cell_index": 7
      }
     ]
    },
    "73d0b7e2b2ec44b8b95081be684840c2": {
     "views": [
      {
       "cell_index": 15
      }
     ]
    },
    "74d5f279cd1d447e9e662c52af3a31a1": {
     "views": [
      {
       "cell_index": 5
      }
     ]
    },
    "75b1e90c83c340d0aed738d7d999ef7a": {
     "views": [
      {
       "cell_index": 7
      }
     ]
    },
    "78e8c5db6db249078b371e98da3955cf": {
     "views": [
      {
       "cell_index": 15
      }
     ]
    },
    "7972b050f8114b928d8d460b3b4481ea": {
     "views": [
      {
       "cell_index": 13
      }
     ]
    },
    "798ccdc0ba724c298c83556f6d0e02f0": {
     "views": [
      {
       "cell_index": 13
      }
     ]
    },
    "79ab9ce45a3e4437b607f77ab8d17032": {
     "views": [
      {
       "cell_index": 5
      }
     ]
    },
    "7c26d3479cae4a8b906adebc238514f7": {
     "views": [
      {
       "cell_index": 7
      }
     ]
    },
    "81138056395745ec8f808c533abacf7a": {
     "views": [
      {
       "cell_index": 7
      }
     ]
    },
    "8251118f21f54e5bb6fe1ad2378823ad": {
     "views": [
      {
       "cell_index": 9
      }
     ]
    },
    "83d48138ddfb43f59075ab1e6011fa4c": {
     "views": [
      {
       "cell_index": 9
      },
      {
       "cell_index": 9
      }
     ]
    },
    "84d8aba2d297474b97f2663ad0ef4e6c": {
     "views": [
      {
       "cell_index": 5
      }
     ]
    },
    "85b6cc04f0924de0a723cb427daf3061": {
     "views": [
      {
       "cell_index": 7
      },
      {
       "cell_index": 7
      }
     ]
    },
    "876da6b70ef048a3ae149ad7c54d2341": {
     "views": [
      {
       "cell_index": 5
      }
     ]
    },
    "8b43f85af6964447a093dd191adc8e45": {
     "views": [
      {
       "cell_index": 13
      }
     ]
    },
    "8c6c7bf465b84f3882a11386bdda79eb": {
     "views": [
      {
       "cell_index": 13
      }
     ]
    },
    "8cb06536168548d2a81fd9db19a3d2ab": {
     "views": [
      {
       "cell_index": 5
      }
     ]
    },
    "9329e6d12cbf4b98bc4b73b44b1504f7": {
     "views": [
      {
       "cell_index": 15
      }
     ]
    },
    "947d88807a9643159e47aa95e598c8c0": {
     "views": [
      {
       "cell_index": 5
      },
      {
       "cell_index": 5
      }
     ]
    },
    "97dcde95ad7d406dbff4aa211fec3fb0": {
     "views": [
      {
       "cell_index": 5
      },
      {
       "cell_index": 7
      }
     ]
    },
    "9bf45338e8134500b5440b0e80873f93": {
     "views": [
      {
       "cell_index": 9
      },
      {
       "cell_index": 9
      },
      {
       "cell_index": 9
      }
     ]
    },
    "a43b4bc6dbba4bf8ae0c28cfad8351f6": {
     "views": [
      {
       "cell_index": 7
      }
     ]
    },
    "a6de0ef2cd2d4590a33f2def2046e3c2": {
     "views": [
      {
       "cell_index": 13
      }
     ]
    },
    "a7f0a66af9474ae1b290f7a0cd3b7193": {
     "views": [
      {
       "cell_index": 15
      }
     ]
    },
    "a9fc1ffe96674ea3abcb849c302e9430": {
     "views": [
      {
       "cell_index": 13
      }
     ]
    },
    "abfed95e42b24cba9f848dfbcf6e23ed": {
     "views": [
      {
       "cell_index": 11
      }
     ]
    },
    "adeedc8c420449bb9fe1153ccf33e976": {
     "views": [
      {
       "cell_index": 5
      }
     ]
    },
    "b00afb7bd01e486bbb4bc4ccdcba1cb8": {
     "views": [
      {
       "cell_index": 7
      }
     ]
    },
    "b3748a3712ad43c2b6ed1c67a5ebeb88": {
     "views": [
      {
       "cell_index": 7
      }
     ]
    },
    "b48b905cbd73479390d2f7c8c1e31cb4": {
     "views": [
      {
       "cell_index": 13
      }
     ]
    },
    "ba093135995d45f6ac824d888debfb99": {
     "views": [
      {
       "cell_index": 7
      }
     ]
    },
    "bb48841d0d7040eb8cc49f3a49f00f93": {
     "views": [
      {
       "cell_index": 7
      }
     ]
    },
    "bd3a06860c4748b6abaec76a5c8665a8": {
     "views": [
      {
       "cell_index": 15
      }
     ]
    },
    "bf4820f2b6944835963555c6933b7da5": {
     "views": [
      {
       "cell_index": 9
      }
     ]
    },
    "c0e94fe70c9d4afb913323fc66e83f17": {
     "views": [
      {
       "cell_index": 13
      }
     ]
    },
    "c3f6543368474aa8b230d11fd60a0dbb": {
     "views": [
      {
       "cell_index": 5
      }
     ]
    },
    "c5e81abf2ce2499da098efb13901d5c0": {
     "views": [
      {
       "cell_index": 7
      }
     ]
    },
    "c9b39c116d4e46e8a8f83200f26a036c": {
     "views": [
      {
       "cell_index": 5
      }
     ]
    },
    "cc5fae9507634c1ba64cc3afcced984a": {
     "views": [
      {
       "cell_index": 7
      }
     ]
    },
    "ceddeab51ad04e90b5dd6eefe3090af3": {
     "views": [
      {
       "cell_index": 5
      }
     ]
    },
    "d116b8ad5212410e8a09dc67ed9cb24e": {
     "views": [
      {
       "cell_index": 7
      }
     ]
    },
    "d4f852ce5ca745cc9e86e108299b531c": {
     "views": [
      {
       "cell_index": 15
      }
     ]
    },
    "d5c51513b24245d280de3294ff5fea45": {
     "views": [
      {
       "cell_index": 15
      }
     ]
    },
    "d9cd0839d97b4f4187a76919d6fcc6b2": {
     "views": [
      {
       "cell_index": 9
      }
     ]
    },
    "db19910c97394bcca0f298a3b2201c53": {
     "views": [
      {
       "cell_index": 5
      }
     ]
    },
    "de3a47b0d94e436b97bd5b9d37733db3": {
     "views": [
      {
       "cell_index": 11
      }
     ]
    },
    "e3ee9c119cbd47c0814d69d2e4276abc": {
     "views": [
      {
       "cell_index": 5
      }
     ]
    },
    "e6c446e766974ea5b34ea4ebaba5fdf6": {
     "views": [
      {
       "cell_index": 9
      }
     ]
    },
    "e973fa5688de40c5b0ae89bd7d2eb59b": {
     "views": [
      {
       "cell_index": 13
      }
     ]
    },
    "eb2628ae591b4ed8a452ea89aab430cc": {
     "views": [
      {
       "cell_index": 5
      }
     ]
    },
    "ebfbd6435b634b588ebebc0d8f4cdcdb": {
     "views": [
      {
       "cell_index": 5
      }
     ]
    },
    "ee1bb684c0f8410eb678142c8156f004": {
     "views": [
      {
       "cell_index": 11
      }
     ]
    },
    "f275a7f5665c402486089eb26b0e9c5f": {
     "views": [
      {
       "cell_index": 15
      }
     ]
    },
    "f375841d7b044d6ca1fa2c7d8cd589b3": {
     "views": [
      {
       "cell_index": 13
      }
     ]
    },
    "f5dee7eebe2e48a6b519a21c3886e5bc": {
     "views": [
      {
       "cell_index": 7
      }
     ]
    },
    "f8544638599d43ae87c0ef947b650f63": {
     "views": [
      {
       "cell_index": 11
      }
     ]
    },
    "f87b1243bb4d4e8fa729c32b9267a617": {
     "views": [
      {
       "cell_index": 5
      }
     ]
    }
   },
   "version": "1.2.0"
  }
 },
 "nbformat": 4,
 "nbformat_minor": 1
}
